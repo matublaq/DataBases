{
 "cells": [
  {
   "cell_type": "code",
   "execution_count": 1,
   "metadata": {
    "is_executing": true
   },
   "outputs": [],
   "source": [
    "import pandas as pd\n",
    "import numpy as np\n",
    "import matplotlib.pyplot as plt\n",
    "import openpyxl\n",
    "#--- Web scriping ---\n",
    "import requests\n",
    "from bs4 import BeautifulSoup\n",
    "#--- ------------ ---\n",
    "from datetime import datetime, date, timedelta\n",
    "#from googletrans import Translator "
   ]
  },
  {
   "attachments": {},
   "cell_type": "markdown",
   "metadata": {},
   "source": [
    "# <font style=\"font-size: 80px\"><font color=\"yellow\">C</font><font style=\"color: whitesmoke\">onsume </font><font color=\"yellow\">P</font><font style=\"color: whitesmoke\">roduct </font><font color=\"yellow\">I</font><font style=\"color: whitesmoke\">ndex </font>(<font color=\"yellow\">CPI</font>)</font>"
   ]
  },
  {
   "cell_type": "markdown",
   "metadata": {},
   "source": [
    "### Getting data"
   ]
  },
  {
   "cell_type": "code",
   "execution_count": 2,
   "metadata": {},
   "outputs": [
    {
     "name": "stdout",
     "output_type": "stream",
     "text": [
      "Download success, status code 200\n"
     ]
    }
   ],
   "source": [
    "url = 'https://thedocs.worldbank.org/en/doc/1ad246272dbbc437c74323719506aa0c-0350012021/original/Inflation-data.xlsx'\n",
    "local_path = 'InflationWorldData.xlsx'\n",
    "\n",
    "try: \n",
    "    response = requests.get(url)\n",
    "\n",
    "    if(response.status_code == 200):\n",
    "        with open(local_path, 'wb') as file:\n",
    "            file.write(response.content)\n",
    "        print(f'Download success, status code {response.status_code}')\n",
    "    else:\n",
    "        print(f'Download Error, status code {response.status_code}')\n",
    "except: \n",
    "    pass"
   ]
  },
  {
   "cell_type": "code",
   "execution_count": 3,
   "metadata": {
    "is_executing": true
   },
   "outputs": [],
   "source": [
    "excel = \"InflationWorldData.xlsx\"\n",
    "sheets = openpyxl.load_workbook(excel) #https://data.worldbank.org/indicator/FP.CPI.TOTL.ZG"
   ]
  },
  {
   "cell_type": "code",
   "execution_count": 4,
   "metadata": {},
   "outputs": [
    {
     "name": "stdout",
     "output_type": "stream",
     "text": [
      "['Intro', 'top', 'hcpi_m', 'hcpi_q', 'hcpi_a', 'ecpi_m', 'ecpi_q', 'ecpi_a', 'fcpi_m', 'fcpi_q', 'fcpi_a', 'ccpi_m', 'ccpi_q', 'ccpi_a', 'ppi_m', 'ppi_q', 'ppi_a', 'def_q', 'def_a', 'Aggregate']\n"
     ]
    }
   ],
   "source": [
    "print(sheets.sheetnames)"
   ]
  },
  {
   "cell_type": "code",
   "execution_count": 5,
   "metadata": {},
   "outputs": [],
   "source": [
    "CPIa = pd.read_excel(excel, sheet_name=\"hcpi_a\")"
   ]
  },
  {
   "cell_type": "markdown",
   "metadata": {},
   "source": [
    "---"
   ]
  },
  {
   "attachments": {},
   "cell_type": "markdown",
   "metadata": {},
   "source": [
    "### <font style=\"color: yellow\">Columns</font>"
   ]
  },
  {
   "cell_type": "code",
   "execution_count": 6,
   "metadata": {},
   "outputs": [],
   "source": [
    "CPIa.drop(columns=[\"Note\", \"IMF Country Code\", \"Indicator Type\", \"Series Name\"], inplace=True)\n",
    "CPIa.rename(columns={\"Country Code\":\"Code\"}, inplace=True)\n",
    "CPIa[[\"Code\", \"Country\"]] = CPIa[[\"Country\", \"Code\"]]\n",
    "CPIa.rename(columns={\"Code\":\"Country\", \"Country\":\"Code\"}, inplace=True) #If the name not exist previously to the function are not changed"
   ]
  },
  {
   "cell_type": "code",
   "execution_count": 7,
   "metadata": {},
   "outputs": [],
   "source": [
    "CPIa.columns = CPIa.columns.astype(str)"
   ]
  },
  {
   "cell_type": "code",
   "execution_count": 8,
   "metadata": {},
   "outputs": [
    {
     "data": {
      "text/plain": [
       "205"
      ]
     },
     "execution_count": 8,
     "metadata": {},
     "output_type": "execute_result"
    }
   ],
   "source": [
    "len(CPIa[\"Country\"])"
   ]
  },
  {
   "cell_type": "code",
   "execution_count": 9,
   "metadata": {},
   "outputs": [
    {
     "name": "stdout",
     "output_type": "stream",
     "text": [
      "{nan: 2}\n"
     ]
    }
   ],
   "source": [
    "countryCount = {}\n",
    "for i in CPIa[\"Country\"]:\n",
    "    if countryCount.get(i):\n",
    "        countryCount[i] += 1\n",
    "    else:\n",
    "        countryCount[i] = 1\n",
    "\n",
    "country_repeat = {k: v for k, v in countryCount.items() if(v>=2)}\n",
    "print(country_repeat)"
   ]
  },
  {
   "cell_type": "code",
   "execution_count": 10,
   "metadata": {},
   "outputs": [
    {
     "name": "stdout",
     "output_type": "stream",
     "text": [
      "<class 'pandas.core.frame.DataFrame'>\n",
      "RangeIndex: 205 entries, 0 to 204\n",
      "Data columns (total 56 columns):\n",
      " #   Column   Non-Null Count  Dtype  \n",
      "---  ------   --------------  -----  \n",
      " 0   Country  203 non-null    object \n",
      " 1   Code     204 non-null    object \n",
      " 2   1970     155 non-null    float64\n",
      " 3   1971     155 non-null    float64\n",
      " 4   1972     155 non-null    float64\n",
      " 5   1973     156 non-null    float64\n",
      " 6   1974     156 non-null    float64\n",
      " 7   1975     154 non-null    float64\n",
      " 8   1976     154 non-null    float64\n",
      " 9   1977     154 non-null    float64\n",
      " 10  1978     155 non-null    float64\n",
      " 11  1979     155 non-null    float64\n",
      " 12  1980     158 non-null    float64\n",
      " 13  1981     162 non-null    float64\n",
      " 14  1982     163 non-null    float64\n",
      " 15  1983     163 non-null    float64\n",
      " 16  1984     163 non-null    float64\n",
      " 17  1985     163 non-null    float64\n",
      " 18  1986     164 non-null    float64\n",
      " 19  1987     165 non-null    float64\n",
      " 20  1988     165 non-null    float64\n",
      " 21  1989     165 non-null    float64\n",
      " 22  1990     166 non-null    float64\n",
      " 23  1991     169 non-null    float64\n",
      " 24  1992     175 non-null    float64\n",
      " 25  1993     179 non-null    float64\n",
      " 26  1994     180 non-null    float64\n",
      " 27  1995     181 non-null    float64\n",
      " 28  1996     184 non-null    float64\n",
      " 29  1997     185 non-null    float64\n",
      " 30  1998     186 non-null    float64\n",
      " 31  1999     187 non-null    float64\n",
      " 32  2000     188 non-null    float64\n",
      " 33  2001     191 non-null    float64\n",
      " 34  2002     191 non-null    float64\n",
      " 35  2003     194 non-null    float64\n",
      " 36  2004     195 non-null    float64\n",
      " 37  2005     198 non-null    float64\n",
      " 38  2006     198 non-null    float64\n",
      " 39  2007     198 non-null    float64\n",
      " 40  2008     198 non-null    float64\n",
      " 41  2009     198 non-null    float64\n",
      " 42  2010     198 non-null    float64\n",
      " 43  2011     198 non-null    float64\n",
      " 44  2012     200 non-null    float64\n",
      " 45  2013     201 non-null    float64\n",
      " 46  2014     201 non-null    float64\n",
      " 47  2015     201 non-null    float64\n",
      " 48  2016     201 non-null    float64\n",
      " 49  2017     200 non-null    float64\n",
      " 50  2018     200 non-null    float64\n",
      " 51  2019     200 non-null    float64\n",
      " 52  2020     199 non-null    float64\n",
      " 53  2021     198 non-null    float64\n",
      " 54  2022     198 non-null    float64\n",
      " 55  2023     195 non-null    float64\n",
      "dtypes: float64(54), object(2)\n",
      "memory usage: 89.8+ KB\n"
     ]
    }
   ],
   "source": [
    "CPIa.info()"
   ]
  },
  {
   "attachments": {},
   "cell_type": "markdown",
   "metadata": {},
   "source": [
    "---"
   ]
  },
  {
   "attachments": {},
   "cell_type": "markdown",
   "metadata": {},
   "source": [
    "### <font style=\"color: yellow\"> This data-frame have something wrong elements? </font>"
   ]
  },
  {
   "cell_type": "code",
   "execution_count": 11,
   "metadata": {},
   "outputs": [],
   "source": [
    "nanCountry = CPIa[CPIa[\"Country\"].isna() == True]\n",
    "CPIa.drop(index=nanCountry.index, inplace=True)\n",
    "CPIa.reset_index(inplace=True, drop=True)"
   ]
  },
  {
   "cell_type": "code",
   "execution_count": 12,
   "metadata": {},
   "outputs": [
    {
     "data": {
      "text/plain": [
       "Series([], dtype: bool)"
      ]
     },
     "execution_count": 12,
     "metadata": {},
     "output_type": "execute_result"
    }
   ],
   "source": [
    "#CPIa.loc[CPIa[\"Country\"] == \"Angola\", \"1970\"] = \"Hello\"\n",
    "aux = CPIa.iloc[:, 2:]\n",
    "dataFilter = aux.select_dtypes(exclude=[\"float\"]).any()\n",
    "dataFilter"
   ]
  },
  {
   "attachments": {},
   "cell_type": "markdown",
   "metadata": {},
   "source": [
    "---"
   ]
  },
  {
   "attachments": {},
   "cell_type": "markdown",
   "metadata": {},
   "source": [
    "### <font style=\"color: yellow\"> Sorting the data </font>"
   ]
  },
  {
   "cell_type": "code",
   "execution_count": 13,
   "metadata": {},
   "outputs": [
    {
     "name": "stdout",
     "output_type": "stream",
     "text": [
      "{'Afghanistan': 0.018518518518518517, 'Albania': 0.37037037037037035, 'Algeria': 0.0, 'Angola': 0.0, 'Antigua and Barbuda': 0.0, 'Argentina': 0.0, 'Armenia': 0.42592592592592593, 'Aruba': 0.48148148148148145, 'Australia': 0.0, 'Austria': 0.0, 'Azerbaijan': 0.3888888888888889, 'Bahamas, The': 0.0, 'Bahrain': 0.0, 'Bangladesh': 0.0, 'Barbados': 0.0, 'Belarus': 0.0, 'Belgium': 0.0, 'Belize': 0.0, 'Benin': 0.0, 'Bhutan': 0.05555555555555555, 'Bolivia': 0.0, 'Bosnia and Herzegovina': 0.46296296296296297, 'Botswana': 0.0, 'Brazil': 0.0, 'British Virgin Islands': 0.8333333333333334, 'Brunei Darussalam': 0.0, 'Bulgaria': 0.0, 'Burkina Faso': 0.0, 'Burundi': 0.0, 'Cabo Verde': 0.0, 'Cambodia': 0.2222222222222222, 'Cameroon': 0.0, 'Canada': 0.0, 'Cayman Islands': 0.5, 'Central African Republic': 0.0, 'Chad': 0.0, 'Chile': 0.0, 'China': 0.0, 'Colombia': 0.0, 'Comoros': 0.0, 'Congo, Dem. Rep.': 0.0, 'Congo, Rep.': 0.0, 'Costa Rica': 0.0, \"Côte d'Ivoire\": 0.0, 'Croatia': 0.2037037037037037, 'Curacao': 0.12962962962962962, 'Cyprus': 0.0, 'Czech Republic': 0.0, 'Denmark': 0.0, 'Djibouti': 0.0, 'Dominica': 0.0, 'Dominican Republic': 0.0, 'Ecuador': 0.0, 'Egypt, Arab Rep.': 0.0, 'El Salvador': 0.0, 'Equatorial Guinea': 0.0, 'Eritrea': 0.42592592592592593, 'Estonia': 0.3888888888888889, 'Ethiopia': 0.0, 'Fiji': 0.0, 'Finland': 0.0, 'France': 0.0, 'Gabon': 0.0, 'Gambia, The': 0.0, 'Georgia': 0.4074074074074074, 'Germany': 0.0, 'Ghana': 0.0, 'Greece': 0.0, 'Grenada': 0.0, 'Guatemala': 0.0, 'Guinea': 0.0, 'Guinea-Bissau': 0.0, 'Guyana': 0.0, 'Haiti': 0.0, 'Honduras': 0.0, 'Hong Kong SAR, China': 0.18518518518518517, 'Hungary': 0.0, 'Iceland': 0.0, 'India': 0.0, 'Indonesia': 0.0, 'Iran, Islamic Rep.': 0.0, 'Iraq': 0.0, 'Ireland': 0.0, 'Israel': 0.0, 'Italy': 0.0, 'Jamaica': 0.0, 'Japan': 0.0, 'Jordan': 0.0, 'Kazakhstan': 0.4074074074074074, 'Kenya': 0.0, 'Kiribati': 0.18518518518518517, 'Korea, Rep.': 0.0, 'Kosovo': 0.6111111111111112, 'Kuwait': 0.0, 'Kyrgyz Republic': 0.4074074074074074, 'Lao PDR': 0.0, 'Latvia': 0.4074074074074074, 'Lebanon': 0.0, 'Lesotho': 0.0, 'Liberia': 0.0, 'Libya': 0.0, 'Liechtenstein': 0.7777777777777778, 'Lithuania': 0.2037037037037037, 'Luxembourg': 0.0, 'Macao SAR, China': 0.5370370370370371, 'Macedonia, FYR': 0.2222222222222222, 'Madagascar': 0.0, 'Malawi': 0.0, 'Malaysia': 0.0, 'Maldives': 0.0, 'Mali': 0.0, 'Malta': 0.0, 'Marshall Islands': 0.6296296296296297, 'Martinique': 0.9814814814814815, 'Mauritania': 0.0, 'Mauritius': 0.0, 'Mexico': 0.0, 'Micronesia, Fed. Sts.': 0.48148148148148145, 'Moldova': 0.4074074074074074, 'Mongolia': 0.3888888888888889, 'Montenegro': 0.5555555555555556, 'Montserratit': 0.5925925925925926, 'Morocco': 0.0, 'Mozambique': 0.0, 'Myanmar': 0.0, 'Namibia': 0.0, 'Nauru': 0.6481481481481481, 'Nepal': 0.0, 'Netherlands': 0.0, 'New Caledonia': 0.4444444444444444, 'New Zealand': 0.0, 'Nicaragua': 0.0, 'Niger': 0.0, 'Nigeria': 0.0, 'Niue': 0.9814814814814815, 'Norway': 0.0, 'Oman': 0.0, 'Pakistan': 0.0, 'Palau': 0.5740740740740741, 'Panama': 0.0, 'Papua New Guinea': 0.0, 'Paraguay': 0.0, 'Peru': 0.0, 'Philippines': 0.0, 'Poland': 0.0, 'Portugal': 0.0, 'Puerto Rico': 0.2037037037037037, 'Qatar': 0.0, 'Romania': 0.0, 'Russian Federation': 0.0, 'Rwanda': 0.0, 'Saint Helena': 0.6481481481481481, 'Samoa': 0.0, 'San Marino': 0.6111111111111112, 'São Tomé and Principe': 0.0, 'Saudi Arabia': 0.0, 'Senegal': 0.0, 'Serbia': 0.5185185185185185, 'Seychelles': 0.0, 'Sierra Leone': 0.0, 'Singapore': 0.0, 'Slovak Republic': 0.2962962962962963, 'Slovenia': 0.2037037037037037, 'Solomon Islands': 0.18518518518518517, 'South Africa': 0.0, 'South Sudan': 0.7777777777777778, 'Spain': 0.0, 'Sri Lanka': 0.0, 'St. Kitts and Nevis': 0.0, 'St. Lucia': 0.0, 'St. Vincent and the Grenadines': 0.0, 'Sudan': 0.0, 'Suriname': 0.0, 'Swaziland': 0.0, 'Sweden': 0.0, 'Switzerland': 0.0, 'Syrian Arab Republic': 0.12962962962962962, 'Tajikistan': 0.42592592592592593, 'Tanzania': 0.0, 'Thailand': 0.0, 'Timor-Leste': 0.6111111111111112, 'Togo': 0.0, 'Tonga': 0.0, 'Trinidad and Tobago': 0.0, 'Tunisia': 0.0, 'Turkey': 0.0, 'Turkmenistan': 0.42592592592592593, 'Turks and Caicos Islands': 0.7037037037037037, 'Tuvalu': 0.5740740740740741, 'Uganda': 0.0, 'Ukraine': 0.0, 'United Arab Emirates': 0.0, 'United Kingdom': 0.0, 'United States': 0.0, 'Uruguay': 0.0, 'Uzbekistan': 0.4074074074074074, 'Vanuatu': 0.0, 'Venezuela, RB': 0.0, 'Vietnam': 0.0, 'West Bank and Gaza': 0.5, 'Yemen, Rep.': 0.0, 'Zambia': 0.0, 'Zimbabwe': 0.0} \n",
      " []\n"
     ]
    }
   ],
   "source": [
    "nanPorcent = {}\n",
    "noData = []\n",
    "for i in CPIa[\"Country\"]:\n",
    "    rowSelected = CPIa[CPIa[\"Country\"] == i]\n",
    "    if(rowSelected.isna().any().any()):\n",
    "        nanPorcent[i] = rowSelected.iloc[:, 2:].isna().any().value_counts(normalize=True)[True]\n",
    "        if(nanPorcent[i] == 1):\n",
    "            noData.append(int(rowSelected.index.values[0]))\n",
    "    else:\n",
    "        nanPorcent[i] = 0.0\n",
    "\n",
    "print(nanPorcent, \"\\n\", noData)\n",
    "\n",
    "#--- Del data ---#\n",
    "for i in range(0, len(noData)):\n",
    "    del nanPorcent[CPIa.iloc[noData[i]][\"Country\"]]\n",
    "CPIa.drop(index=noData, inplace=True)\n",
    "CPIa.reset_index(inplace=True, drop=True)"
   ]
  },
  {
   "cell_type": "code",
   "execution_count": 14,
   "metadata": {},
   "outputs": [
    {
     "name": "stderr",
     "output_type": "stream",
     "text": [
      "C:\\Users\\matia\\AppData\\Local\\Temp\\ipykernel_26644\\1748395857.py:7: FutureWarning: The behavior of DataFrame concatenation with empty or all-NA entries is deprecated. In a future version, this will no longer exclude empty or all-NA columns when determining the result dtypes. To retain the old behavior, exclude the relevant entries before the concat operation.\n",
      "  aux_df = pd.concat([aux_df, rowSelected], ignore_index=True)\n"
     ]
    },
    {
     "data": {
      "text/html": [
       "<div>\n",
       "<style scoped>\n",
       "    .dataframe tbody tr th:only-of-type {\n",
       "        vertical-align: middle;\n",
       "    }\n",
       "\n",
       "    .dataframe tbody tr th {\n",
       "        vertical-align: top;\n",
       "    }\n",
       "\n",
       "    .dataframe thead th {\n",
       "        text-align: right;\n",
       "    }\n",
       "</style>\n",
       "<table border=\"1\" class=\"dataframe\">\n",
       "  <thead>\n",
       "    <tr style=\"text-align: right;\">\n",
       "      <th></th>\n",
       "      <th>Country</th>\n",
       "      <th>Code</th>\n",
       "      <th>1970</th>\n",
       "      <th>1971</th>\n",
       "      <th>1972</th>\n",
       "      <th>1973</th>\n",
       "      <th>1974</th>\n",
       "      <th>1975</th>\n",
       "      <th>1976</th>\n",
       "      <th>1977</th>\n",
       "      <th>...</th>\n",
       "      <th>2014</th>\n",
       "      <th>2015</th>\n",
       "      <th>2016</th>\n",
       "      <th>2017</th>\n",
       "      <th>2018</th>\n",
       "      <th>2019</th>\n",
       "      <th>2020</th>\n",
       "      <th>2021</th>\n",
       "      <th>2022</th>\n",
       "      <th>2023</th>\n",
       "    </tr>\n",
       "  </thead>\n",
       "  <tbody>\n",
       "    <tr>\n",
       "      <th>0</th>\n",
       "      <td>Algeria</td>\n",
       "      <td>DZA</td>\n",
       "      <td>6.60</td>\n",
       "      <td>2.63</td>\n",
       "      <td>3.66</td>\n",
       "      <td>6.17</td>\n",
       "      <td>4.70</td>\n",
       "      <td>8.23</td>\n",
       "      <td>9.43</td>\n",
       "      <td>11.99</td>\n",
       "      <td>...</td>\n",
       "      <td>3.88</td>\n",
       "      <td>4.39</td>\n",
       "      <td>5.80</td>\n",
       "      <td>5.59</td>\n",
       "      <td>3.51</td>\n",
       "      <td>1.95</td>\n",
       "      <td>2.42</td>\n",
       "      <td>7.23</td>\n",
       "      <td>9.27</td>\n",
       "      <td>9.32</td>\n",
       "    </tr>\n",
       "    <tr>\n",
       "      <th>1</th>\n",
       "      <td>Angola</td>\n",
       "      <td>AGO</td>\n",
       "      <td>7.97</td>\n",
       "      <td>5.78</td>\n",
       "      <td>15.80</td>\n",
       "      <td>15.67</td>\n",
       "      <td>27.42</td>\n",
       "      <td>29.00</td>\n",
       "      <td>80.70</td>\n",
       "      <td>69.01</td>\n",
       "      <td>...</td>\n",
       "      <td>7.30</td>\n",
       "      <td>9.16</td>\n",
       "      <td>32.38</td>\n",
       "      <td>29.84</td>\n",
       "      <td>19.63</td>\n",
       "      <td>17.08</td>\n",
       "      <td>21.02</td>\n",
       "      <td>23.85</td>\n",
       "      <td>23.83</td>\n",
       "      <td>13.64</td>\n",
       "    </tr>\n",
       "    <tr>\n",
       "      <th>2</th>\n",
       "      <td>Antigua and Barbuda</td>\n",
       "      <td>ATG</td>\n",
       "      <td>8.87</td>\n",
       "      <td>8.63</td>\n",
       "      <td>12.67</td>\n",
       "      <td>21.72</td>\n",
       "      <td>12.97</td>\n",
       "      <td>8.61</td>\n",
       "      <td>15.62</td>\n",
       "      <td>13.75</td>\n",
       "      <td>...</td>\n",
       "      <td>1.09</td>\n",
       "      <td>0.97</td>\n",
       "      <td>-0.49</td>\n",
       "      <td>2.42</td>\n",
       "      <td>1.21</td>\n",
       "      <td>1.48</td>\n",
       "      <td>1.06</td>\n",
       "      <td>1.63</td>\n",
       "      <td>7.53</td>\n",
       "      <td>5.07</td>\n",
       "    </tr>\n",
       "    <tr>\n",
       "      <th>3</th>\n",
       "      <td>Argentina</td>\n",
       "      <td>ARG</td>\n",
       "      <td>13.59</td>\n",
       "      <td>34.73</td>\n",
       "      <td>58.45</td>\n",
       "      <td>61.25</td>\n",
       "      <td>23.47</td>\n",
       "      <td>182.93</td>\n",
       "      <td>443.97</td>\n",
       "      <td>176.00</td>\n",
       "      <td>...</td>\n",
       "      <td>38.08</td>\n",
       "      <td>26.54</td>\n",
       "      <td>39.40</td>\n",
       "      <td>25.68</td>\n",
       "      <td>34.28</td>\n",
       "      <td>53.55</td>\n",
       "      <td>42.02</td>\n",
       "      <td>48.41</td>\n",
       "      <td>72.43</td>\n",
       "      <td>128.41</td>\n",
       "    </tr>\n",
       "    <tr>\n",
       "      <th>4</th>\n",
       "      <td>Australia</td>\n",
       "      <td>AUS</td>\n",
       "      <td>3.44</td>\n",
       "      <td>6.14</td>\n",
       "      <td>6.02</td>\n",
       "      <td>9.09</td>\n",
       "      <td>15.42</td>\n",
       "      <td>15.16</td>\n",
       "      <td>13.32</td>\n",
       "      <td>12.31</td>\n",
       "      <td>...</td>\n",
       "      <td>2.49</td>\n",
       "      <td>1.51</td>\n",
       "      <td>1.28</td>\n",
       "      <td>1.97</td>\n",
       "      <td>1.91</td>\n",
       "      <td>1.61</td>\n",
       "      <td>0.85</td>\n",
       "      <td>2.82</td>\n",
       "      <td>6.59</td>\n",
       "      <td>5.60</td>\n",
       "    </tr>\n",
       "    <tr>\n",
       "      <th>...</th>\n",
       "      <td>...</td>\n",
       "      <td>...</td>\n",
       "      <td>...</td>\n",
       "      <td>...</td>\n",
       "      <td>...</td>\n",
       "      <td>...</td>\n",
       "      <td>...</td>\n",
       "      <td>...</td>\n",
       "      <td>...</td>\n",
       "      <td>...</td>\n",
       "      <td>...</td>\n",
       "      <td>...</td>\n",
       "      <td>...</td>\n",
       "      <td>...</td>\n",
       "      <td>...</td>\n",
       "      <td>...</td>\n",
       "      <td>...</td>\n",
       "      <td>...</td>\n",
       "      <td>...</td>\n",
       "      <td>...</td>\n",
       "      <td>...</td>\n",
       "    </tr>\n",
       "    <tr>\n",
       "      <th>198</th>\n",
       "      <td>Liechtenstein</td>\n",
       "      <td>LIE</td>\n",
       "      <td>NaN</td>\n",
       "      <td>NaN</td>\n",
       "      <td>NaN</td>\n",
       "      <td>NaN</td>\n",
       "      <td>NaN</td>\n",
       "      <td>NaN</td>\n",
       "      <td>NaN</td>\n",
       "      <td>NaN</td>\n",
       "      <td>...</td>\n",
       "      <td>0.00</td>\n",
       "      <td>-1.11</td>\n",
       "      <td>-0.41</td>\n",
       "      <td>0.51</td>\n",
       "      <td>0.92</td>\n",
       "      <td>0.40</td>\n",
       "      <td>-0.70</td>\n",
       "      <td>0.51</td>\n",
       "      <td>8.40</td>\n",
       "      <td>6.35</td>\n",
       "    </tr>\n",
       "    <tr>\n",
       "      <th>199</th>\n",
       "      <td>South Sudan</td>\n",
       "      <td>SSD</td>\n",
       "      <td>NaN</td>\n",
       "      <td>NaN</td>\n",
       "      <td>NaN</td>\n",
       "      <td>NaN</td>\n",
       "      <td>NaN</td>\n",
       "      <td>NaN</td>\n",
       "      <td>NaN</td>\n",
       "      <td>NaN</td>\n",
       "      <td>...</td>\n",
       "      <td>1.66</td>\n",
       "      <td>52.81</td>\n",
       "      <td>379.85</td>\n",
       "      <td>187.87</td>\n",
       "      <td>83.49</td>\n",
       "      <td>51.19</td>\n",
       "      <td>29.68</td>\n",
       "      <td>30.23</td>\n",
       "      <td>-6.69</td>\n",
       "      <td>2.38</td>\n",
       "    </tr>\n",
       "    <tr>\n",
       "      <th>200</th>\n",
       "      <td>British Virgin Islands</td>\n",
       "      <td>VGB</td>\n",
       "      <td>NaN</td>\n",
       "      <td>NaN</td>\n",
       "      <td>NaN</td>\n",
       "      <td>NaN</td>\n",
       "      <td>NaN</td>\n",
       "      <td>NaN</td>\n",
       "      <td>NaN</td>\n",
       "      <td>NaN</td>\n",
       "      <td>...</td>\n",
       "      <td>1.90</td>\n",
       "      <td>0.80</td>\n",
       "      <td>1.10</td>\n",
       "      <td>1.20</td>\n",
       "      <td>2.10</td>\n",
       "      <td>1.40</td>\n",
       "      <td>0.40</td>\n",
       "      <td>2.80</td>\n",
       "      <td>NaN</td>\n",
       "      <td>NaN</td>\n",
       "    </tr>\n",
       "    <tr>\n",
       "      <th>201</th>\n",
       "      <td>Martinique</td>\n",
       "      <td>MTQ</td>\n",
       "      <td>NaN</td>\n",
       "      <td>NaN</td>\n",
       "      <td>NaN</td>\n",
       "      <td>NaN</td>\n",
       "      <td>NaN</td>\n",
       "      <td>NaN</td>\n",
       "      <td>NaN</td>\n",
       "      <td>NaN</td>\n",
       "      <td>...</td>\n",
       "      <td>NaN</td>\n",
       "      <td>NaN</td>\n",
       "      <td>NaN</td>\n",
       "      <td>NaN</td>\n",
       "      <td>NaN</td>\n",
       "      <td>NaN</td>\n",
       "      <td>NaN</td>\n",
       "      <td>NaN</td>\n",
       "      <td>29.07</td>\n",
       "      <td>NaN</td>\n",
       "    </tr>\n",
       "    <tr>\n",
       "      <th>202</th>\n",
       "      <td>Niue</td>\n",
       "      <td>NIU</td>\n",
       "      <td>NaN</td>\n",
       "      <td>NaN</td>\n",
       "      <td>NaN</td>\n",
       "      <td>NaN</td>\n",
       "      <td>NaN</td>\n",
       "      <td>NaN</td>\n",
       "      <td>NaN</td>\n",
       "      <td>NaN</td>\n",
       "      <td>...</td>\n",
       "      <td>NaN</td>\n",
       "      <td>NaN</td>\n",
       "      <td>NaN</td>\n",
       "      <td>NaN</td>\n",
       "      <td>NaN</td>\n",
       "      <td>NaN</td>\n",
       "      <td>NaN</td>\n",
       "      <td>NaN</td>\n",
       "      <td>NaN</td>\n",
       "      <td>8.60</td>\n",
       "    </tr>\n",
       "  </tbody>\n",
       "</table>\n",
       "<p>203 rows × 56 columns</p>\n",
       "</div>"
      ],
      "text/plain": [
       "                    Country Code   1970   1971   1972   1973   1974    1975  \\\n",
       "0                   Algeria  DZA   6.60   2.63   3.66   6.17   4.70    8.23   \n",
       "1                    Angola  AGO   7.97   5.78  15.80  15.67  27.42   29.00   \n",
       "2       Antigua and Barbuda  ATG   8.87   8.63  12.67  21.72  12.97    8.61   \n",
       "3                 Argentina  ARG  13.59  34.73  58.45  61.25  23.47  182.93   \n",
       "4                 Australia  AUS   3.44   6.14   6.02   9.09  15.42   15.16   \n",
       "..                      ...  ...    ...    ...    ...    ...    ...     ...   \n",
       "198           Liechtenstein  LIE    NaN    NaN    NaN    NaN    NaN     NaN   \n",
       "199             South Sudan  SSD    NaN    NaN    NaN    NaN    NaN     NaN   \n",
       "200  British Virgin Islands  VGB    NaN    NaN    NaN    NaN    NaN     NaN   \n",
       "201              Martinique  MTQ    NaN    NaN    NaN    NaN    NaN     NaN   \n",
       "202                    Niue  NIU    NaN    NaN    NaN    NaN    NaN     NaN   \n",
       "\n",
       "       1976    1977  ...   2014   2015    2016    2017   2018   2019   2020  \\\n",
       "0      9.43   11.99  ...   3.88   4.39    5.80    5.59   3.51   1.95   2.42   \n",
       "1     80.70   69.01  ...   7.30   9.16   32.38   29.84  19.63  17.08  21.02   \n",
       "2     15.62   13.75  ...   1.09   0.97   -0.49    2.42   1.21   1.48   1.06   \n",
       "3    443.97  176.00  ...  38.08  26.54   39.40   25.68  34.28  53.55  42.02   \n",
       "4     13.32   12.31  ...   2.49   1.51    1.28    1.97   1.91   1.61   0.85   \n",
       "..      ...     ...  ...    ...    ...     ...     ...    ...    ...    ...   \n",
       "198     NaN     NaN  ...   0.00  -1.11   -0.41    0.51   0.92   0.40  -0.70   \n",
       "199     NaN     NaN  ...   1.66  52.81  379.85  187.87  83.49  51.19  29.68   \n",
       "200     NaN     NaN  ...   1.90   0.80    1.10    1.20   2.10   1.40   0.40   \n",
       "201     NaN     NaN  ...    NaN    NaN     NaN     NaN    NaN    NaN    NaN   \n",
       "202     NaN     NaN  ...    NaN    NaN     NaN     NaN    NaN    NaN    NaN   \n",
       "\n",
       "      2021   2022    2023  \n",
       "0     7.23   9.27    9.32  \n",
       "1    23.85  23.83   13.64  \n",
       "2     1.63   7.53    5.07  \n",
       "3    48.41  72.43  128.41  \n",
       "4     2.82   6.59    5.60  \n",
       "..     ...    ...     ...  \n",
       "198   0.51   8.40    6.35  \n",
       "199  30.23  -6.69    2.38  \n",
       "200   2.80    NaN     NaN  \n",
       "201    NaN  29.07     NaN  \n",
       "202    NaN    NaN    8.60  \n",
       "\n",
       "[203 rows x 56 columns]"
      ]
     },
     "execution_count": 14,
     "metadata": {},
     "output_type": "execute_result"
    }
   ],
   "source": [
    "nanPorcent = dict(sorted(nanPorcent.items(), key=lambda items: items[1], reverse=False))\n",
    "newOrder = [x for x in nanPorcent]\n",
    "aux_df = pd.DataFrame(columns=CPIa.columns)\n",
    "\n",
    "for i in newOrder:\n",
    "    rowSelected = CPIa[CPIa[\"Country\"] == i]\n",
    "    aux_df = pd.concat([aux_df, rowSelected], ignore_index=True)\n",
    "\n",
    "aux_df = aux_df.round(2)\n",
    "CPIa =  aux_df\n",
    "CPIa"
   ]
  },
  {
   "attachments": {},
   "cell_type": "markdown",
   "metadata": {},
   "source": [
    "---"
   ]
  },
  {
   "attachments": {},
   "cell_type": "markdown",
   "metadata": {},
   "source": [
    "# <font>Argentina compare between <font style=\"color: yellow\">worlddata.info</font> and <font style=\"color: yellow\">data.worldbank.org</font></font>"
   ]
  },
  {
   "cell_type": "code",
   "execution_count": 15,
   "metadata": {},
   "outputs": [
    {
     "name": "stdout",
     "output_type": "stream",
     "text": [
      "Success\n"
     ]
    }
   ],
   "source": [
    "argentinaInf1 = CPIa[CPIa[\"Country\"] == \"Argentina\"]\n",
    "\n",
    "#************ WEB scriping ************#\n",
    "try: \n",
    "    url = \"https://www.datosmundial.com/america/argentina/inflacion.php\" #English: \"https://www.worlddata.info/america/argentina/inflation-rates.php\" Spanish: \"https://www.datosmundial.com/america/argentina/inflacion.php\"\n",
    "    page = requests.get(url)\n",
    "    soup = BeautifulSoup(page.text, 'html.parser')\n",
    "    #Save html page\n",
    "    with open('argentinaInflation.html', 'w') as file:\n",
    "        file.write(soup.prettify())\n",
    "    print(\"Success\")\n",
    "except:\n",
    "    print('Page not abailable')\n",
    "    print('No internet for get the page.\\nUse downloaded html page.')\n",
    "    pass"
   ]
  },
  {
   "cell_type": "code",
   "execution_count": 16,
   "metadata": {},
   "outputs": [
    {
     "name": "stdout",
     "output_type": "stream",
     "text": [
      "[<td>2022</td>, <td>94,80 %</td>, <td>8,83 %</td>, <td>8,00 %</td>, <td>7,99 %</td>, <td>2021</td>, <td>48,41 %</td>, <td>2,55 %</td>, <td>4,70 %</td>, <td>3,45 %</td>, <td>2020</td>, <td>42,02 %</td>, <td>0,48 %</td>, <td>1,23 %</td>, <td>1,94 %</td>, <td>2019</td>, <td>53,55 %</td>, <td>1,63 %</td>, <td>1,81 %</td>, <td>2,21 %</td>, <td>2018</td>, <td>34,28 %</td>, <td>1,74 %</td>, <td>2,44 %</td>, <td>2,45 %</td>, <td>2017</td>, <td>25,68 %</td>, <td>1,43 %</td>, <td>2,13 %</td>, <td>2,25 %</td>, <td>2016</td>, <td>26,50 %</td>, <td>0,18 %</td>, <td>1,26 %</td>, <td>1,61 %</td>, <td>2014</td>, <td>23,90 %</td>, <td>0,20 %</td>, <td>1,62 %</td>, <td>2,35 %</td>, <td>2013</td>, <td>10,62 %</td>, <td>1,22 %</td>, <td>1,46 %</td>, <td>2,62 %</td>, <td>2012</td>, <td>10,03 %</td>, <td>2,66 %</td>, <td>2,07 %</td>, <td>3,73 %</td>, <td>2011</td>, <td>9,47 %</td>, <td>3,29 %</td>, <td>3,16 %</td>, <td>4,82 %</td>, <td>2010</td>, <td>10,78 %</td>, <td>1,53 %</td>, <td>1,64 %</td>, <td>3,35 %</td>, <td>2009</td>, <td>6,28 %</td>, <td>0,84 %</td>, <td>-0,36 %</td>, <td>2,94 %</td>, <td>2008</td>, <td>8,58 %</td>, <td>4,16 %</td>, <td>3,84 %</td>, <td>8,95 %</td>, <td>2007</td>, <td>8,83 %</td>, <td>2,51 %</td>, <td>2,85 %</td>, <td>4,82 %</td>, <td>2006</td>, <td>10,90 %</td>, <td>2,67 %</td>, <td>3,23 %</td>, <td>4,28 %</td>, <td>2005</td>, <td>9,64 %</td>, <td>2,49 %</td>, <td>3,39 %</td>, <td>4,11 %</td>, <td>2004</td>, <td>4,42 %</td>, <td>2,29 %</td>, <td>2,68 %</td>, <td>3,38 %</td>, <td>2003</td>, <td>13,44 %</td>, <td>2,09 %</td>, <td>2,27 %</td>, <td>3,03 %</td>, <td>2002</td>, <td>25,87 %</td>, <td>2,42 %</td>, <td>1,59 %</td>, <td>2,83 %</td>, <td>2001</td>, <td>-1,07 %</td>, <td>3,37 %</td>, <td>2,83 %</td>, <td>3,84 %</td>, <td>2000</td>, <td>-0,94 %</td>, <td>3,15 %</td>, <td>3,38 %</td>, <td>3,49 %</td>, <td>1999</td>, <td>-1,17 %</td>, <td>2,16 %</td>, <td>2,19 %</td>, <td>3,08 %</td>, <td>1998</td>, <td>0,92 %</td>, <td>2,42 %</td>, <td>1,55 %</td>, <td>5,11 %</td>, <td>1997</td>, <td>0,53 %</td>, <td>3,11 %</td>, <td>2,34 %</td>, <td>5,57 %</td>, <td>1996</td>, <td>0,16 %</td>, <td>3,56 %</td>, <td>2,93 %</td>, <td>6,55 %</td>, <td>1995</td>, <td>3,38 %</td>, <td>4,43 %</td>, <td>2,81 %</td>, <td>9,15 %</td>, <td>1994</td>, <td>4,18 %</td>, <td>4,72 %</td>, <td>2,61 %</td>, <td>10,32 %</td>, <td>1993</td>, <td>10,61 %</td>, <td>4,85 %</td>, <td>2,95 %</td>, <td>7,51 %</td>, <td>1992</td>, <td>24,90 %</td>, <td>6,22 %</td>, <td>3,03 %</td>, <td>7,71 %</td>, <td>1991</td>, <td>171,67 %</td>, <td>5,48 %</td>, <td>4,23 %</td>, <td>9,00 %</td>, <td>1990</td>, <td>2.313,96 %</td>, <td>6,15 %</td>, <td>5,40 %</td>, <td>8,13 %</td>, <td>1989</td>, <td>3.079,81 %</td>, <td>6,26 %</td>, <td>4,83 %</td>, <td>7,00 %</td>, <td>1988</td>, <td>342,96 %</td>, <td>4,54 %</td>, <td>4,08 %</td>, <td>7,15 %</td>, <td>1987</td>, <td>131,33 %</td>, <td>4,02 %</td>, <td>3,66 %</td>, <td>5,76 %</td>, <td>1986</td>, <td>90,10 %</td>, <td>3,68 %</td>, <td>1,90 %</td>, <td>5,82 %</td>, <td>1985</td>, <td>672,18 %</td>, <td>5,40 %</td>, <td>3,55 %</td>, <td>6,86 %</td>, <td>1984</td>, <td>626,72 %</td>, <td>7,67 %</td>, <td>4,30 %</td>, <td>8,12 %</td>, <td>1983</td>, <td>343,81 %</td>, <td>8,67 %</td>, <td>3,21 %</td>, <td>8,77 %</td>, <td>1982</td>, <td>164,78 %</td>, <td>9,58 %</td>, <td>6,13 %</td>, <td>10,24 %</td>, <td>1981</td>, <td>104,48 %</td>, <td>11,77 %</td>, <td>10,33 %</td>, <td>12,47 %</td>, <td>1980</td>, <td>100,76 %</td>, <td>12,91 %</td>, <td>13,55 %</td>, <td>13,98 %</td>]\n"
     ]
    }
   ],
   "source": [
    "tr_items = soup.find_all('div', class_=\"tablescroller\")[0].find_all('td')\n",
    "print(tr_items)"
   ]
  },
  {
   "cell_type": "code",
   "execution_count": 17,
   "metadata": {},
   "outputs": [
    {
     "name": "stdout",
     "output_type": "stream",
     "text": [
      "{'2022': '94,80 %', '2021': '48,41 %', '2020': '42,02 %', '2019': '53,55 %', '2018': '34,28 %', '2017': '25,68 %', '2016': '26,50 %', '2014': '23,90 %', '2013': '10,62 %', '2012': '10,03 %', '2011': '9,47 %', '2010': '10,78 %', '2009': '6,28 %', '2008': '8,58 %', '2007': '8,83 %', '2006': '10,90 %', '2005': '9,64 %', '2004': '4,42 %', '2003': '13,44 %', '2002': '25,87 %', '2001': '-1,07 %', '2000': '-0,94 %', '1999': '-1,17 %', '1998': '0,92 %', '1997': '0,53 %', '1996': '0,16 %', '1995': '3,38 %', '1994': '4,18 %', '1993': '10,61 %', '1992': '24,90 %', '1991': '171,67 %', '1990': '2.313,96 %', '1989': '3.079,81 %', '1988': '342,96 %', '1987': '131,33 %', '1986': '90,10 %', '1985': '672,18 %', '1984': '626,72 %', '1983': '343,81 %', '1982': '164,78 %', '1981': '104,48 %', '1980': '100,76 %'}\n",
      "{'2022': 94.8, '2021': 48.41, '2020': 42.02, '2019': 53.55, '2018': 34.28, '2017': 25.68, '2016': 26.5, '2014': 23.9, '2013': 10.62, '2012': 10.03, '2011': 9.47, '2010': 10.78, '2009': 6.28, '2008': 8.58, '2007': 8.83, '2006': 10.9, '2005': 9.64, '2004': 4.42, '2003': 13.44, '2002': 25.87, '2001': -1.07, '2000': -0.94, '1999': -1.17, '1998': 0.92, '1997': 0.53, '1996': 0.16, '1995': 3.38, '1994': 4.18, '1993': 10.61, '1992': 24.9, '1991': 171.67, '1990': 2313.96, '1989': 3079.81, '1988': 342.96, '1987': 131.33, '1986': 90.1, '1985': 672.18, '1984': 626.72, '1983': 343.81, '1982': 164.78, '1981': 104.48, '1980': 100.76}\n"
     ]
    }
   ],
   "source": [
    "Argentina_data = {}\n",
    "\n",
    "argYear = 1\n",
    "argData = 2\n",
    "yearActual = \"\"\n",
    "for i in tr_items:\n",
    "    argYear -= 1\n",
    "    argData -= 1\n",
    "    \n",
    "    if(argYear == 0):\n",
    "        Argentina_data[i.text] = 1\n",
    "        yearActual = i.text    \n",
    "        argYear = 5\n",
    "\n",
    "    if(argData == 0):\n",
    "        Argentina_data[yearActual] = i.text\n",
    "        argData = 5\n",
    "    \n",
    "    else:\n",
    "        pass\n",
    "print(Argentina_data)\n",
    "\n",
    "for k, v in Argentina_data.items():\n",
    "    Argentina_data[k] = float(v.split(\"%\")[0].replace(\".\", \"\").replace(\",\", \".\").strip()) #How to chage \"2.313,96 and 3079.81\"\n",
    "print(Argentina_data)"
   ]
  },
  {
   "cell_type": "code",
   "execution_count": 18,
   "metadata": {},
   "outputs": [
    {
     "name": "stdout",
     "output_type": "stream",
     "text": [
      "   2022   2021   2020   2019   2018   2017  2016  2014   2013   2012  ...  \\\n",
      "0  94.8  48.41  42.02  53.55  34.28  25.68  26.5  23.9  10.62  10.03  ...   \n",
      "\n",
      "     1987  1986    1985    1984    1983    1982    1981    1980  Code  \\\n",
      "0  131.33  90.1  672.18  626.72  343.81  164.78  104.48  100.76   ARG   \n",
      "\n",
      "     Country  \n",
      "0  Argentina  \n",
      "\n",
      "[1 rows x 44 columns]\n"
     ]
    },
    {
     "data": {
      "text/html": [
       "<div>\n",
       "<style scoped>\n",
       "    .dataframe tbody tr th:only-of-type {\n",
       "        vertical-align: middle;\n",
       "    }\n",
       "\n",
       "    .dataframe tbody tr th {\n",
       "        vertical-align: top;\n",
       "    }\n",
       "\n",
       "    .dataframe thead th {\n",
       "        text-align: right;\n",
       "    }\n",
       "</style>\n",
       "<table border=\"1\" class=\"dataframe\">\n",
       "  <thead>\n",
       "    <tr style=\"text-align: right;\">\n",
       "      <th></th>\n",
       "      <th>Country</th>\n",
       "      <th>Code</th>\n",
       "      <th>1980</th>\n",
       "      <th>1981</th>\n",
       "      <th>1982</th>\n",
       "      <th>1983</th>\n",
       "      <th>1984</th>\n",
       "      <th>1985</th>\n",
       "      <th>1986</th>\n",
       "      <th>1987</th>\n",
       "      <th>...</th>\n",
       "      <th>2012</th>\n",
       "      <th>2013</th>\n",
       "      <th>2014</th>\n",
       "      <th>2016</th>\n",
       "      <th>2017</th>\n",
       "      <th>2018</th>\n",
       "      <th>2019</th>\n",
       "      <th>2020</th>\n",
       "      <th>2021</th>\n",
       "      <th>2022</th>\n",
       "    </tr>\n",
       "  </thead>\n",
       "  <tbody>\n",
       "    <tr>\n",
       "      <th>0</th>\n",
       "      <td>Argentina</td>\n",
       "      <td>ARG</td>\n",
       "      <td>100.76</td>\n",
       "      <td>104.48</td>\n",
       "      <td>164.78</td>\n",
       "      <td>343.81</td>\n",
       "      <td>626.72</td>\n",
       "      <td>672.18</td>\n",
       "      <td>90.1</td>\n",
       "      <td>131.33</td>\n",
       "      <td>...</td>\n",
       "      <td>10.03</td>\n",
       "      <td>10.62</td>\n",
       "      <td>23.9</td>\n",
       "      <td>26.5</td>\n",
       "      <td>25.68</td>\n",
       "      <td>34.28</td>\n",
       "      <td>53.55</td>\n",
       "      <td>42.02</td>\n",
       "      <td>48.41</td>\n",
       "      <td>94.8</td>\n",
       "    </tr>\n",
       "  </tbody>\n",
       "</table>\n",
       "<p>1 rows × 44 columns</p>\n",
       "</div>"
      ],
      "text/plain": [
       "     Country Code    1980    1981    1982    1983    1984    1985  1986  \\\n",
       "0  Argentina  ARG  100.76  104.48  164.78  343.81  626.72  672.18  90.1   \n",
       "\n",
       "     1987  ...   2012   2013  2014  2016   2017   2018   2019   2020   2021  \\\n",
       "0  131.33  ...  10.03  10.62  23.9  26.5  25.68  34.28  53.55  42.02  48.41   \n",
       "\n",
       "   2022  \n",
       "0  94.8  \n",
       "\n",
       "[1 rows x 44 columns]"
      ]
     },
     "execution_count": 18,
     "metadata": {},
     "output_type": "execute_result"
    }
   ],
   "source": [
    "argWD = pd.DataFrame([Argentina_data])\n",
    "argWD[\"Code\"] = \"ARG\"\n",
    "argWD[\"Country\"] = \"Argentina\"\n",
    "print(argWD)\n",
    "invert_columns = argWD.columns[: :-1] # sorted(newRow.columns, reverse=True)\n",
    "newRow = argWD.reindex(columns = invert_columns)\n",
    "newRow"
   ]
  },
  {
   "cell_type": "code",
   "execution_count": 19,
   "metadata": {},
   "outputs": [
    {
     "name": "stdout",
     "output_type": "stream",
     "text": [
      "1980  nan\n"
     ]
    }
   ],
   "source": [
    "for counted, year in zip(range(1980, 2022), argWD.iloc[:, 2:]):\n",
    "    if(counted == int(year)):\n",
    "        pass\n",
    "    else:\n",
    "        print(counted, \" nan\")\n",
    "        break"
   ]
  },
  {
   "cell_type": "code",
   "execution_count": 20,
   "metadata": {},
   "outputs": [
    {
     "name": "stdout",
     "output_type": "stream",
     "text": [
      "2015 25.2 8\n"
     ]
    }
   ],
   "source": [
    "newColumnName = '2015'\n",
    "newColumnData = (argWD.loc[:, '2014'].values[0] + argWD.loc[:, '2016'].values[0])/2 #New column will have a avarage between 2014 and 2016\n",
    "newColumnPosition = argWD.columns.get_loc('2014') + 1\n",
    "\n",
    "print(newColumnName, newColumnData, newColumnPosition)"
   ]
  },
  {
   "cell_type": "code",
   "execution_count": 21,
   "metadata": {},
   "outputs": [
    {
     "data": {
      "text/html": [
       "<div>\n",
       "<style scoped>\n",
       "    .dataframe tbody tr th:only-of-type {\n",
       "        vertical-align: middle;\n",
       "    }\n",
       "\n",
       "    .dataframe tbody tr th {\n",
       "        vertical-align: top;\n",
       "    }\n",
       "\n",
       "    .dataframe thead th {\n",
       "        text-align: right;\n",
       "    }\n",
       "</style>\n",
       "<table border=\"1\" class=\"dataframe\">\n",
       "  <thead>\n",
       "    <tr style=\"text-align: right;\">\n",
       "      <th></th>\n",
       "      <th>2022</th>\n",
       "      <th>2021</th>\n",
       "      <th>2020</th>\n",
       "      <th>2019</th>\n",
       "      <th>2018</th>\n",
       "      <th>2017</th>\n",
       "      <th>2016</th>\n",
       "      <th>2014</th>\n",
       "      <th>2015</th>\n",
       "      <th>2013</th>\n",
       "      <th>...</th>\n",
       "      <th>1987</th>\n",
       "      <th>1986</th>\n",
       "      <th>1985</th>\n",
       "      <th>1984</th>\n",
       "      <th>1983</th>\n",
       "      <th>1982</th>\n",
       "      <th>1981</th>\n",
       "      <th>1980</th>\n",
       "      <th>Code</th>\n",
       "      <th>Country</th>\n",
       "    </tr>\n",
       "  </thead>\n",
       "  <tbody>\n",
       "    <tr>\n",
       "      <th>0</th>\n",
       "      <td>94.8</td>\n",
       "      <td>48.41</td>\n",
       "      <td>42.02</td>\n",
       "      <td>53.55</td>\n",
       "      <td>34.28</td>\n",
       "      <td>25.68</td>\n",
       "      <td>26.5</td>\n",
       "      <td>23.9</td>\n",
       "      <td>25.2</td>\n",
       "      <td>10.62</td>\n",
       "      <td>...</td>\n",
       "      <td>131.33</td>\n",
       "      <td>90.1</td>\n",
       "      <td>672.18</td>\n",
       "      <td>626.72</td>\n",
       "      <td>343.81</td>\n",
       "      <td>164.78</td>\n",
       "      <td>104.48</td>\n",
       "      <td>100.76</td>\n",
       "      <td>ARG</td>\n",
       "      <td>Argentina</td>\n",
       "    </tr>\n",
       "  </tbody>\n",
       "</table>\n",
       "<p>1 rows × 45 columns</p>\n",
       "</div>"
      ],
      "text/plain": [
       "   2022   2021   2020   2019   2018   2017  2016  2014  2015   2013  ...  \\\n",
       "0  94.8  48.41  42.02  53.55  34.28  25.68  26.5  23.9  25.2  10.62  ...   \n",
       "\n",
       "     1987  1986    1985    1984    1983    1982    1981    1980  Code  \\\n",
       "0  131.33  90.1  672.18  626.72  343.81  164.78  104.48  100.76   ARG   \n",
       "\n",
       "     Country  \n",
       "0  Argentina  \n",
       "\n",
       "[1 rows x 45 columns]"
      ]
     },
     "execution_count": 21,
     "metadata": {},
     "output_type": "execute_result"
    }
   ],
   "source": [
    "argWD.insert(newColumnPosition, newColumnName, newColumnData)\n",
    "argWD"
   ]
  },
  {
   "attachments": {},
   "cell_type": "markdown",
   "metadata": {},
   "source": [
    "<font style=\"font-size: 50px; color: yellow\">Comparation</font>"
   ]
  },
  {
   "cell_type": "code",
   "execution_count": 22,
   "metadata": {},
   "outputs": [
    {
     "name": "stderr",
     "output_type": "stream",
     "text": [
      "C:\\Users\\matia\\AppData\\Local\\Temp\\ipykernel_26644\\2029232322.py:5: FutureWarning: ChainedAssignmentError: behaviour will change in pandas 3.0!\n",
      "You are setting values through chained assignment. Currently this works in certain cases, but when using Copy-on-Write (which will become the default behaviour in pandas 3.0) this will never work to update the original DataFrame or Series, because the intermediate object on which we are setting values will behave as a copy.\n",
      "A typical example is when you are setting values in a column of a DataFrame, like:\n",
      "\n",
      "df[\"col\"][row_indexer] = value\n",
      "\n",
      "Use `df.loc[row_indexer, \"col\"] = values` instead, to perform the assignment in a single step and ensure this keeps updating the original `df`.\n",
      "\n",
      "See the caveats in the documentation: https://pandas.pydata.org/pandas-docs/stable/user_guide/indexing.html#returning-a-view-versus-a-copy\n",
      "\n",
      "  Argentinas[\"Country\"][0] = \"ArgentinaWB\"\n",
      "C:\\Users\\matia\\AppData\\Local\\Temp\\ipykernel_26644\\2029232322.py:5: SettingWithCopyWarning: \n",
      "A value is trying to be set on a copy of a slice from a DataFrame\n",
      "\n",
      "See the caveats in the documentation: https://pandas.pydata.org/pandas-docs/stable/user_guide/indexing.html#returning-a-view-versus-a-copy\n",
      "  Argentinas[\"Country\"][0] = \"ArgentinaWB\"\n",
      "C:\\Users\\matia\\AppData\\Local\\Temp\\ipykernel_26644\\2029232322.py:6: FutureWarning: ChainedAssignmentError: behaviour will change in pandas 3.0!\n",
      "You are setting values through chained assignment. Currently this works in certain cases, but when using Copy-on-Write (which will become the default behaviour in pandas 3.0) this will never work to update the original DataFrame or Series, because the intermediate object on which we are setting values will behave as a copy.\n",
      "A typical example is when you are setting values in a column of a DataFrame, like:\n",
      "\n",
      "df[\"col\"][row_indexer] = value\n",
      "\n",
      "Use `df.loc[row_indexer, \"col\"] = values` instead, to perform the assignment in a single step and ensure this keeps updating the original `df`.\n",
      "\n",
      "See the caveats in the documentation: https://pandas.pydata.org/pandas-docs/stable/user_guide/indexing.html#returning-a-view-versus-a-copy\n",
      "\n",
      "  Argentinas[\"Country\"][1] = \"ArgentinaWD\"\n",
      "C:\\Users\\matia\\AppData\\Local\\Temp\\ipykernel_26644\\2029232322.py:6: SettingWithCopyWarning: \n",
      "A value is trying to be set on a copy of a slice from a DataFrame\n",
      "\n",
      "See the caveats in the documentation: https://pandas.pydata.org/pandas-docs/stable/user_guide/indexing.html#returning-a-view-versus-a-copy\n",
      "  Argentinas[\"Country\"][1] = \"ArgentinaWD\"\n"
     ]
    },
    {
     "data": {
      "text/html": [
       "<div>\n",
       "<style scoped>\n",
       "    .dataframe tbody tr th:only-of-type {\n",
       "        vertical-align: middle;\n",
       "    }\n",
       "\n",
       "    .dataframe tbody tr th {\n",
       "        vertical-align: top;\n",
       "    }\n",
       "\n",
       "    .dataframe thead th {\n",
       "        text-align: right;\n",
       "    }\n",
       "</style>\n",
       "<table border=\"1\" class=\"dataframe\">\n",
       "  <thead>\n",
       "    <tr style=\"text-align: right;\">\n",
       "      <th></th>\n",
       "      <th>Country</th>\n",
       "      <th>Code</th>\n",
       "      <th>1980</th>\n",
       "      <th>1981</th>\n",
       "      <th>1982</th>\n",
       "      <th>1983</th>\n",
       "      <th>1984</th>\n",
       "      <th>1985</th>\n",
       "      <th>1986</th>\n",
       "      <th>1987</th>\n",
       "      <th>...</th>\n",
       "      <th>2014</th>\n",
       "      <th>2015</th>\n",
       "      <th>2016</th>\n",
       "      <th>2017</th>\n",
       "      <th>2018</th>\n",
       "      <th>2019</th>\n",
       "      <th>2020</th>\n",
       "      <th>2021</th>\n",
       "      <th>2022</th>\n",
       "      <th>2023</th>\n",
       "    </tr>\n",
       "  </thead>\n",
       "  <tbody>\n",
       "    <tr>\n",
       "      <th>0</th>\n",
       "      <td>ArgentinaWB</td>\n",
       "      <td>ARG</td>\n",
       "      <td>100.76</td>\n",
       "      <td>104.48</td>\n",
       "      <td>164.78</td>\n",
       "      <td>343.81</td>\n",
       "      <td>626.72</td>\n",
       "      <td>672.18</td>\n",
       "      <td>90.1</td>\n",
       "      <td>131.33</td>\n",
       "      <td>...</td>\n",
       "      <td>38.08</td>\n",
       "      <td>26.54</td>\n",
       "      <td>39.4</td>\n",
       "      <td>25.68</td>\n",
       "      <td>34.28</td>\n",
       "      <td>53.55</td>\n",
       "      <td>42.02</td>\n",
       "      <td>48.41</td>\n",
       "      <td>72.43</td>\n",
       "      <td>128.41</td>\n",
       "    </tr>\n",
       "    <tr>\n",
       "      <th>1</th>\n",
       "      <td>ArgentinaWD</td>\n",
       "      <td>ARG</td>\n",
       "      <td>100.76</td>\n",
       "      <td>104.48</td>\n",
       "      <td>164.78</td>\n",
       "      <td>343.81</td>\n",
       "      <td>626.72</td>\n",
       "      <td>672.18</td>\n",
       "      <td>90.1</td>\n",
       "      <td>131.33</td>\n",
       "      <td>...</td>\n",
       "      <td>23.90</td>\n",
       "      <td>25.20</td>\n",
       "      <td>26.5</td>\n",
       "      <td>25.68</td>\n",
       "      <td>34.28</td>\n",
       "      <td>53.55</td>\n",
       "      <td>42.02</td>\n",
       "      <td>48.41</td>\n",
       "      <td>94.80</td>\n",
       "      <td>NaN</td>\n",
       "    </tr>\n",
       "  </tbody>\n",
       "</table>\n",
       "<p>2 rows × 46 columns</p>\n",
       "</div>"
      ],
      "text/plain": [
       "       Country Code    1980    1981    1982    1983    1984    1985  1986  \\\n",
       "0  ArgentinaWB  ARG  100.76  104.48  164.78  343.81  626.72  672.18  90.1   \n",
       "1  ArgentinaWD  ARG  100.76  104.48  164.78  343.81  626.72  672.18  90.1   \n",
       "\n",
       "     1987  ...   2014   2015  2016   2017   2018   2019   2020   2021   2022  \\\n",
       "0  131.33  ...  38.08  26.54  39.4  25.68  34.28  53.55  42.02  48.41  72.43   \n",
       "1  131.33  ...  23.90  25.20  26.5  25.68  34.28  53.55  42.02  48.41  94.80   \n",
       "\n",
       "     2023  \n",
       "0  128.41  \n",
       "1     NaN  \n",
       "\n",
       "[2 rows x 46 columns]"
      ]
     },
     "execution_count": 22,
     "metadata": {},
     "output_type": "execute_result"
    }
   ],
   "source": [
    "argWB = CPIa[CPIa['Country'] == \"Argentina\"]\n",
    "argWB = argWB.iloc[:, :2].join(argWB.iloc[:, 12:])\n",
    "\n",
    "Argentinas = pd.concat([argWB, argWD], ignore_index=True)\n",
    "Argentinas[\"Country\"][0] = \"ArgentinaWB\"\n",
    "Argentinas[\"Country\"][1] = \"ArgentinaWD\"\n",
    "Argentinas"
   ]
  },
  {
   "cell_type": "code",
   "execution_count": 23,
   "metadata": {},
   "outputs": [],
   "source": [
    "#ArgentinasTransposed = Argentinas.set_index('Country').T\n",
    "#ArgentinasTransposed"
   ]
  },
  {
   "attachments": {},
   "cell_type": "markdown",
   "metadata": {},
   "source": [
    "## Graphic"
   ]
  },
  {
   "cell_type": "code",
   "execution_count": 24,
   "metadata": {},
   "outputs": [],
   "source": [
    "#ArgentinasTransposed = Argentinas.set_index('')"
   ]
  },
  {
   "cell_type": "code",
   "execution_count": 25,
   "metadata": {},
   "outputs": [
    {
     "data": {
      "image/png": "[encoded data removed]",
      "text/plain": [
       "<Figure size 2500x800 with 1 Axes>"
      ]
     },
     "metadata": {},
     "output_type": "display_data"
    },
    {
     "name": "stdout",
     "output_type": "stream",
     "text": [
      "     1982    1983    1984    1985  1986\n",
      "0  164.78  343.81  626.72  672.18  90.1\n",
      "1  164.78  343.81  626.72  672.18  90.1 \n",
      "\n",
      "0    131.33\n",
      "1    131.33\n",
      "Name: 1987, dtype: float64 \n",
      "\n",
      "     1988     1989     1990    1991\n",
      "0  342.95  3079.81  2313.96  171.67\n",
      "1  342.96  3079.81  2313.96  171.67\n"
     ]
    }
   ],
   "source": [
    "plt.figure(figsize=(25, 8))\n",
    "\n",
    "plt.plot(Argentinas.iloc[:, 2:].columns, Argentinas.iloc[:, 2:].values[0])\n",
    "plt.plot()\n",
    "\n",
    "plt.xlabel(\"Years\")\n",
    "plt.ylabel(\"Inflation\")\n",
    "plt.ylim(bottom=-10, top=200)\n",
    "\n",
    "plt.title(\"Argentina Inflation\")\n",
    "\n",
    "plt.show()\n",
    "\n",
    "print(Argentinas.loc[:, '1982': '1986'], '\\n')\n",
    "print(Argentinas.loc[:, '1987'], '\\n')\n",
    "print(Argentinas.loc[:, '1988': '1991'])"
   ]
  },
  {
   "cell_type": "code",
   "execution_count": 26,
   "metadata": {},
   "outputs": [
    {
     "data": {
      "image/png": "[encoded data removed]",
      "text/plain": [
       "<Figure size 2500x600 with 1 Axes>"
      ]
     },
     "metadata": {},
     "output_type": "display_data"
    }
   ],
   "source": [
    "plt.figure(figsize=(25, 6))\n",
    "\n",
    "plt.bar(Argentinas.iloc[:, 2:].columns, Argentinas.iloc[:, 2:].values[0])\n",
    "\n",
    "plt.xlabel(\"Years\")\n",
    "plt.ylabel(\"Inflation\")\n",
    "plt.ylim(bottom=-10, top=175)\n",
    "\n",
    "plt.title(\"Argentina inflation\")\n",
    "\n",
    "plt.show()"
   ]
  },
  {
   "attachments": {},
   "cell_type": "markdown",
   "metadata": {},
   "source": [
    "---"
   ]
  },
  {
   "attachments": {},
   "cell_type": "markdown",
   "metadata": {},
   "source": [
    "<font style=\"color: green; font-size: 35px\">Save changes</font>"
   ]
  },
  {
   "cell_type": "code",
   "execution_count": 27,
   "metadata": {},
   "outputs": [
    {
     "name": "stdout",
     "output_type": "stream",
     "text": [
      "Index(['Country', 'Code', '1970', '1971', '1972', '1973', '1974', '1975',\n",
      "       '1976', '1977', '1978', '1979', '1980', '1981', '1982', '1983', '1984',\n",
      "       '1985', '1986', '1987', '1988', '1989', '1990', '1991', '1992', '1993',\n",
      "       '1994', '1995', '1996', '1997', '1998', '1999', '2000', '2001', '2002',\n",
      "       '2003', '2004', '2005', '2006', '2007', '2008', '2009', '2010', '2011',\n",
      "       '2012', '2013', '2014', '2015', '2016', '2017', '2018', '2019', '2020',\n",
      "       '2021', '2022', '2023'],\n",
      "      dtype='object')\n"
     ]
    }
   ],
   "source": [
    "print(CPIa.columns)\n",
    "CPIa.to_csv(\"Inflation_clean.csv\", index=False)"
   ]
  },
  {
   "cell_type": "markdown",
   "metadata": {},
   "source": [
    "<p style=\"text-align: center; font-size: 45px; color: Skyblue;\">SQL</p>"
   ]
  },
  {
   "cell_type": "code",
   "execution_count": 28,
   "metadata": {},
   "outputs": [],
   "source": [
    "import sqlite3\n",
    "import psycopg2\n",
    "from SQL_functions import *"
   ]
  },
  {
   "cell_type": "markdown",
   "metadata": {},
   "source": [
    "<p style='font-size: 25px; text-align: center; color: skyblue;'>SQLite3</p>"
   ]
  },
  {
   "cell_type": "markdown",
   "metadata": {},
   "source": [
    "<p style='font-size: 25px; text-align: center; color: violet;'>Crear, eliminar, actualizar y backup base de datos</p>"
   ]
  },
  {
   "cell_type": "code",
   "execution_count": 32,
   "metadata": {},
   "outputs": [],
   "source": [
    "#create_database()\n",
    "\n",
    "#delete_database()\n",
    "#delete_data()\n",
    "\n",
    "#backup(\"../Inflation.db\")\n",
    "\n",
    "#update_data(\"Inflation_clean.csv\")"
   ]
  },
  {
   "cell_type": "markdown",
   "metadata": {},
   "source": [
    "---\n",
    "---\n",
    "---"
   ]
  },
  {
   "cell_type": "markdown",
   "metadata": {},
   "source": [
    "<p style='font-size: 25px; text-align: center; color: skyblue;'>PostgreSQL</p>"
   ]
  },
  {
   "cell_type": "markdown",
   "metadata": {},
   "source": [
    "<p style='font-size: 25px; text-align: center; color: violet;'>actualizar</p>"
   ]
  },
  {
   "cell_type": "code",
   "execution_count": 30,
   "metadata": {},
   "outputs": [],
   "source": []
  },
  {
   "cell_type": "code",
   "execution_count": 31,
   "metadata": {},
   "outputs": [
    {
     "name": "stdout",
     "output_type": "stream",
     "text": [
      "Connected to the database\n",
      "'NoneType' object has no attribute 'fetchall'\n"
     ]
    },
    {
     "data": {
      "text/plain": [
       "'Data has been successfully updated'"
      ]
     },
     "execution_count": 31,
     "metadata": {},
     "output_type": "execute_result"
    }
   ],
   "source": [
    "#update_data_postgre(\"Inflation_clean.csv\")"
   ]
  },
  {
   "cell_type": "code",
   "execution_count": null,
   "metadata": {},
   "outputs": [],
   "source": []
  }
 ],
 "metadata": {
  "kernelspec": {
   "display_name": "Python 3",
   "language": "python",
   "name": "python3"
  },
  "language_info": {
   "codemirror_mode": {
    "name": "ipython",
    "version": 3
   },
   "file_extension": ".py",
   "mimetype": "text/x-python",
   "name": "python",
   "nbconvert_exporter": "python",
   "pygments_lexer": "ipython3",
   "version": "3.12.3"
  },
  "orig_nbformat": 4
 },
 "nbformat": 4,
 "nbformat_minor": 2
}
