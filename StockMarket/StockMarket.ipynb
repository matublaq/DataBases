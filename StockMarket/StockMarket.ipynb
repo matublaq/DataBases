{
 "cells": [
  {
   "cell_type": "code",
   "execution_count": 2,
   "metadata": {},
   "outputs": [],
   "source": [
    "import numpy as np\n",
    "import pandas as pd\n",
    "import matplotlib.pyplot as plt\n",
    "import sqlite3\n",
    "import shutil\n",
    "from datetime import datetime, timedelta\n",
    "\n",
    "import yfinance as yf"
   ]
  },
  {
   "cell_type": "markdown",
   "metadata": {},
   "source": [
    "<p style='text-align: center; color: skyblue; font-size: 50px;'>SQL</p>"
   ]
  },
  {
   "cell_type": "code",
   "execution_count": 3,
   "metadata": {},
   "outputs": [],
   "source": [
    "from SQL_functions import *"
   ]
  },
  {
   "cell_type": "markdown",
   "metadata": {},
   "source": [
    "All tickers"
   ]
  },
  {
   "cell_type": "code",
   "execution_count": 13,
   "metadata": {},
   "outputs": [
    {
     "name": "stdout",
     "output_type": "stream",
     "text": [
      "   ticker\n",
      "0    AAPL\n",
      "1    ABNB\n",
      "2    ADBE\n",
      "3    AMZN\n",
      "4   BRK-B\n",
      "5   GOOGL\n",
      "6     JNJ\n",
      "7     JPM\n",
      "8      KO\n",
      "9    MELI\n",
      "10   META\n",
      "11   MSFT\n",
      "12   NVDA\n",
      "13    PEP\n",
      "14     PG\n",
      "15    SAN\n",
      "16     TM\n",
      "17   TSLA\n",
      "18      V\n",
      "19    YPF\n"
     ]
    }
   ],
   "source": [
    "database = '../StockMarket.db' #../StockMarket.db #StockMarket_backup.db\n",
    "conn = sqlite3.connect('../StockMarket.db')\n",
    "\n",
    "all_tickers = pd.read_sql_query(\"SELECT ticker FROM Companies;\", conn)\n",
    "all_tickers.to_csv('tickers_backup.csv', index=False)\n",
    "print(all_tickers)\n",
    "\n",
    "conn.close()"
   ]
  },
  {
   "cell_type": "markdown",
   "metadata": {},
   "source": [
    "<p style='text-align: center; font-size: 30px; color: orange;'>Insertar, actualizar y eliminar datos</p>"
   ]
  },
  {
   "cell_type": "markdown",
   "metadata": {},
   "source": [
    "<p style='font-size: 25px; text-align: center; color: violet;'>Agregar empresa</p>"
   ]
  },
  {
   "cell_type": "code",
   "execution_count": 5,
   "metadata": {},
   "outputs": [
    {
     "data": {
      "text/plain": [
       "\"\\nadd_tickers = pd.read_csv('tickers_backup.csv')\\nfor ticker in add_tickers['ticker']:\\n    insert_company(ticker, '../StockMarket.db')\\n\""
      ]
     },
     "execution_count": 5,
     "metadata": {},
     "output_type": "execute_result"
    }
   ],
   "source": [
    "#Add all companies from the csv file\n",
    "'''\n",
    "add_tickers = pd.read_csv('tickers_backup.csv')\n",
    "for ticker in add_tickers['ticker']:\n",
    "    insert_company(ticker, '../StockMarket.db')\n",
    "'''"
   ]
  },
  {
   "cell_type": "markdown",
   "metadata": {},
   "source": [
    "<p style='font-size: 25px; text-align: center; color: violet;'>Crear, eliminar, agregar datos, backup database</p>"
   ]
  },
  {
   "cell_type": "code",
   "execution_count": 16,
   "metadata": {},
   "outputs": [
    {
     "name": "stderr",
     "output_type": "stream",
     "text": [
      "[*********************100%%**********************]  1 of 1 completed\n"
     ]
    },
    {
     "data": {
      "text/plain": [
       "'INTC ha sido agregado a la base de datos'"
      ]
     },
     "execution_count": 16,
     "metadata": {},
     "output_type": "execute_result"
    }
   ],
   "source": [
    "database = \"../StockMarket.db\"\n",
    "#database =  \"StockMarket_backup.db\" \n",
    "\n",
    "#create_database(database)\n",
    "\n",
    "#company_ticker = str(input('Enter the company ticker: '))\n",
    "#insert_company(company_ticker, database)\n",
    "\n",
    "#ticker = str(input(\"Enter the company ticker for delete in database: \"))\n",
    "#delete_company(ticker, database)\n",
    "\n",
    "#delete_database(database)\n",
    "#delete_data(database)\n",
    "\n",
    "#backup_database(\"../StockMarket.db\")\n",
    "\n",
    "#ticker = str(input(\"Enter the company ticker for update data: \"))\n",
    "#update_stock_quotes(ticker, database)\n",
    "\n",
    "#update_all_stock_quotes(database)"
   ]
  },
  {
   "cell_type": "markdown",
   "metadata": {},
   "source": [
    "---"
   ]
  },
  {
   "cell_type": "markdown",
   "metadata": {},
   "source": [
    "<p style=\"font-size: 50px; text-align: center;\">Desarrollo</p>"
   ]
  },
  {
   "cell_type": "code",
   "execution_count": null,
   "metadata": {},
   "outputs": [],
   "source": []
  },
  {
   "cell_type": "code",
   "execution_count": null,
   "metadata": {},
   "outputs": [],
   "source": []
  },
  {
   "cell_type": "markdown",
   "metadata": {},
   "source": [
    "---\n",
    "---"
   ]
  },
  {
   "cell_type": "code",
   "execution_count": 7,
   "metadata": {},
   "outputs": [
    {
     "name": "stdout",
     "output_type": "stream",
     "text": [
      "   id\n",
      "0   1\n"
     ]
    }
   ],
   "source": [
    "conn = sqlite3.connect('StockMarket_backup.db')\n",
    "cursor = conn.cursor()\n",
    "\n",
    "company_id = pd.read_sql_query(\"SELECT id FROM Companies WHERE ticker = ?\", conn, params=['AAPL'])\n",
    "\n",
    "conn.close()\n",
    "\n",
    "print(company_id)"
   ]
  },
  {
   "cell_type": "markdown",
   "metadata": {},
   "source": [
    "---\n",
    "---\n",
    "---"
   ]
  },
  {
   "cell_type": "code",
   "execution_count": 8,
   "metadata": {},
   "outputs": [
    {
     "name": "stdout",
     "output_type": "stream",
     "text": [
      "NMS NMS = NASDQ\n"
     ]
    },
    {
     "data": {
      "text/plain": [
       "{'address1': 'One Apple Park Way',\n",
       " 'city': 'Cupertino',\n",
       " 'state': 'CA',\n",
       " 'zip': '95014',\n",
       " 'country': 'United States',\n",
       " 'phone': '408 996 1010',\n",
       " 'website': 'https://www.apple.com',\n",
       " 'industry': 'Consumer Electronics',\n",
       " 'industryKey': 'consumer-electronics',\n",
       " 'industryDisp': 'Consumer Electronics',\n",
       " 'sector': 'Technology',\n",
       " 'sectorKey': 'technology',\n",
       " 'sectorDisp': 'Technology',\n",
       " 'longBusinessSummary': 'Apple Inc. designs, manufactures, and markets smartphones, personal computers, tablets, wearables, and accessories worldwide. The company offers iPhone, a line of smartphones; Mac, a line of personal computers; iPad, a line of multi-purpose tablets; and wearables, home, and accessories comprising AirPods, Apple TV, Apple Watch, Beats products, and HomePod. It also provides AppleCare support and cloud services; and operates various platforms, including the App Store that allow customers to discover and download applications and digital content, such as books, music, video, games, and podcasts. In addition, the company offers various services, such as Apple Arcade, a game subscription service; Apple Fitness+, a personalized fitness service; Apple Music, which offers users a curated listening experience with on-demand radio stations; Apple News+, a subscription news and magazine service; Apple TV+, which offers exclusive original content; Apple Card, a co-branded credit card; and Apple Pay, a cashless payment service, as well as licenses its intellectual property. The company serves consumers, and small and mid-sized businesses; and the education, enterprise, and government markets. It distributes third-party applications for its products through the App Store. The company also sells its products through its retail and online stores, and direct sales force; and third-party cellular network carriers, wholesalers, retailers, and resellers. Apple Inc. was founded in 1976 and is headquartered in Cupertino, California.',\n",
       " 'fullTimeEmployees': 161000,\n",
       " 'companyOfficers': [{'maxAge': 1,\n",
       "   'name': 'Mr. Timothy D. Cook',\n",
       "   'age': 62,\n",
       "   'title': 'CEO & Director',\n",
       "   'yearBorn': 1961,\n",
       "   'fiscalYear': 2023,\n",
       "   'totalPay': 16239562,\n",
       "   'exercisedValue': 0,\n",
       "   'unexercisedValue': 0},\n",
       "  {'maxAge': 1,\n",
       "   'name': 'Mr. Luca  Maestri',\n",
       "   'age': 60,\n",
       "   'title': 'CFO & Senior VP',\n",
       "   'yearBorn': 1963,\n",
       "   'fiscalYear': 2023,\n",
       "   'totalPay': 4612242,\n",
       "   'exercisedValue': 0,\n",
       "   'unexercisedValue': 0},\n",
       "  {'maxAge': 1,\n",
       "   'name': 'Mr. Jeffrey E. Williams',\n",
       "   'age': 59,\n",
       "   'title': 'Chief Operating Officer',\n",
       "   'yearBorn': 1964,\n",
       "   'fiscalYear': 2023,\n",
       "   'totalPay': 4637585,\n",
       "   'exercisedValue': 0,\n",
       "   'unexercisedValue': 0},\n",
       "  {'maxAge': 1,\n",
       "   'name': 'Ms. Katherine L. Adams',\n",
       "   'age': 59,\n",
       "   'title': 'Senior VP, General Counsel & Secretary',\n",
       "   'yearBorn': 1964,\n",
       "   'fiscalYear': 2023,\n",
       "   'totalPay': 4618064,\n",
       "   'exercisedValue': 0,\n",
       "   'unexercisedValue': 0},\n",
       "  {'maxAge': 1,\n",
       "   'name': \"Ms. Deirdre  O'Brien\",\n",
       "   'age': 56,\n",
       "   'title': 'Senior Vice President of Retail',\n",
       "   'yearBorn': 1967,\n",
       "   'fiscalYear': 2023,\n",
       "   'totalPay': 4613369,\n",
       "   'exercisedValue': 0,\n",
       "   'unexercisedValue': 0},\n",
       "  {'maxAge': 1,\n",
       "   'name': 'Mr. Chris  Kondo',\n",
       "   'title': 'Senior Director of Corporate Accounting',\n",
       "   'fiscalYear': 2023,\n",
       "   'exercisedValue': 0,\n",
       "   'unexercisedValue': 0},\n",
       "  {'maxAge': 1,\n",
       "   'name': 'Mr. James  Wilson',\n",
       "   'title': 'Chief Technology Officer',\n",
       "   'fiscalYear': 2023,\n",
       "   'exercisedValue': 0,\n",
       "   'unexercisedValue': 0},\n",
       "  {'maxAge': 1,\n",
       "   'name': 'Suhasini  Chandramouli',\n",
       "   'title': 'Director of Investor Relations',\n",
       "   'fiscalYear': 2023,\n",
       "   'exercisedValue': 0,\n",
       "   'unexercisedValue': 0},\n",
       "  {'maxAge': 1,\n",
       "   'name': 'Mr. Greg  Joswiak',\n",
       "   'title': 'Senior Vice President of Worldwide Marketing',\n",
       "   'fiscalYear': 2023,\n",
       "   'exercisedValue': 0,\n",
       "   'unexercisedValue': 0},\n",
       "  {'maxAge': 1,\n",
       "   'name': 'Mr. Adrian  Perica',\n",
       "   'age': 49,\n",
       "   'title': 'Head of Corporate Development',\n",
       "   'yearBorn': 1974,\n",
       "   'fiscalYear': 2023,\n",
       "   'exercisedValue': 0,\n",
       "   'unexercisedValue': 0}],\n",
       " 'auditRisk': 6,\n",
       " 'boardRisk': 1,\n",
       " 'compensationRisk': 2,\n",
       " 'shareHolderRightsRisk': 1,\n",
       " 'overallRisk': 1,\n",
       " 'governanceEpochDate': 1726617600,\n",
       " 'compensationAsOfEpochDate': 1703980800,\n",
       " 'irWebsite': 'http://investor.apple.com/',\n",
       " 'maxAge': 86400,\n",
       " 'priceHint': 2,\n",
       " 'previousClose': 228.2,\n",
       " 'open': 227.34,\n",
       " 'dayLow': 225.81,\n",
       " 'dayHigh': 229.45,\n",
       " 'regularMarketPreviousClose': 228.2,\n",
       " 'regularMarketOpen': 227.34,\n",
       " 'regularMarketDayLow': 225.81,\n",
       " 'regularMarketDayHigh': 229.45,\n",
       " 'dividendRate': 1.0,\n",
       " 'dividendYield': 0.0044,\n",
       " 'exDividendDate': 1723420800,\n",
       " 'payoutRatio': 0.1476,\n",
       " 'fiveYearAvgDividendYield': 0.66,\n",
       " 'beta': 1.24,\n",
       " 'trailingPE': 34.470318,\n",
       " 'forwardPE': 30.276737,\n",
       " 'volume': 48904893,\n",
       " 'regularMarketVolume': 48904893,\n",
       " 'averageVolume': 56381458,\n",
       " 'averageVolume10days': 77477340,\n",
       " 'averageDailyVolume10Day': 77477340,\n",
       " 'bid': 226.4,\n",
       " 'ask': 238.83,\n",
       " 'bidSize': 100,\n",
       " 'askSize': 100,\n",
       " 'marketCap': 3443272450048,\n",
       " 'fiftyTwoWeekLow': 164.08,\n",
       " 'fiftyTwoWeekHigh': 237.23,\n",
       " 'priceToSalesTrailing12Months': 8.929579,\n",
       " 'fiftyDayAverage': 222.3564,\n",
       " 'twoHundredDayAverage': 196.5132,\n",
       " 'trailingAnnualDividendRate': 0.97,\n",
       " 'trailingAnnualDividendYield': 0.0042506573,\n",
       " 'currency': 'USD',\n",
       " 'enterpriseValue': 3482783842304,\n",
       " 'profitMargins': 0.26441,\n",
       " 'floatShares': 15179810381,\n",
       " 'sharesOutstanding': 15204100096,\n",
       " 'sharesShort': 135042504,\n",
       " 'sharesShortPriorMonth': 117696224,\n",
       " 'sharesShortPreviousMonthDate': 1722384000,\n",
       " 'dateShortInterest': 1724976000,\n",
       " 'sharesPercentSharesOut': 0.0089,\n",
       " 'heldPercentInsiders': 0.02703,\n",
       " 'heldPercentInstitutions': 0.60884,\n",
       " 'shortRatio': 2.67,\n",
       " 'shortPercentOfFloat': 0.0089,\n",
       " 'impliedSharesOutstanding': 15250799616,\n",
       " 'bookValue': 4.382,\n",
       " 'priceToBook': 51.68188,\n",
       " 'lastFiscalYearEnd': 1696032000,\n",
       " 'nextFiscalYearEnd': 1727654400,\n",
       " 'mostRecentQuarter': 1719619200,\n",
       " 'earningsQuarterlyGrowth': 0.079,\n",
       " 'netIncomeToCommon': 101956001792,\n",
       " 'trailingEps': 6.57,\n",
       " 'forwardEps': 7.48,\n",
       " 'pegRatio': 3.07,\n",
       " 'lastSplitFactor': '4:1',\n",
       " 'lastSplitDate': 1598832000,\n",
       " 'enterpriseToRevenue': 9.032,\n",
       " 'enterpriseToEbitda': 26.429,\n",
       " '52WeekChange': 0.31699228,\n",
       " 'SandP52WeekChange': 0.33813727,\n",
       " 'lastDividendValue': 0.25,\n",
       " 'lastDividendDate': 1723420800,\n",
       " 'exchange': 'NMS',\n",
       " 'quoteType': 'EQUITY',\n",
       " 'symbol': 'AAPL',\n",
       " 'underlyingSymbol': 'AAPL',\n",
       " 'shortName': 'Apple Inc.',\n",
       " 'longName': 'Apple Inc.',\n",
       " 'firstTradeDateEpochUtc': 345479400,\n",
       " 'timeZoneFullName': 'America/New_York',\n",
       " 'timeZoneShortName': 'EDT',\n",
       " 'uuid': '8b10e4ae-9eeb-3684-921a-9ab27e4d87aa',\n",
       " 'messageBoardId': 'finmb_24937',\n",
       " 'gmtOffSetMilliseconds': -14400000,\n",
       " 'currentPrice': 226.47,\n",
       " 'targetHighPrice': 300.0,\n",
       " 'targetLowPrice': 183.86,\n",
       " 'targetMeanPrice': 240.58,\n",
       " 'targetMedianPrice': 243.0,\n",
       " 'recommendationMean': 2.0,\n",
       " 'recommendationKey': 'buy',\n",
       " 'numberOfAnalystOpinions': 40,\n",
       " 'totalCash': 61801000960,\n",
       " 'totalCashPerShare': 4.065,\n",
       " 'ebitda': 131781001216,\n",
       " 'totalDebt': 101304000512,\n",
       " 'quickRatio': 0.798,\n",
       " 'currentRatio': 0.953,\n",
       " 'totalRevenue': 385603010560,\n",
       " 'debtToEquity': 151.862,\n",
       " 'revenuePerShare': 24.957,\n",
       " 'returnOnAssets': 0.22612,\n",
       " 'returnOnEquity': 1.60583,\n",
       " 'freeCashflow': 86158123008,\n",
       " 'operatingCashflow': 113040998400,\n",
       " 'earningsGrowth': 0.111,\n",
       " 'revenueGrowth': 0.049,\n",
       " 'grossMargins': 0.45962003,\n",
       " 'ebitdaMargins': 0.34175,\n",
       " 'operatingMargins': 0.29556,\n",
       " 'financialCurrency': 'USD',\n",
       " 'trailingPegRatio': 2.1735}"
      ]
     },
     "execution_count": 8,
     "metadata": {},
     "output_type": "execute_result"
    }
   ],
   "source": [
    "data = yf.Ticker(\"AAPL\").info\n",
    "print(data.get('exchange'), \"NMS = NASDQ\")\n",
    "data"
   ]
  },
  {
   "cell_type": "code",
   "execution_count": 9,
   "metadata": {},
   "outputs": [
    {
     "name": "stderr",
     "output_type": "stream",
     "text": [
      "[*********************100%%**********************]  1 of 1 completed\n"
     ]
    },
    {
     "data": {
      "text/html": [
       "<div>\n",
       "<style scoped>\n",
       "    .dataframe tbody tr th:only-of-type {\n",
       "        vertical-align: middle;\n",
       "    }\n",
       "\n",
       "    .dataframe tbody tr th {\n",
       "        vertical-align: top;\n",
       "    }\n",
       "\n",
       "    .dataframe thead th {\n",
       "        text-align: right;\n",
       "    }\n",
       "</style>\n",
       "<table border=\"1\" class=\"dataframe\">\n",
       "  <thead>\n",
       "    <tr style=\"text-align: right;\">\n",
       "      <th></th>\n",
       "      <th>Open</th>\n",
       "      <th>High</th>\n",
       "      <th>Low</th>\n",
       "      <th>Close</th>\n",
       "      <th>Adj Close</th>\n",
       "      <th>Volume</th>\n",
       "    </tr>\n",
       "    <tr>\n",
       "      <th>Date</th>\n",
       "      <th></th>\n",
       "      <th></th>\n",
       "      <th></th>\n",
       "      <th></th>\n",
       "      <th></th>\n",
       "      <th></th>\n",
       "    </tr>\n",
       "  </thead>\n",
       "  <tbody>\n",
       "    <tr>\n",
       "      <th>1980-12-12</th>\n",
       "      <td>0.128</td>\n",
       "      <td>0.129</td>\n",
       "      <td>0.128</td>\n",
       "      <td>0.128</td>\n",
       "      <td>0.099</td>\n",
       "      <td>469033600</td>\n",
       "    </tr>\n",
       "    <tr>\n",
       "      <th>1980-12-15</th>\n",
       "      <td>0.122</td>\n",
       "      <td>0.122</td>\n",
       "      <td>0.122</td>\n",
       "      <td>0.122</td>\n",
       "      <td>0.094</td>\n",
       "      <td>175884800</td>\n",
       "    </tr>\n",
       "    <tr>\n",
       "      <th>1980-12-16</th>\n",
       "      <td>0.113</td>\n",
       "      <td>0.113</td>\n",
       "      <td>0.113</td>\n",
       "      <td>0.113</td>\n",
       "      <td>0.087</td>\n",
       "      <td>105728000</td>\n",
       "    </tr>\n",
       "    <tr>\n",
       "      <th>1980-12-17</th>\n",
       "      <td>0.116</td>\n",
       "      <td>0.116</td>\n",
       "      <td>0.116</td>\n",
       "      <td>0.116</td>\n",
       "      <td>0.089</td>\n",
       "      <td>86441600</td>\n",
       "    </tr>\n",
       "    <tr>\n",
       "      <th>1980-12-18</th>\n",
       "      <td>0.119</td>\n",
       "      <td>0.119</td>\n",
       "      <td>0.119</td>\n",
       "      <td>0.119</td>\n",
       "      <td>0.092</td>\n",
       "      <td>73449600</td>\n",
       "    </tr>\n",
       "    <tr>\n",
       "      <th>...</th>\n",
       "      <td>...</td>\n",
       "      <td>...</td>\n",
       "      <td>...</td>\n",
       "      <td>...</td>\n",
       "      <td>...</td>\n",
       "      <td>...</td>\n",
       "    </tr>\n",
       "    <tr>\n",
       "      <th>2024-09-17</th>\n",
       "      <td>215.750</td>\n",
       "      <td>216.900</td>\n",
       "      <td>214.500</td>\n",
       "      <td>216.790</td>\n",
       "      <td>216.790</td>\n",
       "      <td>45519300</td>\n",
       "    </tr>\n",
       "    <tr>\n",
       "      <th>2024-09-18</th>\n",
       "      <td>217.550</td>\n",
       "      <td>222.710</td>\n",
       "      <td>217.540</td>\n",
       "      <td>220.690</td>\n",
       "      <td>220.690</td>\n",
       "      <td>59894900</td>\n",
       "    </tr>\n",
       "    <tr>\n",
       "      <th>2024-09-19</th>\n",
       "      <td>224.990</td>\n",
       "      <td>229.820</td>\n",
       "      <td>224.630</td>\n",
       "      <td>228.870</td>\n",
       "      <td>228.870</td>\n",
       "      <td>66781300</td>\n",
       "    </tr>\n",
       "    <tr>\n",
       "      <th>2024-09-20</th>\n",
       "      <td>229.970</td>\n",
       "      <td>233.090</td>\n",
       "      <td>227.620</td>\n",
       "      <td>228.200</td>\n",
       "      <td>228.200</td>\n",
       "      <td>318679900</td>\n",
       "    </tr>\n",
       "    <tr>\n",
       "      <th>2024-09-23</th>\n",
       "      <td>227.340</td>\n",
       "      <td>229.450</td>\n",
       "      <td>225.810</td>\n",
       "      <td>226.470</td>\n",
       "      <td>226.470</td>\n",
       "      <td>54097700</td>\n",
       "    </tr>\n",
       "  </tbody>\n",
       "</table>\n",
       "<p>11036 rows × 6 columns</p>\n",
       "</div>"
      ],
      "text/plain": [
       "               Open     High      Low    Close  Adj Close     Volume\n",
       "Date                                                                \n",
       "1980-12-12    0.128    0.129    0.128    0.128      0.099  469033600\n",
       "1980-12-15    0.122    0.122    0.122    0.122      0.094  175884800\n",
       "1980-12-16    0.113    0.113    0.113    0.113      0.087  105728000\n",
       "1980-12-17    0.116    0.116    0.116    0.116      0.089   86441600\n",
       "1980-12-18    0.119    0.119    0.119    0.119      0.092   73449600\n",
       "...             ...      ...      ...      ...        ...        ...\n",
       "2024-09-17  215.750  216.900  214.500  216.790    216.790   45519300\n",
       "2024-09-18  217.550  222.710  217.540  220.690    220.690   59894900\n",
       "2024-09-19  224.990  229.820  224.630  228.870    228.870   66781300\n",
       "2024-09-20  229.970  233.090  227.620  228.200    228.200  318679900\n",
       "2024-09-23  227.340  229.450  225.810  226.470    226.470   54097700\n",
       "\n",
       "[11036 rows x 6 columns]"
      ]
     },
     "execution_count": 9,
     "metadata": {},
     "output_type": "execute_result"
    }
   ],
   "source": [
    "data = yf.download(\"AAPL\")\n",
    "data = data.round(3)\n",
    "data"
   ]
  },
  {
   "cell_type": "code",
   "execution_count": null,
   "metadata": {},
   "outputs": [],
   "source": []
  }
 ],
 "metadata": {
  "kernelspec": {
   "display_name": "base",
   "language": "python",
   "name": "python3"
  },
  "language_info": {
   "codemirror_mode": {
    "name": "ipython",
    "version": 3
   },
   "file_extension": ".py",
   "mimetype": "text/x-python",
   "name": "python",
   "nbconvert_exporter": "python",
   "pygments_lexer": "ipython3",
   "version": "3.12.3"
  }
 },
 "nbformat": 4,
 "nbformat_minor": 2
}
