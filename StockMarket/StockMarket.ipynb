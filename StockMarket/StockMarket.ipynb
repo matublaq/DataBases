{
 "cells": [
  {
   "cell_type": "code",
   "execution_count": 2,
   "metadata": {},
   "outputs": [],
   "source": [
    "import os\n",
    "import numpy as np\n",
    "import pandas as pd\n",
    "import matplotlib.pyplot as plt\n",
    "import sqlite3\n",
    "import shutil\n",
    "from datetime import datetime, timedelta\n",
    "import requests\n",
    "import json\n",
    "\n",
    "import yfinance as yf\n",
    "import alpha_vantage as av\n",
    "from alpha_vantage.timeseries import TimeSeries"
   ]
  },
  {
   "cell_type": "markdown",
   "metadata": {},
   "source": [
    "<p style='text-align: center; color: skyblue; font-size: 50px;'>SQL</p>"
   ]
  },
  {
   "cell_type": "code",
   "execution_count": 3,
   "metadata": {},
   "outputs": [],
   "source": [
    "from SQL_functions import *"
   ]
  },
  {
   "cell_type": "markdown",
   "metadata": {},
   "source": [
    "All tickers"
   ]
  },
  {
   "cell_type": "code",
   "execution_count": 13,
   "metadata": {},
   "outputs": [
    {
     "name": "stdout",
     "output_type": "stream",
     "text": [
      "   ticker\n",
      "0    AAPL\n",
      "1    ABNB\n",
      "2    ADBE\n",
      "3    AMZN\n",
      "4   BRK-B\n",
      "5     DIS\n",
      "6   GOOGL\n",
      "7    INTC\n",
      "8     JNJ\n",
      "9     JPM\n",
      "10     KO\n",
      "11   MELI\n",
      "12   META\n",
      "13   MSFT\n",
      "14   NFLX\n",
      "15   NVDA\n",
      "16    PEP\n",
      "17     PG\n",
      "18    SAN\n",
      "19     TM\n",
      "20   TSLA\n",
      "21      V\n",
      "22    YPF\n"
     ]
    }
   ],
   "source": [
    "database = '../StockMarket.db' #../StockMarket.db #StockMarket_backup.db\n",
    "conn = sqlite3.connect('../StockMarket.db')\n",
    "\n",
    "all_tickers = pd.read_sql_query(\"SELECT ticker FROM Companies;\", conn)\n",
    "all_tickers.to_csv('tickers_backup.csv', index=False)\n",
    "print(all_tickers)\n",
    "\n",
    "conn.close()"
   ]
  },
  {
   "cell_type": "markdown",
   "metadata": {},
   "source": [
    "<p style='text-align: center; font-size: 30px; color: orange;'>Insertar, actualizar y eliminar datos</p>"
   ]
  },
  {
   "cell_type": "markdown",
   "metadata": {},
   "source": [
    "<p style='font-size: 25px; text-align: center; color: violet;'>Agregar empresas</p>"
   ]
  },
  {
   "cell_type": "code",
   "execution_count": 14,
   "metadata": {},
   "outputs": [
    {
     "data": {
      "text/plain": [
       "'\\n#Add all companies from the csv file\\ndatabase = \"../StockMarket.db\"\\n#database =  \"StockMarket_backup.db\"\\n\\nadd_tickers = pd.read_csv(\\'tickers_backup.csv\\')\\nfor ticker in add_tickers[\\'ticker\\']:\\n    insert_company(ticker, database)\\n'"
      ]
     },
     "execution_count": 14,
     "metadata": {},
     "output_type": "execute_result"
    }
   ],
   "source": [
    "'''\n",
    "#Add all companies from the csv file\n",
    "database = \"../StockMarket.db\"\n",
    "#database =  \"StockMarket_backup.db\"\n",
    "\n",
    "add_tickers = pd.read_csv('tickers_backup.csv')\n",
    "for ticker in add_tickers['ticker']:\n",
    "    insert_company(ticker, database)\n",
    "'''"
   ]
  },
  {
   "cell_type": "markdown",
   "metadata": {},
   "source": [
    "<p style='font-size: 25px; text-align: center; color: violet;'>Crear, eliminar, agregar datos, backup database</p>"
   ]
  },
  {
   "cell_type": "code",
   "execution_count": 15,
   "metadata": {},
   "outputs": [],
   "source": [
    "database = \"../StockMarket.db\"\n",
    "#database =  \"StockMarket_backup.db\" \n",
    "\n",
    "#create_database(database)\n",
    "\n",
    "#company_ticker = str(input('Enter the company ticker: '))\n",
    "#insert_company(company_ticker, database)\n",
    "\n",
    "#ticker = str(input(\"Enter the company ticker for delete in database: \"))\n",
    "#delete_company(ticker, database)\n",
    "\n",
    "#delete_database(database)\n",
    "#delete_data(database)\n",
    "\n",
    "#backup_database(\"../StockMarket.db\")\n",
    "\n",
    "#ticker = str(input(\"Enter the company ticker for update data: \"))\n",
    "#update_stock_quotes(ticker, database)\n",
    "\n",
    "#update_all_stock_quotes(database)\n",
    "\n",
    "\n",
    "#restart_database(database)"
   ]
  },
  {
   "cell_type": "markdown",
   "metadata": {},
   "source": [
    "<p style='font-size: 25px; text-align: center; color: violet;'>Tamano de los archivos</p>"
   ]
  },
  {
   "cell_type": "code",
   "execution_count": 16,
   "metadata": {},
   "outputs": [
    {
     "name": "stdout",
     "output_type": "stream",
     "text": [
      "Database size:  51.57 MB\n"
     ]
    }
   ],
   "source": [
    "url = '../StockMarket.db'\n",
    "#url = 'StockMarket_backup.db'\n",
    "file_weight = os.path.getsize(url)\n",
    "print('Database size: ', round((file_weight/1024)/1024, 2), 'MB')"
   ]
  },
  {
   "cell_type": "markdown",
   "metadata": {},
   "source": [
    "---"
   ]
  },
  {
   "cell_type": "markdown",
   "metadata": {},
   "source": [
    "<p style=\"font-size: 50px; text-align: center;\">Desarrollo</p>"
   ]
  },
  {
   "cell_type": "code",
   "execution_count": null,
   "metadata": {},
   "outputs": [],
   "source": []
  },
  {
   "cell_type": "markdown",
   "metadata": {},
   "source": [
    "---\n",
    "---"
   ]
  },
  {
   "cell_type": "code",
   "execution_count": 17,
   "metadata": {},
   "outputs": [],
   "source": [
    "conn = sqlite3.connect('StockMarket_backup.db')\n",
    "cursor = conn.cursor()\n",
    "\n",
    "\n",
    "\n",
    "conn.close()"
   ]
  },
  {
   "cell_type": "code",
   "execution_count": 8,
   "metadata": {},
   "outputs": [
    {
     "data": {
      "text/plain": [
       "\" #Be Casa IP vaneada de la API yfinance\\ndf = yf.Ticker('AAPL').info\\n\\nexchange = df['exchange']\\nprint(exchange)\\n\""
      ]
     },
     "execution_count": 8,
     "metadata": {},
     "output_type": "execute_result"
    }
   ],
   "source": [
    "\"\"\" #Be Casa IP vaneada de la API yfinance\n",
    "df = yf.Ticker('AAPL').info\n",
    "\n",
    "exchange = df['exchange']\n",
    "print(exchange)\n",
    "\"\"\"\n"
   ]
  },
  {
   "cell_type": "markdown",
   "metadata": {},
   "source": [
    "## Finnhub"
   ]
  },
  {
   "cell_type": "markdown",
   "metadata": {},
   "source": [
    "#### API-KEY: d0bn10pr01qs9fji35ngd0bn10pr01qs9fji35o0\n",
    "Secret: d0bn10pr01qs9fji35p0"
   ]
  },
  {
   "cell_type": "code",
   "execution_count": 15,
   "metadata": {},
   "outputs": [
    {
     "data": {
      "text/plain": [
       "'\\nimport finnhub\\nimport pandas as pd\\n\\napi_key = \"d0bn10pr01qs9fji35ngd0bn10pr01qs9fji35o0\"\\n\\nfinnhub_client = finnhub.Client(api_key=api_key)\\n\\n# Get historical data for a stock\\nres = finnhub_client.stock_candles(\\n    symbol=\\'AAPL\\', \\n    resolution=\\'D\\',                 # D = diario, 1 = 1min, 60 = 1h, etc.\\n    _from=1609459200,                        # Timestamp in seconds (Unix time)\\n    to=1667347200)                 # Timestamp in seconds (Unix time)\\n\\ndf = pd.DataFrame(res)\\nprint(df.head())\\n'"
      ]
     },
     "execution_count": 15,
     "metadata": {},
     "output_type": "execute_result"
    }
   ],
   "source": [
    "'''\n",
    "import finnhub\n",
    "import pandas as pd\n",
    "\n",
    "api_key = \"d0bn10pr01qs9fji35ngd0bn10pr01qs9fji35o0\"\n",
    "\n",
    "finnhub_client = finnhub.Client(api_key=api_key)\n",
    "\n",
    "# Get historical data for a stock\n",
    "res = finnhub_client.stock_candles(\n",
    "    symbol='AAPL', \n",
    "    resolution='D',                 # D = diario, 1 = 1min, 60 = 1h, etc.\n",
    "    _from=1609459200,                        # Timestamp in seconds (Unix time)\n",
    "    to=1667347200)                 # Timestamp in seconds (Unix time)\n",
    "\n",
    "df = pd.DataFrame(res)\n",
    "print(df.head())\n",
    "'''"
   ]
  },
  {
   "cell_type": "markdown",
   "metadata": {},
   "source": [
    "---"
   ]
  },
  {
   "cell_type": "markdown",
   "metadata": {},
   "source": [
    "## Alpha Vantage"
   ]
  },
  {
   "cell_type": "code",
   "execution_count": 17,
   "metadata": {},
   "outputs": [
    {
     "data": {
      "text/plain": [
       "\"\\nfrom alpha_vantage.techindicators import TechIndicators\\n\\nti = TechIndicators(key='TU_API_KEY', output_format='pandas')\\ndata, meta = ti.get_rsi(symbol='GOOG', interval='daily', time_period=14, series_type='close') #get_sma, get_ema, get_macd, get_stoch, get_cci, get_adx, get_roc, get_bbands, get_sar, get_wma, get_apo, get_aroon, get_atr, get_cmo, get_dpo, get_mfi, get_stochf, get_trix\\nprint(data)\\n\""
      ]
     },
     "execution_count": 17,
     "metadata": {},
     "output_type": "execute_result"
    }
   ],
   "source": [
    "'''\n",
    "API_KEY = 'JYV2RB1P7Q7SH585' #Alpha Vantage API key\n",
    "ts = TimeSeries(key=API_KEY, output_format='pandas')\n",
    "data, meta_data = ts.get_intraday(symbol='AAPL', interval='60min', outputsize='full') #1, 5, 15, 30, 60min\n",
    "print(data)\n",
    "print(meta_data)\n",
    "'''\n",
    "'''\n",
    "from alpha_vantage.techindicators import TechIndicators\n",
    "\n",
    "ti = TechIndicators(key='TU_API_KEY', output_format='pandas')\n",
    "data, meta = ti.get_rsi(symbol='GOOG', interval='daily', time_period=14, series_type='close') #get_sma, get_ema, get_macd, get_stoch, get_cci, get_adx, get_roc, get_bbands, get_sar, get_wma, get_apo, get_aroon, get_atr, get_cmo, get_dpo, get_mfi, get_stochf, get_trix\n",
    "print(data)\n",
    "'''"
   ]
  },
  {
   "cell_type": "code",
   "execution_count": 16,
   "metadata": {},
   "outputs": [
    {
     "data": {
      "text/plain": [
       "\"\\nAPI_KEY = 'JYV2RB1P7Q7SH585' #Alpha Vantage API key\\nsymbol = 'AAPL'\\n\\nurl = 'https://www.alphavantage.co/query'\\nparams = {\\n    'function': 'TIME_SERIES_DAILY_ADJUSTED',\\n    'symbol': symbol,\\n    'outputsize': 'full',   #'compact' or 'full'. 'compact' returns the last 100 data points, 'full' returns all available data points\\n    'apikey': API_KEY,\\n    'datatype': 'json'  # 'json' or 'csv'\\n}\\n\\n\\nresponse = requests.get(url, params=params)\\ndata = response.json()\\nprint(data)\\n\\n# Parseo del JSON a DataFrame\\ndf = pd.DataFrame.from_dict(data['Time Series (Daily)'], orient='index')\\ndf = df.rename(columns={\\n    '1. open': 'open',\\n    '2. high': 'high',\\n    '3. low': 'low',\\n    '4. close': 'close',\\n    '5. adjusted close': 'adjusted_close',\\n    '6. volume': 'volume',\\n    '7. dividend amount': 'dividend_amount',\\n    '8. split coefficient': 'split_coefficient'\\n})\\n\\ndf.index = pd.to_datetime(df.index)\\ndf = df.astype(float)  # Convert all columns to float\\ndf = df.sort_index(ascending=True)  # Sort the DataFrame by index (date)\\n\\nprint(df.head())\\n\""
      ]
     },
     "execution_count": 16,
     "metadata": {},
     "output_type": "execute_result"
    }
   ],
   "source": [
    "'''\n",
    "API_KEY = 'JYV2RB1P7Q7SH585' #Alpha Vantage API key\n",
    "symbol = 'AAPL'\n",
    "\n",
    "url = 'https://www.alphavantage.co/query'\n",
    "params = {\n",
    "    'function': 'TIME_SERIES_DAILY_ADJUSTED',\n",
    "    'symbol': symbol,\n",
    "    'outputsize': 'full',   #'compact' or 'full'. 'compact' returns the last 100 data points, 'full' returns all available data points\n",
    "    'apikey': API_KEY,\n",
    "    'datatype': 'json'  # 'json' or 'csv'\n",
    "}\n",
    "\n",
    "\n",
    "response = requests.get(url, params=params)\n",
    "data = response.json()\n",
    "print(data)\n",
    "\n",
    "# Parseo del JSON a DataFrame\n",
    "df = pd.DataFrame.from_dict(data['Time Series (Daily)'], orient='index')\n",
    "df = df.rename(columns={\n",
    "    '1. open': 'open',\n",
    "    '2. high': 'high',\n",
    "    '3. low': 'low',\n",
    "    '4. close': 'close',\n",
    "    '5. adjusted close': 'adjusted_close',\n",
    "    '6. volume': 'volume',\n",
    "    '7. dividend amount': 'dividend_amount',\n",
    "    '8. split coefficient': 'split_coefficient'\n",
    "})\n",
    "\n",
    "df.index = pd.to_datetime(df.index)\n",
    "df = df.astype(float)  # Convert all columns to float\n",
    "df = df.sort_index(ascending=True)  # Sort the DataFrame by index (date)\n",
    "\n",
    "print(df.head())\n",
    "'''"
   ]
  },
  {
   "cell_type": "markdown",
   "metadata": {},
   "source": [
    "---\n",
    "---\n",
    "---"
   ]
  },
  {
   "cell_type": "code",
   "execution_count": 20,
   "metadata": {},
   "outputs": [
    {
     "data": {
      "text/plain": [
       "' \\ndata = yf.Ticker(\"AAPL\").info\\nprint(data.get(\\'exchange\\'), \"NMS = NASDAQ\")\\ndata\\n'"
      ]
     },
     "execution_count": 20,
     "metadata": {},
     "output_type": "execute_result"
    }
   ],
   "source": [
    "#This part of the code is not working because the \"Be casa\" network's IP address was banned by yfinance API\n",
    "''' \n",
    "data = yf.Ticker(\"AAPL\").info\n",
    "print(data.get('exchange'), \"NMS = NASDAQ\")\n",
    "data\n",
    "'''"
   ]
  },
  {
   "cell_type": "code",
   "execution_count": 21,
   "metadata": {},
   "outputs": [
    {
     "data": {
      "text/plain": [
       "'\\ndata = yf.download(\"AAPL\")\\ndata = data.round(3)\\ndata\\n'"
      ]
     },
     "execution_count": 21,
     "metadata": {},
     "output_type": "execute_result"
    }
   ],
   "source": [
    "#This part of the code is not working because the \"Be casa\" network's IP address was banned by yfinance API\n",
    "'''\n",
    "data = yf.download(\"AAPL\")\n",
    "data = data.round(3)\n",
    "data\n",
    "'''"
   ]
  },
  {
   "cell_type": "code",
   "execution_count": null,
   "metadata": {},
   "outputs": [],
   "source": []
  }
 ],
 "metadata": {
  "kernelspec": {
   "display_name": "base",
   "language": "python",
   "name": "python3"
  },
  "language_info": {
   "codemirror_mode": {
    "name": "ipython",
    "version": 3
   },
   "file_extension": ".py",
   "mimetype": "text/x-python",
   "name": "python",
   "nbconvert_exporter": "python",
   "pygments_lexer": "ipython3",
   "version": "3.12.4"
  }
 },
 "nbformat": 4,
 "nbformat_minor": 2
}
