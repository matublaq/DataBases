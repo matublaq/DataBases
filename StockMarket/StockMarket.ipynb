{
 "cells": [
  {
   "cell_type": "code",
   "execution_count": 1,
   "metadata": {},
   "outputs": [],
   "source": [
    "import numpy as np\n",
    "import pandas as pd\n",
    "import matplotlib.pyplot as plt\n",
    "import sqlite3\n",
    "import shutil\n",
    "from datetime import datetime, timedelta\n",
    "\n",
    "import yfinance as yf"
   ]
  },
  {
   "cell_type": "markdown",
   "metadata": {},
   "source": [
    "<p style='text-align: center; color: skyblue; font-size: 50px;'>SQL</p>"
   ]
  },
  {
   "cell_type": "code",
   "execution_count": 2,
   "metadata": {},
   "outputs": [],
   "source": [
    "from SQL_functions import *"
   ]
  },
  {
   "cell_type": "markdown",
   "metadata": {},
   "source": [
    "All tickers"
   ]
  },
  {
   "cell_type": "code",
   "execution_count": 3,
   "metadata": {},
   "outputs": [
    {
     "name": "stdout",
     "output_type": "stream",
     "text": [
      "   ticker\n",
      "0    AAPL\n",
      "1    ABNB\n",
      "2    ADBE\n",
      "3    AMZN\n",
      "4   BRK-B\n",
      "5   GOOGL\n",
      "6    MELI\n",
      "7    META\n",
      "8    MSFT\n",
      "9    NVDA\n",
      "10    PEP\n",
      "11    SAN\n",
      "12   TSLA\n",
      "13    YPF\n"
     ]
    }
   ],
   "source": [
    "database = '../StockMarket.db' #../StockMarket.db #StockMarket_backup.db\n",
    "conn = sqlite3.connect('../StockMarket.db')\n",
    "\n",
    "all_tickers = pd.read_sql_query(\"SELECT ticker FROM Companies;\", conn)\n",
    "all_tickers.to_csv('tickers_backup.csv', index=False)\n",
    "print(all_tickers)\n",
    "\n",
    "conn.close()"
   ]
  },
  {
   "cell_type": "markdown",
   "metadata": {},
   "source": [
    "<p style='text-align: center; font-size: 30px; color: orange;'>Insertar, actualizar y eliminar datos</p>"
   ]
  },
  {
   "cell_type": "markdown",
   "metadata": {},
   "source": [
    "<p style='font-size: 25px; text-align: center; color: violet;'>Agregar empresa</p>"
   ]
  },
  {
   "cell_type": "code",
   "execution_count": 4,
   "metadata": {},
   "outputs": [
    {
     "data": {
      "text/plain": [
       "\"\\nadd_tickers = pd.read_csv('tickers_backup.csv')\\nfor ticker in add_tickers['ticker']:\\n    insert_company(ticker, '../StockMarket.db')\\n\""
      ]
     },
     "execution_count": 4,
     "metadata": {},
     "output_type": "execute_result"
    }
   ],
   "source": [
    "#Add all companies from the csv file\n",
    "'''\n",
    "add_tickers = pd.read_csv('tickers_backup.csv')\n",
    "for ticker in add_tickers['ticker']:\n",
    "    insert_company(ticker, '../StockMarket.db')\n",
    "'''"
   ]
  },
  {
   "cell_type": "markdown",
   "metadata": {},
   "source": [
    "<p style='font-size: 25px; text-align: center; color: violet;'>Crear, eliminar, agregar datos, backup database</p>"
   ]
  },
  {
   "cell_type": "code",
   "execution_count": 5,
   "metadata": {},
   "outputs": [
    {
     "name": "stderr",
     "output_type": "stream",
     "text": [
      "[*********************100%%**********************]  1 of 1 completed\n",
      "[*********************100%%**********************]  1 of 1 completed\n"
     ]
    },
    {
     "name": "stdout",
     "output_type": "stream",
     "text": [
      "[(1, '2024-09-03', 228.55, 229.0, 221.17, 222.77, 50190600), (1, '2024-09-04', 221.66, 221.78, 217.48, 220.85, 43840200), (1, '2024-09-05', 221.63, 225.48, 221.52, 222.38, 36615400), (1, '2024-09-06', 223.95, 225.24, 219.77, 220.82, 48388600)]\n",
      "[(2, '2024-09-03', 116.395, 117.835, 114.13, 114.98, 4678800), (2, '2024-09-04', 114.27, 115.99, 114.19, 115.21, 3281600), (2, '2024-09-05', 114.64, 116.45, 114.6, 116.16, 3593400), (2, '2024-09-06', 116.37, 117.26, 113.24, 114.28, 4068700)]\n"
     ]
    },
    {
     "name": "stderr",
     "output_type": "stream",
     "text": [
      "[*********************100%%**********************]  1 of 1 completed\n",
      "[*********************100%%**********************]  1 of 1 completed\n"
     ]
    },
    {
     "name": "stdout",
     "output_type": "stream",
     "text": [
      "[(3, '2024-09-03', 576.3, 586.7, 566.79, 571.04, 2757900), (3, '2024-09-04', 568.87, 578.86, 565.76, 575.25, 1615800), (3, '2024-09-05', 570.75, 573.39, 562.53, 567.93, 1573600), (3, '2024-09-06', 570.9, 573.31, 558.0, 563.41, 2096000)]\n",
      "[(4, '2024-09-03', 177.55, 178.26, 175.26, 176.25, 37817500), (4, '2024-09-04', 174.48, 175.98, 172.54, 173.33, 30309200), (4, '2024-09-05', 175.0, 179.88, 175.0, 177.89, 40170500), (4, '2024-09-06', 177.24, 178.38, 171.16, 171.39, 41179000)]\n"
     ]
    },
    {
     "name": "stderr",
     "output_type": "stream",
     "text": [
      "[*********************100%%**********************]  1 of 1 completed\n",
      "[*********************100%%**********************]  1 of 1 completed"
     ]
    },
    {
     "name": "stdout",
     "output_type": "stream",
     "text": [
      "[(5, '2024-09-03', 475.0, 482.89, 473.72, 476.83, 7511900), (5, '2024-09-04', 478.68, 484.82, 474.22, 478.57, 5309400), (5, '2024-09-05', 479.43, 479.43, 462.88, 464.92, 6213200), (5, '2024-09-06', 463.82, 468.17, 458.55, 459.42, 4397100)]\n",
      "[(6, '2024-09-03', 161.72, 161.85, 156.48, 157.36, 38945300), (6, '2024-09-04', 156.66, 159.0, 155.96, 156.45, 19353800), (6, '2024-09-05', 156.3, 159.45, 155.98, 157.24, 18688700), (6, '2024-09-06', 157.3, 157.83, 150.55, 150.92, 37380400)]\n"
     ]
    },
    {
     "name": "stderr",
     "output_type": "stream",
     "text": [
      "\n",
      "[*********************100%%**********************]  1 of 1 completed\n",
      "[*********************100%%**********************]  1 of 1 completed\n"
     ]
    },
    {
     "name": "stdout",
     "output_type": "stream",
     "text": [
      "[(7, '2024-09-03', 2050.0, 2053.59, 1984.0, 1990.17, 377200), (7, '2024-09-04', 1996.83, 2006.01, 1977.9, 1991.59, 167900), (7, '2024-09-05', 1991.59, 2048.05, 1991.59, 2038.18, 218700), (7, '2024-09-06', 2034.85, 2034.85, 1966.0, 1986.05, 304400)]\n",
      "[(8, '2024-09-03', 519.64, 525.49, 508.62, 511.76, 12431000), (8, '2024-09-06', 522.03, 524.585, 498.255, 500.27, 14744521)]\n"
     ]
    },
    {
     "name": "stderr",
     "output_type": "stream",
     "text": [
      "[*********************100%%**********************]  1 of 1 completed\n",
      "[*********************100%%**********************]  1 of 1 completed\n"
     ]
    },
    {
     "name": "stdout",
     "output_type": "stream",
     "text": [
      "[(9, '2024-09-03', 417.91, 419.88, 407.03, 409.44, 20313600), (9, '2024-09-04', 405.91, 411.24, 404.37, 408.9, 15135800), (9, '2024-09-05', 407.62, 413.1, 406.13, 408.39, 14195500), (9, '2024-09-06', 409.06, 410.65, 400.8, 401.7, 19382200)]\n",
      "[(10, '2024-09-03', 116.01, 116.21, 107.29, 108.0, 477155100), (10, '2024-09-04', 105.41, 113.27, 104.12, 106.21, 372470300), (10, '2024-09-05', 104.99, 109.65, 104.76, 107.21, 306850700), (10, '2024-09-06', 108.04, 108.15, 100.95, 102.83, 411712100)]\n"
     ]
    },
    {
     "name": "stderr",
     "output_type": "stream",
     "text": [
      "[*********************100%%**********************]  1 of 1 completed\n",
      "[*********************100%%**********************]  1 of 1 completed\n"
     ]
    },
    {
     "name": "stdout",
     "output_type": "stream",
     "text": [
      "[(11, '2024-09-03', 172.38, 177.89, 171.88, 177.54, 7032100), (11, '2024-09-04', 177.9, 179.65, 176.29, 178.52, 6188500), (11, '2024-09-05', 178.73, 179.73, 177.52, 179.3, 5743100), (11, '2024-09-06', 177.44, 178.58, 177.0, 177.34, 6393500)]\n",
      "[(12, '2024-09-03', 4.85, 4.88, 4.78, 4.8, 1707100), (12, '2024-09-04', 4.84, 4.86, 4.8, 4.82, 1411700), (12, '2024-09-05', 4.9, 4.92, 4.84, 4.87, 2146100), (12, '2024-09-06', 4.86, 4.88, 4.73, 4.74, 2761200)]\n"
     ]
    },
    {
     "name": "stderr",
     "output_type": "stream",
     "text": [
      "[*********************100%%**********************]  1 of 1 completed\n",
      "[*********************100%%**********************]  1 of 1 completed"
     ]
    },
    {
     "name": "stdout",
     "output_type": "stream",
     "text": [
      "[(13, '2024-09-03', 215.26, 219.9, 209.64, 210.6, 76714200), (13, '2024-09-04', 210.59, 222.22, 210.57, 219.41, 80651800), (13, '2024-09-05', 223.49, 235.0, 222.25, 230.17, 119355000), (13, '2024-09-06', 232.6, 233.6, 210.51, 210.73, 111652800)]\n",
      "[(14, '2024-09-03', 23.48, 23.65, 22.93, 23.25, 3081400), (14, '2024-09-04', 23.17, 24.07, 23.13, 24.04, 3052700), (14, '2024-09-05', 24.14, 24.64, 23.78, 23.92, 2317100), (14, '2024-09-06', 23.87, 24.02, 23.11, 23.35, 1344700)]\n"
     ]
    },
    {
     "name": "stderr",
     "output_type": "stream",
     "text": [
      "\n"
     ]
    },
    {
     "data": {
      "text/plain": [
       "\"Tickers updated \\n ['AAPL', 'ABNB', 'ADBE', 'AMZN', 'BRK-B', 'GOOGL', 'MELI', 'META', 'MSFT', 'NVDA', 'PEP', 'SAN', 'TSLA', 'YPF']\""
      ]
     },
     "execution_count": 5,
     "metadata": {},
     "output_type": "execute_result"
    }
   ],
   "source": [
    "database = \"../StockMarket.db\"\n",
    "#database =  \"StockMarket_backup.db\" \n",
    "\n",
    "#create_database(database)\n",
    "\n",
    "#company_ticker = str(input('Enter the company ticker: '))\n",
    "#insert_company(company_ticker, database)\n",
    "\n",
    "#ticker = str(input(\"Enter the company ticker for delete in database: \"))\n",
    "#delete_company(ticker, database)\n",
    "\n",
    "#delete_database(database)\n",
    "#delete_data(database)\n",
    "\n",
    "#backup_database(\"../StockMarket.db\")\n",
    "\n",
    "#ticker = str(input(\"Enter the company ticker for update data: \"))\n",
    "#update_stock_quotes(ticker, database)\n",
    "\n",
    "update_all_stock_quotes(database)"
   ]
  },
  {
   "cell_type": "markdown",
   "metadata": {},
   "source": [
    "---"
   ]
  },
  {
   "cell_type": "markdown",
   "metadata": {},
   "source": [
    "<p style=\"font-size: 50px; text-align: center;\">Desarrollo</p>"
   ]
  },
  {
   "cell_type": "code",
   "execution_count": null,
   "metadata": {},
   "outputs": [],
   "source": []
  },
  {
   "cell_type": "code",
   "execution_count": null,
   "metadata": {},
   "outputs": [],
   "source": []
  },
  {
   "cell_type": "markdown",
   "metadata": {},
   "source": [
    "---\n",
    "---"
   ]
  },
  {
   "cell_type": "code",
   "execution_count": 6,
   "metadata": {},
   "outputs": [
    {
     "name": "stdout",
     "output_type": "stream",
     "text": [
      "   id\n",
      "0   1\n"
     ]
    }
   ],
   "source": [
    "conn = sqlite3.connect('StockMarket_backup.db')\n",
    "cursor = conn.cursor()\n",
    "\n",
    "company_id = pd.read_sql_query(\"SELECT id FROM Companies WHERE ticker = ?\", conn, params=['AAPL'])\n",
    "\n",
    "conn.close()\n",
    "\n",
    "print(company_id)"
   ]
  },
  {
   "cell_type": "markdown",
   "metadata": {},
   "source": [
    "---\n",
    "---\n",
    "---"
   ]
  },
  {
   "cell_type": "code",
   "execution_count": 7,
   "metadata": {},
   "outputs": [
    {
     "name": "stdout",
     "output_type": "stream",
     "text": [
      "NMS NMS = NASDQ\n"
     ]
    },
    {
     "data": {
      "text/plain": [
       "{'address1': 'One Apple Park Way',\n",
       " 'city': 'Cupertino',\n",
       " 'state': 'CA',\n",
       " 'zip': '95014',\n",
       " 'country': 'United States',\n",
       " 'phone': '408 996 1010',\n",
       " 'website': 'https://www.apple.com',\n",
       " 'industry': 'Consumer Electronics',\n",
       " 'industryKey': 'consumer-electronics',\n",
       " 'industryDisp': 'Consumer Electronics',\n",
       " 'sector': 'Technology',\n",
       " 'sectorKey': 'technology',\n",
       " 'sectorDisp': 'Technology',\n",
       " 'longBusinessSummary': 'Apple Inc. designs, manufactures, and markets smartphones, personal computers, tablets, wearables, and accessories worldwide. The company offers iPhone, a line of smartphones; Mac, a line of personal computers; iPad, a line of multi-purpose tablets; and wearables, home, and accessories comprising AirPods, Apple TV, Apple Watch, Beats products, and HomePod. It also provides AppleCare support and cloud services; and operates various platforms, including the App Store that allow customers to discover and download applications and digital content, such as books, music, video, games, and podcasts. In addition, the company offers various services, such as Apple Arcade, a game subscription service; Apple Fitness+, a personalized fitness service; Apple Music, which offers users a curated listening experience with on-demand radio stations; Apple News+, a subscription news and magazine service; Apple TV+, which offers exclusive original content; Apple Card, a co-branded credit card; and Apple Pay, a cashless payment service, as well as licenses its intellectual property. The company serves consumers, and small and mid-sized businesses; and the education, enterprise, and government markets. It distributes third-party applications for its products through the App Store. The company also sells its products through its retail and online stores, and direct sales force; and third-party cellular network carriers, wholesalers, retailers, and resellers. Apple Inc. was founded in 1976 and is headquartered in Cupertino, California.',\n",
       " 'fullTimeEmployees': 161000,\n",
       " 'companyOfficers': [{'maxAge': 1,\n",
       "   'name': 'Mr. Timothy D. Cook',\n",
       "   'age': 62,\n",
       "   'title': 'CEO & Director',\n",
       "   'yearBorn': 1961,\n",
       "   'fiscalYear': 2023,\n",
       "   'totalPay': 16239562,\n",
       "   'exercisedValue': 0,\n",
       "   'unexercisedValue': 0},\n",
       "  {'maxAge': 1,\n",
       "   'name': 'Mr. Luca  Maestri',\n",
       "   'age': 60,\n",
       "   'title': 'CFO & Senior VP',\n",
       "   'yearBorn': 1963,\n",
       "   'fiscalYear': 2023,\n",
       "   'totalPay': 4612242,\n",
       "   'exercisedValue': 0,\n",
       "   'unexercisedValue': 0},\n",
       "  {'maxAge': 1,\n",
       "   'name': 'Mr. Jeffrey E. Williams',\n",
       "   'age': 59,\n",
       "   'title': 'Chief Operating Officer',\n",
       "   'yearBorn': 1964,\n",
       "   'fiscalYear': 2023,\n",
       "   'totalPay': 4637585,\n",
       "   'exercisedValue': 0,\n",
       "   'unexercisedValue': 0},\n",
       "  {'maxAge': 1,\n",
       "   'name': 'Ms. Katherine L. Adams',\n",
       "   'age': 59,\n",
       "   'title': 'Senior VP, General Counsel & Secretary',\n",
       "   'yearBorn': 1964,\n",
       "   'fiscalYear': 2023,\n",
       "   'totalPay': 4618064,\n",
       "   'exercisedValue': 0,\n",
       "   'unexercisedValue': 0},\n",
       "  {'maxAge': 1,\n",
       "   'name': \"Ms. Deirdre  O'Brien\",\n",
       "   'age': 56,\n",
       "   'title': 'Senior Vice President of Retail',\n",
       "   'yearBorn': 1967,\n",
       "   'fiscalYear': 2023,\n",
       "   'totalPay': 4613369,\n",
       "   'exercisedValue': 0,\n",
       "   'unexercisedValue': 0},\n",
       "  {'maxAge': 1,\n",
       "   'name': 'Mr. Chris  Kondo',\n",
       "   'title': 'Senior Director of Corporate Accounting',\n",
       "   'fiscalYear': 2023,\n",
       "   'exercisedValue': 0,\n",
       "   'unexercisedValue': 0},\n",
       "  {'maxAge': 1,\n",
       "   'name': 'Mr. James  Wilson',\n",
       "   'title': 'Chief Technology Officer',\n",
       "   'fiscalYear': 2023,\n",
       "   'exercisedValue': 0,\n",
       "   'unexercisedValue': 0},\n",
       "  {'maxAge': 1,\n",
       "   'name': 'Suhasini  Chandramouli',\n",
       "   'title': 'Director of Investor Relations',\n",
       "   'fiscalYear': 2023,\n",
       "   'exercisedValue': 0,\n",
       "   'unexercisedValue': 0},\n",
       "  {'maxAge': 1,\n",
       "   'name': 'Mr. Greg  Joswiak',\n",
       "   'title': 'Senior Vice President of Worldwide Marketing',\n",
       "   'fiscalYear': 2023,\n",
       "   'exercisedValue': 0,\n",
       "   'unexercisedValue': 0},\n",
       "  {'maxAge': 1,\n",
       "   'name': 'Mr. Adrian  Perica',\n",
       "   'age': 49,\n",
       "   'title': 'Head of Corporate Development',\n",
       "   'yearBorn': 1974,\n",
       "   'fiscalYear': 2023,\n",
       "   'exercisedValue': 0,\n",
       "   'unexercisedValue': 0}],\n",
       " 'auditRisk': 6,\n",
       " 'boardRisk': 1,\n",
       " 'compensationRisk': 2,\n",
       " 'shareHolderRightsRisk': 1,\n",
       " 'overallRisk': 1,\n",
       " 'governanceEpochDate': 1725148800,\n",
       " 'compensationAsOfEpochDate': 1703980800,\n",
       " 'irWebsite': 'http://investor.apple.com/',\n",
       " 'maxAge': 86400,\n",
       " 'priceHint': 2,\n",
       " 'previousClose': 222.38,\n",
       " 'open': 223.95,\n",
       " 'dayLow': 219.77,\n",
       " 'dayHigh': 225.24,\n",
       " 'regularMarketPreviousClose': 222.38,\n",
       " 'regularMarketOpen': 223.95,\n",
       " 'regularMarketDayLow': 219.77,\n",
       " 'regularMarketDayHigh': 225.24,\n",
       " 'dividendRate': 1.0,\n",
       " 'dividendYield': 0.0045,\n",
       " 'exDividendDate': 1723420800,\n",
       " 'payoutRatio': 0.1476,\n",
       " 'fiveYearAvgDividendYield': 0.66,\n",
       " 'beta': 1.24,\n",
       " 'trailingPE': 33.661587,\n",
       " 'forwardPE': 29.52139,\n",
       " 'volume': 48423011,\n",
       " 'regularMarketVolume': 48423011,\n",
       " 'averageVolume': 63432124,\n",
       " 'averageVolume10days': 42719820,\n",
       " 'averageDailyVolume10Day': 42719820,\n",
       " 'bid': 220.78,\n",
       " 'ask': 220.92,\n",
       " 'bidSize': 200,\n",
       " 'askSize': 200,\n",
       " 'marketCap': 3357369434112,\n",
       " 'fiftyTwoWeekLow': 164.08,\n",
       " 'fiftyTwoWeekHigh': 237.23,\n",
       " 'priceToSalesTrailing12Months': 8.706803,\n",
       " 'fiftyDayAverage': 222.575,\n",
       " 'twoHundredDayAverage': 194.7666,\n",
       " 'trailingAnnualDividendRate': 0.97,\n",
       " 'trailingAnnualDividendYield': 0.0043619033,\n",
       " 'currency': 'USD',\n",
       " 'enterpriseValue': 3396880564224,\n",
       " 'profitMargins': 0.26441,\n",
       " 'floatShares': 15179810381,\n",
       " 'sharesOutstanding': 15204100096,\n",
       " 'sharesShort': 121598771,\n",
       " 'sharesShortPriorMonth': 135383184,\n",
       " 'sharesShortPreviousMonthDate': 1721001600,\n",
       " 'dateShortInterest': 1723680000,\n",
       " 'sharesPercentSharesOut': 0.008,\n",
       " 'heldPercentInsiders': 0.02703,\n",
       " 'heldPercentInstitutions': 0.60883,\n",
       " 'shortRatio': 2.19,\n",
       " 'shortPercentOfFloat': 0.008,\n",
       " 'impliedSharesOutstanding': 15309500416,\n",
       " 'bookValue': 4.382,\n",
       " 'priceToBook': 50.392517,\n",
       " 'lastFiscalYearEnd': 1696032000,\n",
       " 'nextFiscalYearEnd': 1727654400,\n",
       " 'mostRecentQuarter': 1719619200,\n",
       " 'earningsQuarterlyGrowth': 0.079,\n",
       " 'netIncomeToCommon': 101956001792,\n",
       " 'trailingEps': 6.56,\n",
       " 'forwardEps': 7.48,\n",
       " 'pegRatio': 2.97,\n",
       " 'lastSplitFactor': '4:1',\n",
       " 'lastSplitDate': 1598832000,\n",
       " 'enterpriseToRevenue': 8.809,\n",
       " 'enterpriseToEbitda': 25.777,\n",
       " '52WeekChange': 0.23115528,\n",
       " 'SandP52WeekChange': 0.20522964,\n",
       " 'lastDividendValue': 0.25,\n",
       " 'lastDividendDate': 1723420800,\n",
       " 'exchange': 'NMS',\n",
       " 'quoteType': 'EQUITY',\n",
       " 'symbol': 'AAPL',\n",
       " 'underlyingSymbol': 'AAPL',\n",
       " 'shortName': 'Apple Inc.',\n",
       " 'longName': 'Apple Inc.',\n",
       " 'firstTradeDateEpochUtc': 345479400,\n",
       " 'timeZoneFullName': 'America/New_York',\n",
       " 'timeZoneShortName': 'EDT',\n",
       " 'uuid': '8b10e4ae-9eeb-3684-921a-9ab27e4d87aa',\n",
       " 'messageBoardId': 'finmb_24937',\n",
       " 'gmtOffSetMilliseconds': -14400000,\n",
       " 'currentPrice': 220.82,\n",
       " 'targetHighPrice': 300.0,\n",
       " 'targetLowPrice': 183.86,\n",
       " 'targetMeanPrice': 240.2,\n",
       " 'targetMedianPrice': 243.0,\n",
       " 'recommendationMean': 2.0,\n",
       " 'recommendationKey': 'buy',\n",
       " 'numberOfAnalystOpinions': 40,\n",
       " 'totalCash': 61801000960,\n",
       " 'totalCashPerShare': 4.065,\n",
       " 'ebitda': 131781001216,\n",
       " 'totalDebt': 101304000512,\n",
       " 'quickRatio': 0.798,\n",
       " 'currentRatio': 0.953,\n",
       " 'totalRevenue': 385603010560,\n",
       " 'debtToEquity': 151.862,\n",
       " 'revenuePerShare': 24.957,\n",
       " 'returnOnAssets': 0.22612,\n",
       " 'returnOnEquity': 1.60583,\n",
       " 'freeCashflow': 86158123008,\n",
       " 'operatingCashflow': 113040998400,\n",
       " 'earningsGrowth': 0.111,\n",
       " 'revenueGrowth': 0.049,\n",
       " 'grossMargins': 0.45962003,\n",
       " 'ebitdaMargins': 0.34175,\n",
       " 'operatingMargins': 0.29556,\n",
       " 'financialCurrency': 'USD',\n",
       " 'trailingPegRatio': 2.1197}"
      ]
     },
     "execution_count": 7,
     "metadata": {},
     "output_type": "execute_result"
    }
   ],
   "source": [
    "data = yf.Ticker(\"AAPL\").info\n",
    "print(data.get('exchange'), \"NMS = NASDQ\")\n",
    "data"
   ]
  },
  {
   "cell_type": "code",
   "execution_count": 8,
   "metadata": {},
   "outputs": [
    {
     "name": "stderr",
     "output_type": "stream",
     "text": [
      "[*********************100%%**********************]  1 of 1 completed\n"
     ]
    },
    {
     "data": {
      "text/html": [
       "<div>\n",
       "<style scoped>\n",
       "    .dataframe tbody tr th:only-of-type {\n",
       "        vertical-align: middle;\n",
       "    }\n",
       "\n",
       "    .dataframe tbody tr th {\n",
       "        vertical-align: top;\n",
       "    }\n",
       "\n",
       "    .dataframe thead th {\n",
       "        text-align: right;\n",
       "    }\n",
       "</style>\n",
       "<table border=\"1\" class=\"dataframe\">\n",
       "  <thead>\n",
       "    <tr style=\"text-align: right;\">\n",
       "      <th></th>\n",
       "      <th>Open</th>\n",
       "      <th>High</th>\n",
       "      <th>Low</th>\n",
       "      <th>Close</th>\n",
       "      <th>Adj Close</th>\n",
       "      <th>Volume</th>\n",
       "    </tr>\n",
       "    <tr>\n",
       "      <th>Date</th>\n",
       "      <th></th>\n",
       "      <th></th>\n",
       "      <th></th>\n",
       "      <th></th>\n",
       "      <th></th>\n",
       "      <th></th>\n",
       "    </tr>\n",
       "  </thead>\n",
       "  <tbody>\n",
       "    <tr>\n",
       "      <th>1980-12-12</th>\n",
       "      <td>0.128</td>\n",
       "      <td>0.129</td>\n",
       "      <td>0.128</td>\n",
       "      <td>0.128</td>\n",
       "      <td>0.099</td>\n",
       "      <td>469033600</td>\n",
       "    </tr>\n",
       "    <tr>\n",
       "      <th>1980-12-15</th>\n",
       "      <td>0.122</td>\n",
       "      <td>0.122</td>\n",
       "      <td>0.122</td>\n",
       "      <td>0.122</td>\n",
       "      <td>0.094</td>\n",
       "      <td>175884800</td>\n",
       "    </tr>\n",
       "    <tr>\n",
       "      <th>1980-12-16</th>\n",
       "      <td>0.113</td>\n",
       "      <td>0.113</td>\n",
       "      <td>0.113</td>\n",
       "      <td>0.113</td>\n",
       "      <td>0.087</td>\n",
       "      <td>105728000</td>\n",
       "    </tr>\n",
       "    <tr>\n",
       "      <th>1980-12-17</th>\n",
       "      <td>0.116</td>\n",
       "      <td>0.116</td>\n",
       "      <td>0.116</td>\n",
       "      <td>0.116</td>\n",
       "      <td>0.089</td>\n",
       "      <td>86441600</td>\n",
       "    </tr>\n",
       "    <tr>\n",
       "      <th>1980-12-18</th>\n",
       "      <td>0.119</td>\n",
       "      <td>0.119</td>\n",
       "      <td>0.119</td>\n",
       "      <td>0.119</td>\n",
       "      <td>0.092</td>\n",
       "      <td>73449600</td>\n",
       "    </tr>\n",
       "    <tr>\n",
       "      <th>...</th>\n",
       "      <td>...</td>\n",
       "      <td>...</td>\n",
       "      <td>...</td>\n",
       "      <td>...</td>\n",
       "      <td>...</td>\n",
       "      <td>...</td>\n",
       "    </tr>\n",
       "    <tr>\n",
       "      <th>2024-08-30</th>\n",
       "      <td>230.190</td>\n",
       "      <td>230.400</td>\n",
       "      <td>227.480</td>\n",
       "      <td>229.000</td>\n",
       "      <td>229.000</td>\n",
       "      <td>52990800</td>\n",
       "    </tr>\n",
       "    <tr>\n",
       "      <th>2024-09-03</th>\n",
       "      <td>228.550</td>\n",
       "      <td>229.000</td>\n",
       "      <td>221.170</td>\n",
       "      <td>222.770</td>\n",
       "      <td>222.770</td>\n",
       "      <td>50190600</td>\n",
       "    </tr>\n",
       "    <tr>\n",
       "      <th>2024-09-04</th>\n",
       "      <td>221.660</td>\n",
       "      <td>221.780</td>\n",
       "      <td>217.480</td>\n",
       "      <td>220.850</td>\n",
       "      <td>220.850</td>\n",
       "      <td>43840200</td>\n",
       "    </tr>\n",
       "    <tr>\n",
       "      <th>2024-09-05</th>\n",
       "      <td>221.630</td>\n",
       "      <td>225.480</td>\n",
       "      <td>221.520</td>\n",
       "      <td>222.380</td>\n",
       "      <td>222.380</td>\n",
       "      <td>36615400</td>\n",
       "    </tr>\n",
       "    <tr>\n",
       "      <th>2024-09-06</th>\n",
       "      <td>223.950</td>\n",
       "      <td>225.240</td>\n",
       "      <td>219.770</td>\n",
       "      <td>220.820</td>\n",
       "      <td>220.820</td>\n",
       "      <td>48388600</td>\n",
       "    </tr>\n",
       "  </tbody>\n",
       "</table>\n",
       "<p>11025 rows × 6 columns</p>\n",
       "</div>"
      ],
      "text/plain": [
       "               Open     High      Low    Close  Adj Close     Volume\n",
       "Date                                                                \n",
       "1980-12-12    0.128    0.129    0.128    0.128      0.099  469033600\n",
       "1980-12-15    0.122    0.122    0.122    0.122      0.094  175884800\n",
       "1980-12-16    0.113    0.113    0.113    0.113      0.087  105728000\n",
       "1980-12-17    0.116    0.116    0.116    0.116      0.089   86441600\n",
       "1980-12-18    0.119    0.119    0.119    0.119      0.092   73449600\n",
       "...             ...      ...      ...      ...        ...        ...\n",
       "2024-08-30  230.190  230.400  227.480  229.000    229.000   52990800\n",
       "2024-09-03  228.550  229.000  221.170  222.770    222.770   50190600\n",
       "2024-09-04  221.660  221.780  217.480  220.850    220.850   43840200\n",
       "2024-09-05  221.630  225.480  221.520  222.380    222.380   36615400\n",
       "2024-09-06  223.950  225.240  219.770  220.820    220.820   48388600\n",
       "\n",
       "[11025 rows x 6 columns]"
      ]
     },
     "execution_count": 8,
     "metadata": {},
     "output_type": "execute_result"
    }
   ],
   "source": [
    "data = yf.download(\"AAPL\")\n",
    "data = data.round(3)\n",
    "data"
   ]
  },
  {
   "cell_type": "code",
   "execution_count": null,
   "metadata": {},
   "outputs": [],
   "source": []
  }
 ],
 "metadata": {
  "kernelspec": {
   "display_name": "base",
   "language": "python",
   "name": "python3"
  },
  "language_info": {
   "codemirror_mode": {
    "name": "ipython",
    "version": 3
   },
   "file_extension": ".py",
   "mimetype": "text/x-python",
   "name": "python",
   "nbconvert_exporter": "python",
   "pygments_lexer": "ipython3",
   "version": "3.12.3"
  }
 },
 "nbformat": 4,
 "nbformat_minor": 2
}
