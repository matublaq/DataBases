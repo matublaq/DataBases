{
 "cells": [
  {
   "cell_type": "code",
   "execution_count": 1,
   "metadata": {},
   "outputs": [],
   "source": [
    "import numpy as np\n",
    "import pandas as pd\n",
    "import matplotlib.pyplot as plt\n",
    "import sqlite3\n",
    "import shutil\n",
    "from datetime import datetime, timedelta\n",
    "\n",
    "import yfinance as yf"
   ]
  },
  {
   "cell_type": "markdown",
   "metadata": {},
   "source": [
    "<p style='text-align: center; color: skyblue; font-size: 50px;'>SQL</p>"
   ]
  },
  {
   "cell_type": "code",
   "execution_count": 2,
   "metadata": {},
   "outputs": [],
   "source": [
    "from SQL_functions import *"
   ]
  },
  {
   "cell_type": "markdown",
   "metadata": {},
   "source": [
    "All tickers"
   ]
  },
  {
   "cell_type": "code",
   "execution_count": 3,
   "metadata": {},
   "outputs": [
    {
     "name": "stdout",
     "output_type": "stream",
     "text": [
      "   ticker\n",
      "0    AAPL\n",
      "1    ABNB\n",
      "2    ADBE\n",
      "3    AMZN\n",
      "4   BRK-B\n",
      "5   GOOGL\n",
      "6    MELI\n",
      "7    META\n",
      "8    MSFT\n",
      "9    NVDA\n",
      "10    PEP\n",
      "11    SAN\n",
      "12   TSLA\n",
      "13    YPF\n"
     ]
    }
   ],
   "source": [
    "database = '../StockMarket.db' #../StockMarket.db #StockMarket_backup.db\n",
    "conn = sqlite3.connect('../StockMarket.db')\n",
    "\n",
    "all_tickers = pd.read_sql_query(\"SELECT ticker FROM Companies;\", conn)\n",
    "all_tickers.to_csv('tickers_backup.csv', index=False)\n",
    "print(all_tickers)\n",
    "\n",
    "conn.close()"
   ]
  },
  {
   "cell_type": "markdown",
   "metadata": {},
   "source": [
    "<p style='text-align: center; font-size: 30px; color: orange;'>Insertar, actualizar y eliminar datos</p>"
   ]
  },
  {
   "cell_type": "markdown",
   "metadata": {},
   "source": [
    "<p style='font-size: 25px; text-align: center; color: violet;'>Agregar empresa</p>"
   ]
  },
  {
   "cell_type": "code",
   "execution_count": 4,
   "metadata": {},
   "outputs": [
    {
     "data": {
      "text/plain": [
       "\"\\nadd_tickers = pd.read_csv('tickers_backup.csv')\\nfor ticker in add_tickers['ticker']:\\n    insert_company(ticker)\\n\""
      ]
     },
     "execution_count": 4,
     "metadata": {},
     "output_type": "execute_result"
    }
   ],
   "source": [
    "#Add all companies in the list (csv file)\n",
    "'''\n",
    "add_tickers = pd.read_csv('tickers_backup.csv')\n",
    "for ticker in add_tickers['ticker']:\n",
    "    insert_company(ticker)\n",
    "'''"
   ]
  },
  {
   "cell_type": "markdown",
   "metadata": {},
   "source": [
    "<p style='font-size: 25px; text-align: center; color: violet;'>Crear, eliminar, agregar datos, backup database</p>"
   ]
  },
  {
   "cell_type": "code",
   "execution_count": 5,
   "metadata": {},
   "outputs": [
    {
     "name": "stderr",
     "output_type": "stream",
     "text": [
      "[*********************100%%**********************]  1 of 1 completed\n",
      "c:\\Users\\matia\\OneDrive\\Documentos\\GitHub\\DataBases\\StockMarket\\SQL_functions.py:168: SettingWithCopyWarning: \n",
      "A value is trying to be set on a copy of a slice from a DataFrame.\n",
      "Try using .loc[row_indexer,col_indexer] = value instead\n",
      "\n",
      "See the caveats in the documentation: https://pandas.pydata.org/pandas-docs/stable/user_guide/indexing.html#returning-a-view-versus-a-copy\n",
      "  new_data['Date'] = new_data['Date'].dt.strftime('%Y-%m-%d')\n"
     ]
    },
    {
     "name": "stdout",
     "output_type": "stream",
     "text": [
      "[(1, '2024-08-19', 225.72000122070312, 225.99000549316406, 223.0399932861328, 225.88999938964844, 40687800), (1, '2024-08-20', 225.77000427246094, 227.1699981689453, 225.4499969482422, 226.50999450683594, 30299000), (1, '2024-08-21', 226.52000427246094, 227.97999572753906, 225.0500030517578, 226.39999389648438, 34765500), (1, '2024-08-22', 227.7899932861328, 228.33999633789062, 223.89999389648438, 224.52999877929688, 43695300), (1, '2024-08-23', 225.66000366210938, 228.22000122070312, 224.3300018310547, 226.83999633789062, 38677300), (1, '2024-08-26', 226.75999450683594, 227.27999877929688, 223.88999938964844, 227.17999267578125, 30602200), (1, '2024-08-27', 226.0, 228.85000610351562, 224.88999938964844, 228.02999877929688, 35934600), (1, '2024-08-28', 227.9199981689453, 229.86000061035156, 225.67999267578125, 226.49000549316406, 38052200), (1, '2024-08-29', 230.10000610351562, 232.9199981689453, 228.8800048828125, 229.7899932861328, 51906300), (1, '2024-08-30', 230.19000244140625, 230.39999389648438, 227.47999572753906, 229.0, 52958500)]\n"
     ]
    },
    {
     "name": "stderr",
     "output_type": "stream",
     "text": [
      "[*********************100%%**********************]  1 of 1 completed\n",
      "c:\\Users\\matia\\OneDrive\\Documentos\\GitHub\\DataBases\\StockMarket\\SQL_functions.py:168: SettingWithCopyWarning: \n",
      "A value is trying to be set on a copy of a slice from a DataFrame.\n",
      "Try using .loc[row_indexer,col_indexer] = value instead\n",
      "\n",
      "See the caveats in the documentation: https://pandas.pydata.org/pandas-docs/stable/user_guide/indexing.html#returning-a-view-versus-a-copy\n",
      "  new_data['Date'] = new_data['Date'].dt.strftime('%Y-%m-%d')\n"
     ]
    },
    {
     "name": "stdout",
     "output_type": "stream",
     "text": [
      "[(2, '2024-08-19', 116.93000030517578, 119.30000305175781, 116.44000244140625, 119.13999938964844, 4184700), (2, '2024-08-20', 118.94000244140625, 119.27999877929688, 117.17500305175781, 117.37999725341797, 3940000), (2, '2024-08-21', 118.04000091552734, 118.2699966430664, 116.69999694824219, 117.68000030517578, 5028500), (2, '2024-08-22', 117.68000030517578, 118.3949966430664, 115.30000305175781, 115.44999694824219, 4875500), (2, '2024-08-23', 116.63999938964844, 118.69999694824219, 116.37000274658203, 116.8499984741211, 4998400), (2, '2024-08-26', 116.8499984741211, 117.38999938964844, 115.3499984741211, 115.70999908447266, 4948200), (2, '2024-08-27', 115.30000305175781, 117.41999816894531, 115.16999816894531, 116.73999786376953, 3457400), (2, '2024-08-28', 116.0, 117.7300033569336, 115.76000213623047, 117.52999877929688, 3463700), (2, '2024-08-29', 118.16999816894531, 119.37999725341797, 116.41999816894531, 116.5999984741211, 3331000), (2, '2024-08-30', 116.94000244140625, 118.05000305175781, 116.29000091552734, 117.30999755859375, 3279300)]\n"
     ]
    },
    {
     "name": "stderr",
     "output_type": "stream",
     "text": [
      "[*********************100%%**********************]  1 of 1 completed\n",
      "c:\\Users\\matia\\OneDrive\\Documentos\\GitHub\\DataBases\\StockMarket\\SQL_functions.py:168: SettingWithCopyWarning: \n",
      "A value is trying to be set on a copy of a slice from a DataFrame.\n",
      "Try using .loc[row_indexer,col_indexer] = value instead\n",
      "\n",
      "See the caveats in the documentation: https://pandas.pydata.org/pandas-docs/stable/user_guide/indexing.html#returning-a-view-versus-a-copy\n",
      "  new_data['Date'] = new_data['Date'].dt.strftime('%Y-%m-%d')\n",
      "[*********************100%%**********************]  1 of 1 completed\n",
      "c:\\Users\\matia\\OneDrive\\Documentos\\GitHub\\DataBases\\StockMarket\\SQL_functions.py:168: SettingWithCopyWarning: \n",
      "A value is trying to be set on a copy of a slice from a DataFrame.\n",
      "Try using .loc[row_indexer,col_indexer] = value instead\n",
      "\n",
      "See the caveats in the documentation: https://pandas.pydata.org/pandas-docs/stable/user_guide/indexing.html#returning-a-view-versus-a-copy\n",
      "  new_data['Date'] = new_data['Date'].dt.strftime('%Y-%m-%d')\n"
     ]
    },
    {
     "name": "stdout",
     "output_type": "stream",
     "text": [
      "[(3, '2024-08-19', 550.5900268554688, 563.77001953125, 550.5900268554688, 563.1199951171875, 1423300), (3, '2024-08-20', 564.47998046875, 568.1799926757812, 559.6099853515625, 562.25, 1219600), (3, '2024-08-21', 562.1300048828125, 566.5999755859375, 557.9099731445312, 565.7899780273438, 1401700), (3, '2024-08-22', 567.0700073242188, 572.0, 555.6500244140625, 557.4400024414062, 1627700), (3, '2024-08-23', 565.4500122070312, 566.52001953125, 552.5, 558.2999877929688, 2023500), (3, '2024-08-26', 555.030029296875, 560.260009765625, 555.030029296875, 559.4400024414062, 1387500), (3, '2024-08-27', 554.4000244140625, 569.52001953125, 554.3400268554688, 567.8200073242188, 1404400), (3, '2024-08-28', 568.219970703125, 569.5900268554688, 557.6699829101562, 560.5399780273438, 1289700), (3, '2024-08-29', 567.0499877929688, 578.4000244140625, 567.0499877929688, 569.6300048828125, 1955600), (3, '2024-08-30', 572.2000122070312, 575.6500244140625, 568.2899780273438, 574.4099731445312, 1982200)]\n",
      "[(4, '2024-08-19', 177.63999938964844, 178.3000030517578, 176.16000366210938, 178.22000122070312, 31129800), (4, '2024-08-20', 177.9199981689453, 179.00999450683594, 177.42999267578125, 178.8800048828125, 26255200), (4, '2024-08-21', 179.9199981689453, 182.38999938964844, 178.88999938964844, 180.11000061035156, 35599100), (4, '2024-08-22', 181.3800048828125, 181.47000122070312, 175.67999267578125, 176.1300048828125, 32047500), (4, '2024-08-23', 177.33999633789062, 178.97000122070312, 175.24000549316406, 177.0399932861328, 29150100), (4, '2024-08-26', 176.6999969482422, 177.47000122070312, 174.3000030517578, 175.5, 22366200), (4, '2024-08-27', 174.14999389648438, 174.88999938964844, 172.25, 173.1199951171875, 29842000), (4, '2024-08-28', 173.69000244140625, 173.69000244140625, 168.9199981689453, 170.8000030517578, 29045000), (4, '2024-08-29', 173.22000122070312, 174.2899932861328, 170.80999755859375, 172.1199951171875, 26407800), (4, '2024-08-30', 172.77999877929688, 178.89999389648438, 172.60000610351562, 178.5, 43377700)]\n"
     ]
    },
    {
     "name": "stderr",
     "output_type": "stream",
     "text": [
      "[*********************100%%**********************]  1 of 1 completed\n",
      "c:\\Users\\matia\\OneDrive\\Documentos\\GitHub\\DataBases\\StockMarket\\SQL_functions.py:168: SettingWithCopyWarning: \n",
      "A value is trying to be set on a copy of a slice from a DataFrame.\n",
      "Try using .loc[row_indexer,col_indexer] = value instead\n",
      "\n",
      "See the caveats in the documentation: https://pandas.pydata.org/pandas-docs/stable/user_guide/indexing.html#returning-a-view-versus-a-copy\n",
      "  new_data['Date'] = new_data['Date'].dt.strftime('%Y-%m-%d')\n"
     ]
    },
    {
     "name": "stdout",
     "output_type": "stream",
     "text": [
      "[(5, '2024-08-19', 446.010009765625, 450.45001220703125, 445.7300109863281, 448.7699890136719, 3385300), (5, '2024-08-20', 449.29998779296875, 450.5, 446.3800048828125, 448.3599853515625, 2906500), (5, '2024-08-21', 449.8399963378906, 451.2799987792969, 443.8399963378906, 446.6000061035156, 3028500), (5, '2024-08-22', 446.29998779296875, 449.6000061035156, 444.6499938964844, 449.0299987792969, 3502800), (5, '2024-08-23', 450.0, 453.7200012207031, 448.80999755859375, 453.3800048828125, 2805400), (5, '2024-08-26', 455.30999755859375, 459.2699890136719, 453.3399963378906, 454.489990234375, 3575800), (5, '2024-08-27', 455.94000244140625, 462.1000061035156, 454.6199951171875, 460.6300048828125, 3764700), (5, '2024-08-28', 461.1700134277344, 466.6000061035156, 460.7799987792969, 464.5899963378906, 4838100), (5, '2024-08-29', 467.1099853515625, 469.8500061035156, 463.0, 468.3699951171875, 4459400), (5, '2024-08-30', 470.5199890136719, 476.95001220703125, 470.0, 475.9200134277344, 7458200)]\n"
     ]
    },
    {
     "name": "stderr",
     "output_type": "stream",
     "text": [
      "[*********************100%%**********************]  1 of 1 completed\n",
      "c:\\Users\\matia\\OneDrive\\Documentos\\GitHub\\DataBases\\StockMarket\\SQL_functions.py:168: SettingWithCopyWarning: \n",
      "A value is trying to be set on a copy of a slice from a DataFrame.\n",
      "Try using .loc[row_indexer,col_indexer] = value instead\n",
      "\n",
      "See the caveats in the documentation: https://pandas.pydata.org/pandas-docs/stable/user_guide/indexing.html#returning-a-view-versus-a-copy\n",
      "  new_data['Date'] = new_data['Date'].dt.strftime('%Y-%m-%d')\n"
     ]
    },
    {
     "name": "stdout",
     "output_type": "stream",
     "text": [
      "[(6, '2024-08-19', 165.27999877929688, 166.69000244140625, 164.25999450683594, 166.6699981689453, 22416200), (6, '2024-08-20', 166.89999389648438, 168.63999938964844, 166.82000732421875, 167.17999267578125, 18341500), (6, '2024-08-21', 165.14999389648438, 166.85000610351562, 164.6699981689453, 165.85000610351562, 22902000), (6, '2024-08-22', 167.25999450683594, 167.58999633789062, 163.30999755859375, 163.8000030517578, 22493300), (6, '2024-08-23', 164.72000122070312, 166.17999267578125, 163.8300018310547, 165.6199951171875, 13955700), (6, '2024-08-26', 166.3800048828125, 167.5500030517578, 164.4600067138672, 166.16000366210938, 14190400), (6, '2024-08-27', 165.83999633789062, 166.44000244140625, 164.4600067138672, 164.67999267578125, 11821900), (6, '2024-08-28', 165.0399932861328, 165.60000610351562, 161.52999877929688, 162.85000610351562, 16407400), (6, '2024-08-29', 164.30999755859375, 165.97000122070312, 160.25, 161.77999877929688, 19699800), (6, '2024-08-30', 162.6199951171875, 163.66000366210938, 161.69000244140625, 163.3800048828125, 22116800)]\n"
     ]
    },
    {
     "name": "stderr",
     "output_type": "stream",
     "text": [
      "[*********************100%%**********************]  1 of 1 completed\n",
      "c:\\Users\\matia\\OneDrive\\Documentos\\GitHub\\DataBases\\StockMarket\\SQL_functions.py:168: SettingWithCopyWarning: \n",
      "A value is trying to be set on a copy of a slice from a DataFrame.\n",
      "Try using .loc[row_indexer,col_indexer] = value instead\n",
      "\n",
      "See the caveats in the documentation: https://pandas.pydata.org/pandas-docs/stable/user_guide/indexing.html#returning-a-view-versus-a-copy\n",
      "  new_data['Date'] = new_data['Date'].dt.strftime('%Y-%m-%d')\n"
     ]
    },
    {
     "name": "stdout",
     "output_type": "stream",
     "text": [
      "[(7, '2024-08-19', 1989.6700439453125, 2029.989990234375, 1985.1700439453125, 2028.0, 402100), (7, '2024-08-20', 2020.0, 2027.780029296875, 2000.030029296875, 2005.6600341796875, 225600), (7, '2024-08-21', 2013.02001953125, 2015.4599609375, 1973.260009765625, 2007.4599609375, 238900), (7, '2024-08-22', 2000.199951171875, 2019.0, 1983.449951171875, 1988.8299560546875, 191500), (7, '2024-08-23', 2006.5, 2009.8199462890625, 1980.6199951171875, 2000.31005859375, 162700), (7, '2024-08-26', 1991.72998046875, 2007.6500244140625, 1978.0, 2004.699951171875, 181700), (7, '2024-08-27', 2002.989990234375, 2048.989990234375, 2002.989990234375, 2036.2099609375, 272400), (7, '2024-08-28', 2035.25, 2037.0, 1982.6800537109375, 1995.1700439453125, 251500), (7, '2024-08-29', 2003.469970703125, 2023.550048828125, 1994.989990234375, 2015.7900390625, 199200), (7, '2024-08-30', 2025.989990234375, 2064.760009765625, 2018.4100341796875, 2061.659912109375, 384400)]\n"
     ]
    },
    {
     "name": "stderr",
     "output_type": "stream",
     "text": [
      "[*********************100%%**********************]  1 of 1 completed\n",
      "c:\\Users\\matia\\OneDrive\\Documentos\\GitHub\\DataBases\\StockMarket\\SQL_functions.py:168: SettingWithCopyWarning: \n",
      "A value is trying to be set on a copy of a slice from a DataFrame.\n",
      "Try using .loc[row_indexer,col_indexer] = value instead\n",
      "\n",
      "See the caveats in the documentation: https://pandas.pydata.org/pandas-docs/stable/user_guide/indexing.html#returning-a-view-versus-a-copy\n",
      "  new_data['Date'] = new_data['Date'].dt.strftime('%Y-%m-%d')\n"
     ]
    },
    {
     "name": "stdout",
     "output_type": "stream",
     "text": [
      "[(8, '2024-08-19', 526.8699951171875, 531.6599731445312, 522.760009765625, 529.280029296875, 9879700), (8, '2024-08-20', 528.3499755859375, 531.0900268554688, 525.8800048828125, 526.72998046875, 7944400), (8, '2024-08-21', 527.1500244140625, 539.4000244140625, 526.9299926757812, 535.1599731445312, 13423300), (8, '2024-08-22', 537.0, 544.22998046875, 528.5900268554688, 531.9299926757812, 15708300), (8, '2024-08-23', 536.9199829101562, 539.8699951171875, 525.0599975585938, 528.0, 11323900), (8, '2024-08-26', 527.5999755859375, 528.0, 514.9500122070312, 521.1199951171875, 9584000), (8, '2024-08-27', 518.97998046875, 524.010009765625, 515.3099975585938, 519.0999755859375, 6282700), (8, '2024-08-28', 517.6699829101562, 521.0900268554688, 512.4500122070312, 516.780029296875, 9106100), (8, '2024-08-29', 519.0499877929688, 527.2000122070312, 515.6799926757812, 518.219970703125, 8317400), (8, '2024-08-30', 521.3499755859375, 523.5399780273438, 515.2000122070312, 521.3099975585938, 9153100)]\n"
     ]
    },
    {
     "name": "stderr",
     "output_type": "stream",
     "text": [
      "[*********************100%%**********************]  1 of 1 completed\n",
      "c:\\Users\\matia\\OneDrive\\Documentos\\GitHub\\DataBases\\StockMarket\\SQL_functions.py:168: SettingWithCopyWarning: \n",
      "A value is trying to be set on a copy of a slice from a DataFrame.\n",
      "Try using .loc[row_indexer,col_indexer] = value instead\n",
      "\n",
      "See the caveats in the documentation: https://pandas.pydata.org/pandas-docs/stable/user_guide/indexing.html#returning-a-view-versus-a-copy\n",
      "  new_data['Date'] = new_data['Date'].dt.strftime('%Y-%m-%d')\n"
     ]
    },
    {
     "name": "stdout",
     "output_type": "stream",
     "text": [
      "[(9, '2024-08-19', 418.9599914550781, 421.75, 416.4599914550781, 421.5299987792969, 15234000), (9, '2024-08-20', 421.70001220703125, 425.8599853515625, 421.6400146484375, 424.79998779296875, 16387600), (9, '2024-08-21', 424.0799865722656, 426.3999938964844, 421.7200012207031, 424.1400146484375, 16067300), (9, '2024-08-22', 424.3599853515625, 426.7900085449219, 414.6099853515625, 415.54998779296875, 19361900), (9, '2024-08-23', 416.9800109863281, 419.260009765625, 412.0899963378906, 416.7900085449219, 18493800), (9, '2024-08-26', 416.3699951171875, 417.2799987792969, 411.3399963378906, 413.489990234375, 13152800), (9, '2024-08-27', 412.8599853515625, 414.3599853515625, 410.25, 413.8399963378906, 13492900), (9, '2024-08-28', 414.8800048828125, 415.0, 407.30999755859375, 410.6000061035156, 14882700), (9, '2024-08-29', 414.94000244140625, 422.04998779296875, 410.6000061035156, 413.1199951171875, 17045200), (9, '2024-08-30', 415.6000061035156, 417.489990234375, 412.1300048828125, 417.1400146484375, 24298300)]\n"
     ]
    },
    {
     "name": "stderr",
     "output_type": "stream",
     "text": [
      "[*********************100%%**********************]  1 of 1 completed\n",
      "c:\\Users\\matia\\OneDrive\\Documentos\\GitHub\\DataBases\\StockMarket\\SQL_functions.py:168: SettingWithCopyWarning: \n",
      "A value is trying to be set on a copy of a slice from a DataFrame.\n",
      "Try using .loc[row_indexer,col_indexer] = value instead\n",
      "\n",
      "See the caveats in the documentation: https://pandas.pydata.org/pandas-docs/stable/user_guide/indexing.html#returning-a-view-versus-a-copy\n",
      "  new_data['Date'] = new_data['Date'].dt.strftime('%Y-%m-%d')\n"
     ]
    },
    {
     "name": "stdout",
     "output_type": "stream",
     "text": [
      "[(14, '2024-08-26', 129.57000732421875, 131.25999450683594, 124.37000274658203, 126.45999908447266, 331964700), (14, '2024-08-27', 125.05000305175781, 129.1999969482422, 123.87999725341797, 128.3000030517578, 303134600), (14, '2024-08-28', 128.1199951171875, 128.3300018310547, 122.63999938964844, 125.61000061035156, 448101100), (14, '2024-08-29', 121.36000061035156, 124.43000030517578, 116.70999908447266, 117.58999633789062, 453023300), (14, '2024-08-30', 119.52999877929688, 121.75, 117.22000122070312, 119.37000274658203, 333134200)]\n"
     ]
    },
    {
     "name": "stderr",
     "output_type": "stream",
     "text": [
      "[*********************100%%**********************]  1 of 1 completed\n",
      "c:\\Users\\matia\\OneDrive\\Documentos\\GitHub\\DataBases\\StockMarket\\SQL_functions.py:168: SettingWithCopyWarning: \n",
      "A value is trying to be set on a copy of a slice from a DataFrame.\n",
      "Try using .loc[row_indexer,col_indexer] = value instead\n",
      "\n",
      "See the caveats in the documentation: https://pandas.pydata.org/pandas-docs/stable/user_guide/indexing.html#returning-a-view-versus-a-copy\n",
      "  new_data['Date'] = new_data['Date'].dt.strftime('%Y-%m-%d')\n"
     ]
    },
    {
     "name": "stdout",
     "output_type": "stream",
     "text": [
      "[(10, '2024-08-19', 172.66000366210938, 173.97999572753906, 172.44000244140625, 173.82000732421875, 3521700), (10, '2024-08-20', 173.52999877929688, 176.02999877929688, 172.5, 175.85000610351562, 5330100), (10, '2024-08-21', 175.94000244140625, 176.82000732421875, 174.6199951171875, 175.2100067138672, 4020700), (10, '2024-08-22', 175.8300018310547, 176.0800018310547, 174.6999969482422, 175.74000549316406, 5265900), (10, '2024-08-23', 176.6300048828125, 176.67999267578125, 173.6699981689453, 175.8699951171875, 5283600), (10, '2024-08-26', 176.32000732421875, 176.83999633789062, 175.72999572753906, 175.97000122070312, 4146700), (10, '2024-08-27', 176.30999755859375, 176.8800048828125, 174.52000427246094, 175.3000030517578, 3520600), (10, '2024-08-28', 175.5500030517578, 175.74000549316406, 173.35000610351562, 173.9199981689453, 3915500), (10, '2024-08-29', 173.75999450683594, 173.9600067138672, 171.91000366210938, 172.08999633789062, 4654300), (10, '2024-08-30', 172.05999755859375, 173.55999755859375, 171.25, 172.8800048828125, 8677300)]\n"
     ]
    },
    {
     "name": "stderr",
     "output_type": "stream",
     "text": [
      "[*********************100%%**********************]  1 of 1 completed\n",
      "c:\\Users\\matia\\OneDrive\\Documentos\\GitHub\\DataBases\\StockMarket\\SQL_functions.py:168: SettingWithCopyWarning: \n",
      "A value is trying to be set on a copy of a slice from a DataFrame.\n",
      "Try using .loc[row_indexer,col_indexer] = value instead\n",
      "\n",
      "See the caveats in the documentation: https://pandas.pydata.org/pandas-docs/stable/user_guide/indexing.html#returning-a-view-versus-a-copy\n",
      "  new_data['Date'] = new_data['Date'].dt.strftime('%Y-%m-%d')\n"
     ]
    },
    {
     "name": "stdout",
     "output_type": "stream",
     "text": [
      "[(11, '2024-08-19', 4.710000038146973, 4.760000228881836, 4.710000038146973, 4.760000228881836, 2654500), (11, '2024-08-20', 4.710000038146973, 4.730000019073486, 4.690000057220459, 4.690000057220459, 1519300), (11, '2024-08-21', 4.739999771118164, 4.75, 4.71999979019165, 4.75, 1322100), (11, '2024-08-22', 4.75, 4.78000020980835, 4.739999771118164, 4.75, 2222100), (11, '2024-08-23', 4.78000020980835, 4.889999866485596, 4.78000020980835, 4.860000133514404, 2969100), (11, '2024-08-26', 4.829999923706055, 4.860000133514404, 4.809999942779541, 4.820000171661377, 1707500), (11, '2024-08-27', 4.949999809265137, 4.980000019073486, 4.940000057220459, 4.949999809265137, 2310400), (11, '2024-08-28', 4.960000038146973, 4.989999771118164, 4.940000057220459, 4.96999979019165, 2100400), (11, '2024-08-29', 5.010000228881836, 5.019999980926514, 4.940000057220459, 4.960000038146973, 2527900), (11, '2024-08-30', 4.960000038146973, 4.989999771118164, 4.949999809265137, 4.980000019073486, 1768000)]\n"
     ]
    },
    {
     "name": "stderr",
     "output_type": "stream",
     "text": [
      "[*********************100%%**********************]  1 of 1 completed\n",
      "c:\\Users\\matia\\OneDrive\\Documentos\\GitHub\\DataBases\\StockMarket\\SQL_functions.py:168: SettingWithCopyWarning: \n",
      "A value is trying to be set on a copy of a slice from a DataFrame.\n",
      "Try using .loc[row_indexer,col_indexer] = value instead\n",
      "\n",
      "See the caveats in the documentation: https://pandas.pydata.org/pandas-docs/stable/user_guide/indexing.html#returning-a-view-versus-a-copy\n",
      "  new_data['Date'] = new_data['Date'].dt.strftime('%Y-%m-%d')\n"
     ]
    },
    {
     "name": "stdout",
     "output_type": "stream",
     "text": [
      "[(12, '2024-08-19', 217.07000732421875, 222.97999572753906, 214.08999633789062, 222.72000122070312, 76435200), (12, '2024-08-20', 224.8800048828125, 228.22000122070312, 219.55999755859375, 221.10000610351562, 74001200), (12, '2024-08-21', 222.6699981689453, 224.66000366210938, 218.86000061035156, 223.27000427246094, 70146000), (12, '2024-08-22', 223.82000732421875, 224.8000030517578, 210.32000732421875, 210.66000366210938, 79514500), (12, '2024-08-23', 214.4600067138672, 221.47999572753906, 214.2100067138672, 220.32000732421875, 81525200), (12, '2024-08-26', 218.75, 219.08999633789062, 211.00999450683594, 213.2100067138672, 59301200), (12, '2024-08-27', 213.25, 215.66000366210938, 206.94000244140625, 209.2100067138672, 62821400), (12, '2024-08-28', 209.72000122070312, 211.83999633789062, 202.58999633789062, 205.75, 64116400), (12, '2024-08-29', 209.8000030517578, 214.88999938964844, 205.97000122070312, 206.27999877929688, 62308800), (12, '2024-08-30', 208.6300048828125, 214.57000732421875, 207.02999877929688, 214.11000061035156, 63246000)]\n"
     ]
    },
    {
     "name": "stderr",
     "output_type": "stream",
     "text": [
      "[*********************100%%**********************]  1 of 1 completed"
     ]
    },
    {
     "name": "stdout",
     "output_type": "stream",
     "text": [
      "[(13, '2024-08-19', 21.68000030517578, 21.8700008392334, 21.459999084472656, 21.790000915527344, 1613600), (13, '2024-08-20', 21.809999465942383, 22.100000381469727, 21.5, 21.639999389648438, 1062600), (13, '2024-08-21', 21.690000534057617, 21.700000762939453, 21.079999923706055, 21.1200008392334, 1031200), (13, '2024-08-22', 21.170000076293945, 21.170000076293945, 20.420000076293945, 20.68000030517578, 1073200), (13, '2024-08-23', 20.8700008392334, 21.329999923706055, 20.790000915527344, 21.06999969482422, 1429100), (13, '2024-08-26', 21.399999618530273, 21.479999542236328, 20.969999313354492, 21.31999969482422, 682500), (13, '2024-08-27', 21.190000534057617, 21.75, 21.049999237060547, 21.59000015258789, 754800), (13, '2024-08-28', 21.329999923706055, 21.84000015258789, 21.18000030517578, 21.729999542236328, 839300), (13, '2024-08-29', 21.84000015258789, 22.459999084472656, 21.549999237060547, 22.440000534057617, 1453500), (13, '2024-08-30', 23.0, 24.420000076293945, 22.959999084472656, 23.700000762939453, 4721400)]\n"
     ]
    },
    {
     "name": "stderr",
     "output_type": "stream",
     "text": [
      "\n",
      "c:\\Users\\matia\\OneDrive\\Documentos\\GitHub\\DataBases\\StockMarket\\SQL_functions.py:168: SettingWithCopyWarning: \n",
      "A value is trying to be set on a copy of a slice from a DataFrame.\n",
      "Try using .loc[row_indexer,col_indexer] = value instead\n",
      "\n",
      "See the caveats in the documentation: https://pandas.pydata.org/pandas-docs/stable/user_guide/indexing.html#returning-a-view-versus-a-copy\n",
      "  new_data['Date'] = new_data['Date'].dt.strftime('%Y-%m-%d')\n"
     ]
    },
    {
     "data": {
      "text/plain": [
       "\"Tickers updated \\n ['AAPL', 'ABNB', 'ADBE', 'AMZN', 'BRK-B', 'GOOGL', 'MELI', 'META', 'MSFT', 'NVDA', 'PEP', 'SAN', 'TSLA', 'YPF']\""
      ]
     },
     "execution_count": 5,
     "metadata": {},
     "output_type": "execute_result"
    }
   ],
   "source": [
    "databse = \"../StockMarket.db\"\n",
    "#database =  \"StockMarket_backup.db\" \n",
    "\n",
    "#create_database(database)\n",
    "\n",
    "#company_ticker = str(input('Enter the company ticker: '))\n",
    "#insert_company(company_ticker, database)\n",
    "\n",
    "#ticker = str(input(\"Enter the company ticker for delete in database: \"))\n",
    "#delete_company(ticker, database)\n",
    "\n",
    "#delete_database(database)\n",
    "#delete_data(database)\n",
    "\n",
    "#backup_database(\"../StockMarket.db\")\n",
    "\n",
    "#ticker = str(input(\"Enter the company ticker for update data: \"))\n",
    "#update_stock_quotes(ticker, database)\n",
    "\n",
    "#update_all_stock_quotes(database)"
   ]
  },
  {
   "cell_type": "markdown",
   "metadata": {},
   "source": [
    "---"
   ]
  },
  {
   "cell_type": "markdown",
   "metadata": {},
   "source": [
    "<p style=\"font-size: 50px; text-align: center;\">Desarrollo</p>"
   ]
  },
  {
   "cell_type": "code",
   "execution_count": null,
   "metadata": {},
   "outputs": [],
   "source": []
  },
  {
   "cell_type": "code",
   "execution_count": null,
   "metadata": {},
   "outputs": [],
   "source": []
  },
  {
   "cell_type": "markdown",
   "metadata": {},
   "source": [
    "---\n",
    "---"
   ]
  },
  {
   "cell_type": "code",
   "execution_count": 6,
   "metadata": {},
   "outputs": [
    {
     "name": "stdout",
     "output_type": "stream",
     "text": [
      "   id\n",
      "0   1\n"
     ]
    }
   ],
   "source": [
    "conn = sqlite3.connect('StockMarket_backup.db')\n",
    "cursor = conn.cursor()\n",
    "\n",
    "company_id = pd.read_sql_query(\"SELECT id FROM Companies WHERE ticker = ?\", conn, params=['AAPL'])\n",
    "\n",
    "conn.close()\n",
    "\n",
    "print(company_id)"
   ]
  },
  {
   "cell_type": "markdown",
   "metadata": {},
   "source": [
    "---\n",
    "---\n",
    "---"
   ]
  },
  {
   "cell_type": "code",
   "execution_count": 7,
   "metadata": {},
   "outputs": [
    {
     "name": "stdout",
     "output_type": "stream",
     "text": [
      "NMS NMS = NASDQ\n"
     ]
    },
    {
     "data": {
      "text/plain": [
       "{'address1': 'One Apple Park Way',\n",
       " 'city': 'Cupertino',\n",
       " 'state': 'CA',\n",
       " 'zip': '95014',\n",
       " 'country': 'United States',\n",
       " 'phone': '408 996 1010',\n",
       " 'website': 'https://www.apple.com',\n",
       " 'industry': 'Consumer Electronics',\n",
       " 'industryKey': 'consumer-electronics',\n",
       " 'industryDisp': 'Consumer Electronics',\n",
       " 'sector': 'Technology',\n",
       " 'sectorKey': 'technology',\n",
       " 'sectorDisp': 'Technology',\n",
       " 'longBusinessSummary': 'Apple Inc. designs, manufactures, and markets smartphones, personal computers, tablets, wearables, and accessories worldwide. The company offers iPhone, a line of smartphones; Mac, a line of personal computers; iPad, a line of multi-purpose tablets; and wearables, home, and accessories comprising AirPods, Apple TV, Apple Watch, Beats products, and HomePod. It also provides AppleCare support and cloud services; and operates various platforms, including the App Store that allow customers to discover and download applications and digital content, such as books, music, video, games, and podcasts. In addition, the company offers various services, such as Apple Arcade, a game subscription service; Apple Fitness+, a personalized fitness service; Apple Music, which offers users a curated listening experience with on-demand radio stations; Apple News+, a subscription news and magazine service; Apple TV+, which offers exclusive original content; Apple Card, a co-branded credit card; and Apple Pay, a cashless payment service, as well as licenses its intellectual property. The company serves consumers, and small and mid-sized businesses; and the education, enterprise, and government markets. It distributes third-party applications for its products through the App Store. The company also sells its products through its retail and online stores, and direct sales force; and third-party cellular network carriers, wholesalers, retailers, and resellers. Apple Inc. was founded in 1976 and is headquartered in Cupertino, California.',\n",
       " 'fullTimeEmployees': 161000,\n",
       " 'companyOfficers': [{'maxAge': 1,\n",
       "   'name': 'Mr. Timothy D. Cook',\n",
       "   'age': 62,\n",
       "   'title': 'CEO & Director',\n",
       "   'yearBorn': 1961,\n",
       "   'fiscalYear': 2023,\n",
       "   'totalPay': 16239562,\n",
       "   'exercisedValue': 0,\n",
       "   'unexercisedValue': 0},\n",
       "  {'maxAge': 1,\n",
       "   'name': 'Mr. Luca  Maestri',\n",
       "   'age': 60,\n",
       "   'title': 'CFO & Senior VP',\n",
       "   'yearBorn': 1963,\n",
       "   'fiscalYear': 2023,\n",
       "   'totalPay': 4612242,\n",
       "   'exercisedValue': 0,\n",
       "   'unexercisedValue': 0},\n",
       "  {'maxAge': 1,\n",
       "   'name': 'Mr. Jeffrey E. Williams',\n",
       "   'age': 59,\n",
       "   'title': 'Chief Operating Officer',\n",
       "   'yearBorn': 1964,\n",
       "   'fiscalYear': 2023,\n",
       "   'totalPay': 4637585,\n",
       "   'exercisedValue': 0,\n",
       "   'unexercisedValue': 0},\n",
       "  {'maxAge': 1,\n",
       "   'name': 'Ms. Katherine L. Adams',\n",
       "   'age': 59,\n",
       "   'title': 'Senior VP, General Counsel & Secretary',\n",
       "   'yearBorn': 1964,\n",
       "   'fiscalYear': 2023,\n",
       "   'totalPay': 4618064,\n",
       "   'exercisedValue': 0,\n",
       "   'unexercisedValue': 0},\n",
       "  {'maxAge': 1,\n",
       "   'name': \"Ms. Deirdre  O'Brien\",\n",
       "   'age': 56,\n",
       "   'title': 'Senior Vice President of Retail',\n",
       "   'yearBorn': 1967,\n",
       "   'fiscalYear': 2023,\n",
       "   'totalPay': 4613369,\n",
       "   'exercisedValue': 0,\n",
       "   'unexercisedValue': 0},\n",
       "  {'maxAge': 1,\n",
       "   'name': 'Mr. Chris  Kondo',\n",
       "   'title': 'Senior Director of Corporate Accounting',\n",
       "   'fiscalYear': 2023,\n",
       "   'exercisedValue': 0,\n",
       "   'unexercisedValue': 0},\n",
       "  {'maxAge': 1,\n",
       "   'name': 'Mr. James  Wilson',\n",
       "   'title': 'Chief Technology Officer',\n",
       "   'fiscalYear': 2023,\n",
       "   'exercisedValue': 0,\n",
       "   'unexercisedValue': 0},\n",
       "  {'maxAge': 1,\n",
       "   'name': 'Suhasini  Chandramouli',\n",
       "   'title': 'Director of Investor Relations',\n",
       "   'fiscalYear': 2023,\n",
       "   'exercisedValue': 0,\n",
       "   'unexercisedValue': 0},\n",
       "  {'maxAge': 1,\n",
       "   'name': 'Mr. Greg  Joswiak',\n",
       "   'title': 'Senior Vice President of Worldwide Marketing',\n",
       "   'fiscalYear': 2023,\n",
       "   'exercisedValue': 0,\n",
       "   'unexercisedValue': 0},\n",
       "  {'maxAge': 1,\n",
       "   'name': 'Mr. Adrian  Perica',\n",
       "   'age': 49,\n",
       "   'title': 'Head of Corporate Development',\n",
       "   'yearBorn': 1974,\n",
       "   'fiscalYear': 2023,\n",
       "   'exercisedValue': 0,\n",
       "   'unexercisedValue': 0}],\n",
       " 'auditRisk': 5,\n",
       " 'boardRisk': 1,\n",
       " 'compensationRisk': 4,\n",
       " 'shareHolderRightsRisk': 1,\n",
       " 'overallRisk': 1,\n",
       " 'governanceEpochDate': 1724803200,\n",
       " 'compensationAsOfEpochDate': 1703980800,\n",
       " 'irWebsite': 'http://investor.apple.com/',\n",
       " 'maxAge': 86400,\n",
       " 'priceHint': 2,\n",
       " 'previousClose': 229.79,\n",
       " 'open': 230.0,\n",
       " 'dayLow': 227.48,\n",
       " 'dayHigh': 230.4,\n",
       " 'regularMarketPreviousClose': 229.79,\n",
       " 'regularMarketOpen': 230.0,\n",
       " 'regularMarketDayLow': 227.48,\n",
       " 'regularMarketDayHigh': 230.4,\n",
       " 'dividendRate': 1.0,\n",
       " 'dividendYield': 0.0044,\n",
       " 'exDividendDate': 1723420800,\n",
       " 'payoutRatio': 0.1476,\n",
       " 'fiveYearAvgDividendYield': 0.66,\n",
       " 'beta': 1.244,\n",
       " 'trailingPE': 34.855404,\n",
       " 'forwardPE': 30.614973,\n",
       " 'volume': 52333542,\n",
       " 'regularMarketVolume': 52333542,\n",
       " 'averageVolume': 63487603,\n",
       " 'averageVolume10days': 39757870,\n",
       " 'averageDailyVolume10Day': 39757870,\n",
       " 'bid': 218.56,\n",
       " 'ask': 228.91,\n",
       " 'bidSize': 100,\n",
       " 'askSize': 100,\n",
       " 'marketCap': 3481738936320,\n",
       " 'fiftyTwoWeekLow': 164.08,\n",
       " 'fiftyTwoWeekHigh': 237.23,\n",
       " 'priceToSalesTrailing12Months': 9.029335,\n",
       " 'fiftyDayAverage': 221.5976,\n",
       " 'twoHundredDayAverage': 194.10675,\n",
       " 'trailingAnnualDividendRate': 0.97,\n",
       " 'trailingAnnualDividendYield': 0.0042212456,\n",
       " 'currency': 'USD',\n",
       " 'enterpriseValue': 3521250328576,\n",
       " 'profitMargins': 0.26441,\n",
       " 'floatShares': 15179810381,\n",
       " 'sharesOutstanding': 15204100096,\n",
       " 'sharesShort': 121598771,\n",
       " 'sharesShortPriorMonth': 135383184,\n",
       " 'sharesShortPreviousMonthDate': 1721001600,\n",
       " 'dateShortInterest': 1723680000,\n",
       " 'sharesPercentSharesOut': 0.008,\n",
       " 'heldPercentInsiders': 0.02703,\n",
       " 'heldPercentInstitutions': 0.60862,\n",
       " 'shortRatio': 2.19,\n",
       " 'shortPercentOfFloat': 0.008,\n",
       " 'impliedSharesOutstanding': 15256599552,\n",
       " 'bookValue': 4.382,\n",
       " 'priceToBook': 52.259243,\n",
       " 'lastFiscalYearEnd': 1696032000,\n",
       " 'nextFiscalYearEnd': 1727654400,\n",
       " 'mostRecentQuarter': 1719619200,\n",
       " 'earningsQuarterlyGrowth': 0.079,\n",
       " 'netIncomeToCommon': 101956001792,\n",
       " 'trailingEps': 6.57,\n",
       " 'forwardEps': 7.48,\n",
       " 'pegRatio': 3.09,\n",
       " 'lastSplitFactor': '4:1',\n",
       " 'lastSplitDate': 1598832000,\n",
       " 'enterpriseToRevenue': 9.132,\n",
       " 'enterpriseToEbitda': 26.72,\n",
       " '52WeekChange': 0.20716918,\n",
       " 'SandP52WeekChange': 0.2560848,\n",
       " 'lastDividendValue': 0.25,\n",
       " 'lastDividendDate': 1723420800,\n",
       " 'exchange': 'NMS',\n",
       " 'quoteType': 'EQUITY',\n",
       " 'symbol': 'AAPL',\n",
       " 'underlyingSymbol': 'AAPL',\n",
       " 'shortName': 'Apple Inc.',\n",
       " 'longName': 'Apple Inc.',\n",
       " 'firstTradeDateEpochUtc': 345479400,\n",
       " 'timeZoneFullName': 'America/New_York',\n",
       " 'timeZoneShortName': 'EDT',\n",
       " 'uuid': '8b10e4ae-9eeb-3684-921a-9ab27e4d87aa',\n",
       " 'messageBoardId': 'finmb_24937',\n",
       " 'gmtOffSetMilliseconds': -14400000,\n",
       " 'currentPrice': 229.0,\n",
       " 'targetHighPrice': 300.0,\n",
       " 'targetLowPrice': 183.86,\n",
       " 'targetMeanPrice': 236.86,\n",
       " 'targetMedianPrice': 240.0,\n",
       " 'recommendationMean': 2.0,\n",
       " 'recommendationKey': 'buy',\n",
       " 'numberOfAnalystOpinions': 39,\n",
       " 'totalCash': 61801000960,\n",
       " 'totalCashPerShare': 4.065,\n",
       " 'ebitda': 131781001216,\n",
       " 'totalDebt': 101304000512,\n",
       " 'quickRatio': 0.798,\n",
       " 'currentRatio': 0.953,\n",
       " 'totalRevenue': 385603010560,\n",
       " 'debtToEquity': 151.862,\n",
       " 'revenuePerShare': 24.957,\n",
       " 'returnOnAssets': 0.22612,\n",
       " 'returnOnEquity': 1.60583,\n",
       " 'freeCashflow': 86158123008,\n",
       " 'operatingCashflow': 113040998400,\n",
       " 'earningsGrowth': 0.111,\n",
       " 'revenueGrowth': 0.049,\n",
       " 'grossMargins': 0.45962003,\n",
       " 'ebitdaMargins': 0.34175,\n",
       " 'operatingMargins': 0.29556,\n",
       " 'financialCurrency': 'USD',\n",
       " 'trailingPegRatio': 2.2271}"
      ]
     },
     "execution_count": 7,
     "metadata": {},
     "output_type": "execute_result"
    }
   ],
   "source": [
    "data = yf.Ticker(\"AAPL\").info\n",
    "print(data.get('exchange'), \"NMS = NASDQ\")\n",
    "data"
   ]
  },
  {
   "cell_type": "code",
   "execution_count": 8,
   "metadata": {},
   "outputs": [
    {
     "name": "stderr",
     "output_type": "stream",
     "text": [
      "[*********************100%%**********************]  1 of 1 completed\n"
     ]
    },
    {
     "data": {
      "text/html": [
       "<div>\n",
       "<style scoped>\n",
       "    .dataframe tbody tr th:only-of-type {\n",
       "        vertical-align: middle;\n",
       "    }\n",
       "\n",
       "    .dataframe tbody tr th {\n",
       "        vertical-align: top;\n",
       "    }\n",
       "\n",
       "    .dataframe thead th {\n",
       "        text-align: right;\n",
       "    }\n",
       "</style>\n",
       "<table border=\"1\" class=\"dataframe\">\n",
       "  <thead>\n",
       "    <tr style=\"text-align: right;\">\n",
       "      <th></th>\n",
       "      <th>Open</th>\n",
       "      <th>High</th>\n",
       "      <th>Low</th>\n",
       "      <th>Close</th>\n",
       "      <th>Adj Close</th>\n",
       "      <th>Volume</th>\n",
       "    </tr>\n",
       "    <tr>\n",
       "      <th>Date</th>\n",
       "      <th></th>\n",
       "      <th></th>\n",
       "      <th></th>\n",
       "      <th></th>\n",
       "      <th></th>\n",
       "      <th></th>\n",
       "    </tr>\n",
       "  </thead>\n",
       "  <tbody>\n",
       "    <tr>\n",
       "      <th>1980-12-12</th>\n",
       "      <td>0.128348</td>\n",
       "      <td>0.128906</td>\n",
       "      <td>0.128348</td>\n",
       "      <td>0.128348</td>\n",
       "      <td>0.098943</td>\n",
       "      <td>469033600</td>\n",
       "    </tr>\n",
       "    <tr>\n",
       "      <th>1980-12-15</th>\n",
       "      <td>0.122210</td>\n",
       "      <td>0.122210</td>\n",
       "      <td>0.121652</td>\n",
       "      <td>0.121652</td>\n",
       "      <td>0.093781</td>\n",
       "      <td>175884800</td>\n",
       "    </tr>\n",
       "    <tr>\n",
       "      <th>1980-12-16</th>\n",
       "      <td>0.113281</td>\n",
       "      <td>0.113281</td>\n",
       "      <td>0.112723</td>\n",
       "      <td>0.112723</td>\n",
       "      <td>0.086898</td>\n",
       "      <td>105728000</td>\n",
       "    </tr>\n",
       "    <tr>\n",
       "      <th>1980-12-17</th>\n",
       "      <td>0.115513</td>\n",
       "      <td>0.116071</td>\n",
       "      <td>0.115513</td>\n",
       "      <td>0.115513</td>\n",
       "      <td>0.089049</td>\n",
       "      <td>86441600</td>\n",
       "    </tr>\n",
       "    <tr>\n",
       "      <th>1980-12-18</th>\n",
       "      <td>0.118862</td>\n",
       "      <td>0.119420</td>\n",
       "      <td>0.118862</td>\n",
       "      <td>0.118862</td>\n",
       "      <td>0.091630</td>\n",
       "      <td>73449600</td>\n",
       "    </tr>\n",
       "    <tr>\n",
       "      <th>...</th>\n",
       "      <td>...</td>\n",
       "      <td>...</td>\n",
       "      <td>...</td>\n",
       "      <td>...</td>\n",
       "      <td>...</td>\n",
       "      <td>...</td>\n",
       "    </tr>\n",
       "    <tr>\n",
       "      <th>2024-08-26</th>\n",
       "      <td>226.759995</td>\n",
       "      <td>227.279999</td>\n",
       "      <td>223.889999</td>\n",
       "      <td>227.179993</td>\n",
       "      <td>227.179993</td>\n",
       "      <td>30602200</td>\n",
       "    </tr>\n",
       "    <tr>\n",
       "      <th>2024-08-27</th>\n",
       "      <td>226.000000</td>\n",
       "      <td>228.850006</td>\n",
       "      <td>224.889999</td>\n",
       "      <td>228.029999</td>\n",
       "      <td>228.029999</td>\n",
       "      <td>35934600</td>\n",
       "    </tr>\n",
       "    <tr>\n",
       "      <th>2024-08-28</th>\n",
       "      <td>227.919998</td>\n",
       "      <td>229.860001</td>\n",
       "      <td>225.679993</td>\n",
       "      <td>226.490005</td>\n",
       "      <td>226.490005</td>\n",
       "      <td>38052200</td>\n",
       "    </tr>\n",
       "    <tr>\n",
       "      <th>2024-08-29</th>\n",
       "      <td>230.100006</td>\n",
       "      <td>232.919998</td>\n",
       "      <td>228.880005</td>\n",
       "      <td>229.789993</td>\n",
       "      <td>229.789993</td>\n",
       "      <td>51906300</td>\n",
       "    </tr>\n",
       "    <tr>\n",
       "      <th>2024-08-30</th>\n",
       "      <td>230.190002</td>\n",
       "      <td>230.399994</td>\n",
       "      <td>227.479996</td>\n",
       "      <td>229.000000</td>\n",
       "      <td>229.000000</td>\n",
       "      <td>52958500</td>\n",
       "    </tr>\n",
       "  </tbody>\n",
       "</table>\n",
       "<p>11021 rows × 6 columns</p>\n",
       "</div>"
      ],
      "text/plain": [
       "                  Open        High         Low       Close   Adj Close  \\\n",
       "Date                                                                     \n",
       "1980-12-12    0.128348    0.128906    0.128348    0.128348    0.098943   \n",
       "1980-12-15    0.122210    0.122210    0.121652    0.121652    0.093781   \n",
       "1980-12-16    0.113281    0.113281    0.112723    0.112723    0.086898   \n",
       "1980-12-17    0.115513    0.116071    0.115513    0.115513    0.089049   \n",
       "1980-12-18    0.118862    0.119420    0.118862    0.118862    0.091630   \n",
       "...                ...         ...         ...         ...         ...   \n",
       "2024-08-26  226.759995  227.279999  223.889999  227.179993  227.179993   \n",
       "2024-08-27  226.000000  228.850006  224.889999  228.029999  228.029999   \n",
       "2024-08-28  227.919998  229.860001  225.679993  226.490005  226.490005   \n",
       "2024-08-29  230.100006  232.919998  228.880005  229.789993  229.789993   \n",
       "2024-08-30  230.190002  230.399994  227.479996  229.000000  229.000000   \n",
       "\n",
       "               Volume  \n",
       "Date                   \n",
       "1980-12-12  469033600  \n",
       "1980-12-15  175884800  \n",
       "1980-12-16  105728000  \n",
       "1980-12-17   86441600  \n",
       "1980-12-18   73449600  \n",
       "...               ...  \n",
       "2024-08-26   30602200  \n",
       "2024-08-27   35934600  \n",
       "2024-08-28   38052200  \n",
       "2024-08-29   51906300  \n",
       "2024-08-30   52958500  \n",
       "\n",
       "[11021 rows x 6 columns]"
      ]
     },
     "execution_count": 8,
     "metadata": {},
     "output_type": "execute_result"
    }
   ],
   "source": [
    "data = yf.download(\"AAPL\")\n",
    "data"
   ]
  },
  {
   "cell_type": "code",
   "execution_count": null,
   "metadata": {},
   "outputs": [],
   "source": []
  }
 ],
 "metadata": {
  "kernelspec": {
   "display_name": "base",
   "language": "python",
   "name": "python3"
  },
  "language_info": {
   "codemirror_mode": {
    "name": "ipython",
    "version": 3
   },
   "file_extension": ".py",
   "mimetype": "text/x-python",
   "name": "python",
   "nbconvert_exporter": "python",
   "pygments_lexer": "ipython3",
   "version": "3.12.3"
  }
 },
 "nbformat": 4,
 "nbformat_minor": 2
}
