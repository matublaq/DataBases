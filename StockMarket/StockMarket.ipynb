{
 "cells": [
  {
   "cell_type": "code",
   "execution_count": 3,
   "metadata": {},
   "outputs": [],
   "source": [
    "import numpy as np\n",
    "import pandas as pd\n",
    "import matplotlib.pyplot as plt\n",
    "import sqlite3\n",
    "import shutil\n",
    "from datetime import datetime, timedelta\n",
    "\n",
    "import yfinance as yf"
   ]
  },
  {
   "cell_type": "markdown",
   "metadata": {},
   "source": [
    "<p style='text-align: center; color: skyblue; font-size: 50px;'>SQL</p>"
   ]
  },
  {
   "cell_type": "code",
   "execution_count": 4,
   "metadata": {},
   "outputs": [],
   "source": [
    "from SQL_functions import *"
   ]
  },
  {
   "cell_type": "markdown",
   "metadata": {},
   "source": [
    "All tickers"
   ]
  },
  {
   "cell_type": "code",
   "execution_count": 7,
   "metadata": {},
   "outputs": [
    {
     "name": "stdout",
     "output_type": "stream",
     "text": [
      "   ticker\n",
      "0    AAPL\n",
      "1    ABNB\n",
      "2    ADBE\n",
      "3    AMZN\n",
      "4   BRK-B\n",
      "5   GOOGL\n",
      "6    MELI\n",
      "7    META\n",
      "8    MSFT\n",
      "9    NVDA\n",
      "10    PEP\n",
      "11    SAN\n",
      "12   TSLA\n",
      "13    YPF\n"
     ]
    }
   ],
   "source": [
    "database = '../StockMarket.db' #../StockMarket.db #StockMarket_backup.db\n",
    "conn = sqlite3.connect('../StockMarket.db')\n",
    "\n",
    "all_tickers = pd.read_sql_query(\"SELECT ticker FROM Companies;\", conn)\n",
    "all_tickers.to_csv('tickers_backup.csv', index=False)\n",
    "print(all_tickers)\n",
    "\n",
    "conn.close()"
   ]
  },
  {
   "cell_type": "markdown",
   "metadata": {},
   "source": [
    "<p style='text-align: center; font-size: 30px; color: orange;'>Insertar, actualizar y eliminar datos</p>"
   ]
  },
  {
   "cell_type": "markdown",
   "metadata": {},
   "source": [
    "<p style='font-size: 25px; text-align: center; color: violet;'>Agregar empresa</p>"
   ]
  },
  {
   "cell_type": "code",
   "execution_count": 118,
   "metadata": {},
   "outputs": [
    {
     "name": "stderr",
     "output_type": "stream",
     "text": [
      "[*********************100%%**********************]  1 of 1 completed\n",
      "[*********************100%%**********************]  1 of 1 completed\n",
      "[*********************100%%**********************]  1 of 1 completed\n",
      "[*********************100%%**********************]  1 of 1 completed\n",
      "[*********************100%%**********************]  1 of 1 completed\n",
      "[*********************100%%**********************]  1 of 1 completed\n",
      "[*********************100%%**********************]  1 of 1 completed\n",
      "[*********************100%%**********************]  1 of 1 completed\n",
      "[*********************100%%**********************]  1 of 1 completed\n",
      "[*********************100%%**********************]  1 of 1 completed\n",
      "[*********************100%%**********************]  1 of 1 completed\n",
      "[*********************100%%**********************]  1 of 1 completed\n",
      "[*********************100%%**********************]  1 of 1 completed\n"
     ]
    }
   ],
   "source": [
    "#Add all companies in the list (csv file)\n",
    "'''\n",
    "add_tickers = pd.read_csv('tickers_backup.csv')\n",
    "for ticker in add_tickers['ticker']:\n",
    "    insert_company(ticker)\n",
    "'''"
   ]
  },
  {
   "cell_type": "markdown",
   "metadata": {},
   "source": [
    "<p style='font-size: 25px; text-align: center; color: violet;'>Crear, eliminar, agregar datos, backup database</p>"
   ]
  },
  {
   "cell_type": "code",
   "execution_count": 6,
   "metadata": {},
   "outputs": [],
   "source": [
    "#databse = \"../StockMarket.db\"\n",
    "database =  \"StockMarket_backup.db\" \n",
    "\n",
    "#create_database(database)\n",
    "\n",
    "#company_ticker = str(input('Enter the company ticker: '))\n",
    "#insert_company(company_ticker, database)\n",
    "\n",
    "#ticker = str(input(\"Enter the company ticker for delete in database: \"))\n",
    "#delete_company(ticker, database)\n",
    "\n",
    "#delete_database(database)\n",
    "#delete_data(database)\n",
    "\n",
    "#backup_database(\"../StockMarket.db\")\n"
   ]
  },
  {
   "cell_type": "markdown",
   "metadata": {},
   "source": [
    "<p style='font-size: 25px; text-align: center; color: violet;'>Actualizar base de datos</p>"
   ]
  },
  {
   "cell_type": "code",
   "execution_count": null,
   "metadata": {},
   "outputs": [],
   "source": [
    "#Requiere revision\n",
    "#update_stock_quotes(ticker, database)"
   ]
  },
  {
   "cell_type": "markdown",
   "metadata": {},
   "source": [
    "---\n",
    "---"
   ]
  },
  {
   "cell_type": "markdown",
   "metadata": {},
   "source": [
    "---\n",
    "---\n",
    "---"
   ]
  },
  {
   "cell_type": "code",
   "execution_count": null,
   "metadata": {},
   "outputs": [
    {
     "name": "stdout",
     "output_type": "stream",
     "text": [
      "NMS NMS = NASDQ\n"
     ]
    },
    {
     "data": {
      "text/plain": [
       "{'address1': 'One Apple Park Way',\n",
       " 'city': 'Cupertino',\n",
       " 'state': 'CA',\n",
       " 'zip': '95014',\n",
       " 'country': 'United States',\n",
       " 'phone': '408 996 1010',\n",
       " 'website': 'https://www.apple.com',\n",
       " 'industry': 'Consumer Electronics',\n",
       " 'industryKey': 'consumer-electronics',\n",
       " 'industryDisp': 'Consumer Electronics',\n",
       " 'sector': 'Technology',\n",
       " 'sectorKey': 'technology',\n",
       " 'sectorDisp': 'Technology',\n",
       " 'longBusinessSummary': 'Apple Inc. designs, manufactures, and markets smartphones, personal computers, tablets, wearables, and accessories worldwide. The company offers iPhone, a line of smartphones; Mac, a line of personal computers; iPad, a line of multi-purpose tablets; and wearables, home, and accessories comprising AirPods, Apple TV, Apple Watch, Beats products, and HomePod. It also provides AppleCare support and cloud services; and operates various platforms, including the App Store that allow customers to discover and download applications and digital content, such as books, music, video, games, and podcasts. In addition, the company offers various services, such as Apple Arcade, a game subscription service; Apple Fitness+, a personalized fitness service; Apple Music, which offers users a curated listening experience with on-demand radio stations; Apple News+, a subscription news and magazine service; Apple TV+, which offers exclusive original content; Apple Card, a co-branded credit card; and Apple Pay, a cashless payment service, as well as licenses its intellectual property. The company serves consumers, and small and mid-sized businesses; and the education, enterprise, and government markets. It distributes third-party applications for its products through the App Store. The company also sells its products through its retail and online stores, and direct sales force; and third-party cellular network carriers, wholesalers, retailers, and resellers. Apple Inc. was founded in 1976 and is headquartered in Cupertino, California.',\n",
       " 'fullTimeEmployees': 161000,\n",
       " 'companyOfficers': [{'maxAge': 1,\n",
       "   'name': 'Mr. Timothy D. Cook',\n",
       "   'age': 62,\n",
       "   'title': 'CEO & Director',\n",
       "   'yearBorn': 1961,\n",
       "   'fiscalYear': 2023,\n",
       "   'totalPay': 16239562,\n",
       "   'exercisedValue': 0,\n",
       "   'unexercisedValue': 0},\n",
       "  {'maxAge': 1,\n",
       "   'name': 'Mr. Luca  Maestri',\n",
       "   'age': 60,\n",
       "   'title': 'CFO & Senior VP',\n",
       "   'yearBorn': 1963,\n",
       "   'fiscalYear': 2023,\n",
       "   'totalPay': 4612242,\n",
       "   'exercisedValue': 0,\n",
       "   'unexercisedValue': 0},\n",
       "  {'maxAge': 1,\n",
       "   'name': 'Mr. Jeffrey E. Williams',\n",
       "   'age': 59,\n",
       "   'title': 'Chief Operating Officer',\n",
       "   'yearBorn': 1964,\n",
       "   'fiscalYear': 2023,\n",
       "   'totalPay': 4637585,\n",
       "   'exercisedValue': 0,\n",
       "   'unexercisedValue': 0},\n",
       "  {'maxAge': 1,\n",
       "   'name': 'Ms. Katherine L. Adams',\n",
       "   'age': 59,\n",
       "   'title': 'Senior VP, General Counsel & Secretary',\n",
       "   'yearBorn': 1964,\n",
       "   'fiscalYear': 2023,\n",
       "   'totalPay': 4618064,\n",
       "   'exercisedValue': 0,\n",
       "   'unexercisedValue': 0},\n",
       "  {'maxAge': 1,\n",
       "   'name': \"Ms. Deirdre  O'Brien\",\n",
       "   'age': 56,\n",
       "   'title': 'Senior Vice President of Retail',\n",
       "   'yearBorn': 1967,\n",
       "   'fiscalYear': 2023,\n",
       "   'totalPay': 4613369,\n",
       "   'exercisedValue': 0,\n",
       "   'unexercisedValue': 0},\n",
       "  {'maxAge': 1,\n",
       "   'name': 'Mr. Chris  Kondo',\n",
       "   'title': 'Senior Director of Corporate Accounting',\n",
       "   'fiscalYear': 2023,\n",
       "   'exercisedValue': 0,\n",
       "   'unexercisedValue': 0},\n",
       "  {'maxAge': 1,\n",
       "   'name': 'Mr. James  Wilson',\n",
       "   'title': 'Chief Technology Officer',\n",
       "   'fiscalYear': 2023,\n",
       "   'exercisedValue': 0,\n",
       "   'unexercisedValue': 0},\n",
       "  {'maxAge': 1,\n",
       "   'name': 'Suhasini  Chandramouli',\n",
       "   'title': 'Director of Investor Relations',\n",
       "   'fiscalYear': 2023,\n",
       "   'exercisedValue': 0,\n",
       "   'unexercisedValue': 0},\n",
       "  {'maxAge': 1,\n",
       "   'name': 'Mr. Greg  Joswiak',\n",
       "   'title': 'Senior Vice President of Worldwide Marketing',\n",
       "   'fiscalYear': 2023,\n",
       "   'exercisedValue': 0,\n",
       "   'unexercisedValue': 0},\n",
       "  {'maxAge': 1,\n",
       "   'name': 'Mr. Adrian  Perica',\n",
       "   'age': 49,\n",
       "   'title': 'Head of Corporate Development',\n",
       "   'yearBorn': 1974,\n",
       "   'fiscalYear': 2023,\n",
       "   'exercisedValue': 0,\n",
       "   'unexercisedValue': 0}],\n",
       " 'auditRisk': 6,\n",
       " 'boardRisk': 1,\n",
       " 'compensationRisk': 2,\n",
       " 'shareHolderRightsRisk': 1,\n",
       " 'overallRisk': 1,\n",
       " 'governanceEpochDate': 1722470400,\n",
       " 'compensationAsOfEpochDate': 1703980800,\n",
       " 'irWebsite': 'http://investor.apple.com/',\n",
       " 'maxAge': 86400,\n",
       " 'priceHint': 2,\n",
       " 'previousClose': 224.72,\n",
       " 'open': 223.92,\n",
       " 'dayLow': 223.6501,\n",
       " 'dayHigh': 225.02,\n",
       " 'regularMarketPreviousClose': 224.72,\n",
       " 'regularMarketOpen': 223.92,\n",
       " 'regularMarketDayLow': 223.6501,\n",
       " 'regularMarketDayHigh': 225.02,\n",
       " 'dividendRate': 1.0,\n",
       " 'dividendYield': 0.0045,\n",
       " 'exDividendDate': 1723420800,\n",
       " 'payoutRatio': 0.1476,\n",
       " 'fiveYearAvgDividendYield': 0.68,\n",
       " 'beta': 1.244,\n",
       " 'trailingPE': 34.157013,\n",
       " 'forwardPE': 29.955883,\n",
       " 'volume': 14094643,\n",
       " 'regularMarketVolume': 14094643,\n",
       " 'averageVolume': 65130295,\n",
       " 'averageVolume10days': 61813610,\n",
       " 'averageDailyVolume10Day': 61813610,\n",
       " 'bid': 223.95,\n",
       " 'ask': 224.22,\n",
       " 'bidSize': 100,\n",
       " 'askSize': 100,\n",
       " 'marketCap': 3406782791680,\n",
       " 'fiftyTwoWeekLow': 164.08,\n",
       " 'fiftyTwoWeekHigh': 237.23,\n",
       " 'priceToSalesTrailing12Months': 8.834949,\n",
       " 'fiftyDayAverage': 217.0224,\n",
       " 'twoHundredDayAverage': 191.4572,\n",
       " 'trailingAnnualDividendRate': 0.97,\n",
       " 'trailingAnnualDividendYield': 0.0043164827,\n",
       " 'currency': 'USD',\n",
       " 'enterpriseValue': 3456176750592,\n",
       " 'profitMargins': 0.26441,\n",
       " 'floatShares': 15179658339,\n",
       " 'sharesOutstanding': 15204100096,\n",
       " 'sharesShort': 117696224,\n",
       " 'sharesShortPriorMonth': 132235437,\n",
       " 'sharesShortPreviousMonthDate': 1719532800,\n",
       " 'dateShortInterest': 1722384000,\n",
       " 'sharesPercentSharesOut': 0.0077,\n",
       " 'heldPercentInsiders': 0.02703,\n",
       " 'heldPercentInstitutions': 0.60719,\n",
       " 'shortRatio': 2.25,\n",
       " 'shortPercentOfFloat': 0.0077,\n",
       " 'impliedSharesOutstanding': 15410899968,\n",
       " 'bookValue': 4.382,\n",
       " 'priceToBook': 51.134186,\n",
       " 'lastFiscalYearEnd': 1696032000,\n",
       " 'nextFiscalYearEnd': 1727654400,\n",
       " 'mostRecentQuarter': 1719619200,\n",
       " 'earningsQuarterlyGrowth': 0.079,\n",
       " 'netIncomeToCommon': 101956001792,\n",
       " 'trailingEps': 6.56,\n",
       " 'forwardEps': 7.48,\n",
       " 'pegRatio': 3.02,\n",
       " 'lastSplitFactor': '4:1',\n",
       " 'lastSplitDate': 1598832000,\n",
       " 'enterpriseToRevenue': 8.963,\n",
       " 'enterpriseToEbitda': 26.227,\n",
       " '52WeekChange': 0.28786755,\n",
       " 'SandP52WeekChange': 0.26855552,\n",
       " 'lastDividendValue': 0.25,\n",
       " 'lastDividendDate': 1723420800,\n",
       " 'exchange': 'NMS',\n",
       " 'quoteType': 'EQUITY',\n",
       " 'symbol': 'AAPL',\n",
       " 'underlyingSymbol': 'AAPL',\n",
       " 'shortName': 'Apple Inc.',\n",
       " 'longName': 'Apple Inc.',\n",
       " 'firstTradeDateEpochUtc': 345479400,\n",
       " 'timeZoneFullName': 'America/New_York',\n",
       " 'timeZoneShortName': 'EDT',\n",
       " 'uuid': '8b10e4ae-9eeb-3684-921a-9ab27e4d87aa',\n",
       " 'messageBoardId': 'finmb_24937',\n",
       " 'gmtOffSetMilliseconds': -14400000,\n",
       " 'currentPrice': 224.07,\n",
       " 'targetHighPrice': 300.0,\n",
       " 'targetLowPrice': 183.86,\n",
       " 'targetMeanPrice': 236.23,\n",
       " 'targetMedianPrice': 240.5,\n",
       " 'recommendationMean': 2.0,\n",
       " 'recommendationKey': 'buy',\n",
       " 'numberOfAnalystOpinions': 38,\n",
       " 'totalCash': 61801000960,\n",
       " 'totalCashPerShare': 4.065,\n",
       " 'ebitda': 131781001216,\n",
       " 'totalDebt': 101304000512,\n",
       " 'quickRatio': 0.798,\n",
       " 'currentRatio': 0.953,\n",
       " 'totalRevenue': 385603010560,\n",
       " 'debtToEquity': 151.862,\n",
       " 'revenuePerShare': 24.957,\n",
       " 'returnOnAssets': 0.22612,\n",
       " 'returnOnEquity': 1.60583,\n",
       " 'freeCashflow': 86158123008,\n",
       " 'operatingCashflow': 113040998400,\n",
       " 'earningsGrowth': 0.111,\n",
       " 'revenueGrowth': 0.049,\n",
       " 'grossMargins': 0.45962003,\n",
       " 'ebitdaMargins': 0.34175,\n",
       " 'operatingMargins': 0.29556,\n",
       " 'financialCurrency': 'USD',\n",
       " 'trailingPegRatio': 2.1854}"
      ]
     },
     "execution_count": 29,
     "metadata": {},
     "output_type": "execute_result"
    }
   ],
   "source": [
    "data = yf.Ticker(\"AAPL\").info\n",
    "print(data.get('exchange'), \"NMS = NASDQ\")\n",
    "data"
   ]
  }
 ],
 "metadata": {
  "kernelspec": {
   "display_name": "base",
   "language": "python",
   "name": "python3"
  },
  "language_info": {
   "codemirror_mode": {
    "name": "ipython",
    "version": 3
   },
   "file_extension": ".py",
   "mimetype": "text/x-python",
   "name": "python",
   "nbconvert_exporter": "python",
   "pygments_lexer": "ipython3",
   "version": "3.12.3"
  }
 },
 "nbformat": 4,
 "nbformat_minor": 2
}
